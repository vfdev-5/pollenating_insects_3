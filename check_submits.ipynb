{
 "cells": [
  {
   "cell_type": "markdown",
   "metadata": {},
   "source": [
    "# Notebook with commands to check submissions\n",
    "\n",
    "\n",
    "> Local testing (before submission)\n",
    "\n",
    "> It is important that you test your submission files before submitting them. For this we provide a unit test. Note that the test runs on your files in submissions/starting_kit, not on the classes defined in the cells of this notebook.\n",
    "\n",
    "> First `pip install ramp-workflow` or install it from the github repo. Make sure that the python files image_preprocessor.py and batch_classifier.py are in the submissions/starting_kit folder, and the data train.csv and test.csv are in data. If you haven't yet, download the images by executing python download_data.py. Then run\n",
    "\n",
    "> ``` ramp_test_submission ```\n",
    "\n",
    "> If it runs and prints training and test errors on each fold, then you can submit the code.\n",
    "\n",
    "> Note that reasonable models will take a long time to execute on machines with no GPUs. We suggest that you execute the starting kit on, e.g., a GPU-equipped AWS instance. You can set it up by following this tutorial.\n"
   ]
  },
  {
   "cell_type": "markdown",
   "metadata": {},
   "source": [
    "Install ramp-workflow"
   ]
  },
  {
   "cell_type": "code",
   "execution_count": 6,
   "metadata": {},
   "outputs": [
    {
     "name": "stdout",
     "output_type": "stream",
     "text": [
      "/usr/local/lib/python2.7/dist-packages/setuptools/dist.py:351: UserWarning: Normalizing '0.1.dev' to '0.1.dev0'\n",
      "  normalized_version,\n",
      "running install\n",
      "running bdist_egg\n",
      "running egg_info\n",
      "writing requirements to ramp_workflow.egg-info/requires.txt\n",
      "writing ramp_workflow.egg-info/PKG-INFO\n",
      "writing top-level names to ramp_workflow.egg-info/top_level.txt\n",
      "writing dependency_links to ramp_workflow.egg-info/dependency_links.txt\n",
      "writing entry points to ramp_workflow.egg-info/entry_points.txt\n",
      "reading manifest file 'ramp_workflow.egg-info/SOURCES.txt'\n",
      "writing manifest file 'ramp_workflow.egg-info/SOURCES.txt'\n",
      "installing library code to build/bdist.linux-x86_64/egg\n",
      "running install_lib\n",
      "running build_py\n",
      "copying rampwf/workflows/image_classifier.py -> build/lib.linux-x86_64-2.7/rampwf/workflows\n",
      "creating build/bdist.linux-x86_64/egg\n",
      "creating build/bdist.linux-x86_64/egg/rampwf\n",
      "creating build/bdist.linux-x86_64/egg/rampwf/workflows\n",
      "copying build/lib.linux-x86_64-2.7/rampwf/workflows/grid_feature_extractor.py -> build/bdist.linux-x86_64/egg/rampwf/workflows\n",
      "copying build/lib.linux-x86_64-2.7/rampwf/workflows/__init__.py -> build/bdist.linux-x86_64/egg/rampwf/workflows\n",
      "copying build/lib.linux-x86_64-2.7/rampwf/workflows/classifier.py -> build/bdist.linux-x86_64/egg/rampwf/workflows\n",
      "creating build/bdist.linux-x86_64/egg/rampwf/workflows/tests\n",
      "copying build/lib.linux-x86_64-2.7/rampwf/workflows/tests/__init__.py -> build/bdist.linux-x86_64/egg/rampwf/workflows/tests\n",
      "copying build/lib.linux-x86_64-2.7/rampwf/workflows/ts_feature_extractor.py -> build/bdist.linux-x86_64/egg/rampwf/workflows\n",
      "copying build/lib.linux-x86_64-2.7/rampwf/workflows/clusterer.py -> build/bdist.linux-x86_64/egg/rampwf/workflows\n",
      "copying build/lib.linux-x86_64-2.7/rampwf/workflows/feature_extractor_regressor.py -> build/bdist.linux-x86_64/egg/rampwf/workflows\n",
      "copying build/lib.linux-x86_64-2.7/rampwf/workflows/grid_feature_extractor_classifier.py -> build/bdist.linux-x86_64/egg/rampwf/workflows\n",
      "copying build/lib.linux-x86_64-2.7/rampwf/workflows/image_classifier.py -> build/bdist.linux-x86_64/egg/rampwf/workflows\n",
      "copying build/lib.linux-x86_64-2.7/rampwf/workflows/el_nino.py -> build/bdist.linux-x86_64/egg/rampwf/workflows\n",
      "copying build/lib.linux-x86_64-2.7/rampwf/workflows/feature_extractor.py -> build/bdist.linux-x86_64/egg/rampwf/workflows\n",
      "copying build/lib.linux-x86_64-2.7/rampwf/workflows/feature_extractor_classifier.py -> build/bdist.linux-x86_64/egg/rampwf/workflows\n",
      "copying build/lib.linux-x86_64-2.7/rampwf/workflows/drug_spectra.py -> build/bdist.linux-x86_64/egg/rampwf/workflows\n",
      "copying build/lib.linux-x86_64-2.7/rampwf/workflows/regressor.py -> build/bdist.linux-x86_64/egg/rampwf/workflows\n",
      "copying build/lib.linux-x86_64-2.7/rampwf/workflows/air_passengers.py -> build/bdist.linux-x86_64/egg/rampwf/workflows\n",
      "copying build/lib.linux-x86_64-2.7/rampwf/__init__.py -> build/bdist.linux-x86_64/egg/rampwf\n",
      "creating build/bdist.linux-x86_64/egg/rampwf/kits\n",
      "copying build/lib.linux-x86_64-2.7/rampwf/kits/base.py -> build/bdist.linux-x86_64/egg/rampwf/kits\n",
      "copying build/lib.linux-x86_64-2.7/rampwf/kits/__init__.py -> build/bdist.linux-x86_64/egg/rampwf/kits\n",
      "creating build/bdist.linux-x86_64/egg/rampwf/kits/tests\n",
      "copying build/lib.linux-x86_64-2.7/rampwf/kits/tests/__init__.py -> build/bdist.linux-x86_64/egg/rampwf/kits/tests\n",
      "copying build/lib.linux-x86_64-2.7/rampwf/kits/ramp_kit.py -> build/bdist.linux-x86_64/egg/rampwf/kits\n",
      "creating build/bdist.linux-x86_64/egg/rampwf/score_types\n",
      "copying build/lib.linux-x86_64-2.7/rampwf/score_types/base.py -> build/bdist.linux-x86_64/egg/rampwf/score_types\n",
      "copying build/lib.linux-x86_64-2.7/rampwf/score_types/macro_averaged_recall.py -> build/bdist.linux-x86_64/egg/rampwf/score_types\n",
      "copying build/lib.linux-x86_64-2.7/rampwf/score_types/__init__.py -> build/bdist.linux-x86_64/egg/rampwf/score_types\n",
      "creating build/bdist.linux-x86_64/egg/rampwf/score_types/tests\n",
      "copying build/lib.linux-x86_64-2.7/rampwf/score_types/tests/__init__.py -> build/bdist.linux-x86_64/egg/rampwf/score_types/tests\n",
      "copying build/lib.linux-x86_64-2.7/rampwf/score_types/f1_above.py -> build/bdist.linux-x86_64/egg/rampwf/score_types\n",
      "copying build/lib.linux-x86_64-2.7/rampwf/score_types/combined.py -> build/bdist.linux-x86_64/egg/rampwf/score_types\n",
      "copying build/lib.linux-x86_64-2.7/rampwf/score_types/roc_auc.py -> build/bdist.linux-x86_64/egg/rampwf/score_types\n",
      "copying build/lib.linux-x86_64-2.7/rampwf/score_types/brier_score.py -> build/bdist.linux-x86_64/egg/rampwf/score_types\n",
      "copying build/lib.linux-x86_64-2.7/rampwf/score_types/mare.py -> build/bdist.linux-x86_64/egg/rampwf/score_types\n",
      "copying build/lib.linux-x86_64-2.7/rampwf/score_types/rmse.py -> build/bdist.linux-x86_64/egg/rampwf/score_types\n",
      "copying build/lib.linux-x86_64-2.7/rampwf/score_types/classifier_base.py -> build/bdist.linux-x86_64/egg/rampwf/score_types\n",
      "copying build/lib.linux-x86_64-2.7/rampwf/score_types/make_combined.py -> build/bdist.linux-x86_64/egg/rampwf/score_types\n",
      "copying build/lib.linux-x86_64-2.7/rampwf/score_types/relative_rmse.py -> build/bdist.linux-x86_64/egg/rampwf/score_types\n",
      "copying build/lib.linux-x86_64-2.7/rampwf/score_types/classification_error.py -> build/bdist.linux-x86_64/egg/rampwf/score_types\n",
      "copying build/lib.linux-x86_64-2.7/rampwf/score_types/negative_log_likelihood.py -> build/bdist.linux-x86_64/egg/rampwf/score_types\n",
      "copying build/lib.linux-x86_64-2.7/rampwf/score_types/accuracy.py -> build/bdist.linux-x86_64/egg/rampwf/score_types\n",
      "copying build/lib.linux-x86_64-2.7/rampwf/score_types/clustering_efficiency.py -> build/bdist.linux-x86_64/egg/rampwf/score_types\n",
      "copying build/lib.linux-x86_64-2.7/rampwf/score_types/balanced_accuracy.py -> build/bdist.linux-x86_64/egg/rampwf/score_types\n",
      "creating build/bdist.linux-x86_64/egg/rampwf/cvs\n",
      "copying build/lib.linux-x86_64-2.7/rampwf/cvs/__init__.py -> build/bdist.linux-x86_64/egg/rampwf/cvs\n",
      "copying build/lib.linux-x86_64-2.7/rampwf/cvs/clustering.py -> build/bdist.linux-x86_64/egg/rampwf/cvs\n",
      "copying build/lib.linux-x86_64-2.7/rampwf/cvs/time_series.py -> build/bdist.linux-x86_64/egg/rampwf/cvs\n",
      "creating build/bdist.linux-x86_64/egg/rampwf/utils\n",
      "copying build/lib.linux-x86_64-2.7/rampwf/utils/__init__.py -> build/bdist.linux-x86_64/egg/rampwf/utils\n",
      "copying build/lib.linux-x86_64-2.7/rampwf/utils/command_line.py -> build/bdist.linux-x86_64/egg/rampwf/utils\n",
      "copying build/lib.linux-x86_64-2.7/rampwf/utils/testing.py -> build/bdist.linux-x86_64/egg/rampwf/utils\n",
      "creating build/bdist.linux-x86_64/egg/rampwf/prediction_types\n",
      "copying build/lib.linux-x86_64-2.7/rampwf/prediction_types/base.py -> build/bdist.linux-x86_64/egg/rampwf/prediction_types\n",
      "copying build/lib.linux-x86_64-2.7/rampwf/prediction_types/__init__.py -> build/bdist.linux-x86_64/egg/rampwf/prediction_types\n",
      "creating build/bdist.linux-x86_64/egg/rampwf/prediction_types/tests\n",
      "copying build/lib.linux-x86_64-2.7/rampwf/prediction_types/tests/test_mixed_predictions.py -> build/bdist.linux-x86_64/egg/rampwf/prediction_types/tests\n",
      "copying build/lib.linux-x86_64-2.7/rampwf/prediction_types/tests/__init__.py -> build/bdist.linux-x86_64/egg/rampwf/prediction_types/tests\n",
      "copying build/lib.linux-x86_64-2.7/rampwf/prediction_types/tests/test_regression_predictions.py -> build/bdist.linux-x86_64/egg/rampwf/prediction_types/tests\n",
      "copying build/lib.linux-x86_64-2.7/rampwf/prediction_types/tests/test_multiclass_predictions.py -> build/bdist.linux-x86_64/egg/rampwf/prediction_types/tests\n",
      "copying build/lib.linux-x86_64-2.7/rampwf/prediction_types/combined.py -> build/bdist.linux-x86_64/egg/rampwf/prediction_types\n",
      "copying build/lib.linux-x86_64-2.7/rampwf/prediction_types/multiclass.py -> build/bdist.linux-x86_64/egg/rampwf/prediction_types\n",
      "copying build/lib.linux-x86_64-2.7/rampwf/prediction_types/clustering.py -> build/bdist.linux-x86_64/egg/rampwf/prediction_types\n",
      "copying build/lib.linux-x86_64-2.7/rampwf/prediction_types/regression.py -> build/bdist.linux-x86_64/egg/rampwf/prediction_types\n",
      "byte-compiling build/bdist.linux-x86_64/egg/rampwf/workflows/grid_feature_extractor.py to grid_feature_extractor.pyc\n",
      "byte-compiling build/bdist.linux-x86_64/egg/rampwf/workflows/__init__.py to __init__.pyc\n",
      "byte-compiling build/bdist.linux-x86_64/egg/rampwf/workflows/classifier.py to classifier.pyc\n",
      "byte-compiling build/bdist.linux-x86_64/egg/rampwf/workflows/tests/__init__.py to __init__.pyc\n",
      "byte-compiling build/bdist.linux-x86_64/egg/rampwf/workflows/ts_feature_extractor.py to ts_feature_extractor.pyc\n",
      "byte-compiling build/bdist.linux-x86_64/egg/rampwf/workflows/clusterer.py to clusterer.pyc\n",
      "byte-compiling build/bdist.linux-x86_64/egg/rampwf/workflows/feature_extractor_regressor.py to feature_extractor_regressor.pyc\n"
     ]
    },
    {
     "name": "stdout",
     "output_type": "stream",
     "text": [
      "byte-compiling build/bdist.linux-x86_64/egg/rampwf/workflows/grid_feature_extractor_classifier.py to grid_feature_extractor_classifier.pyc\n",
      "byte-compiling build/bdist.linux-x86_64/egg/rampwf/workflows/image_classifier.py to image_classifier.pyc\n",
      "byte-compiling build/bdist.linux-x86_64/egg/rampwf/workflows/el_nino.py to el_nino.pyc\n",
      "byte-compiling build/bdist.linux-x86_64/egg/rampwf/workflows/feature_extractor.py to feature_extractor.pyc\n",
      "byte-compiling build/bdist.linux-x86_64/egg/rampwf/workflows/feature_extractor_classifier.py to feature_extractor_classifier.pyc\n",
      "byte-compiling build/bdist.linux-x86_64/egg/rampwf/workflows/drug_spectra.py to drug_spectra.pyc\n",
      "byte-compiling build/bdist.linux-x86_64/egg/rampwf/workflows/regressor.py to regressor.pyc\n",
      "byte-compiling build/bdist.linux-x86_64/egg/rampwf/workflows/air_passengers.py to air_passengers.pyc\n",
      "byte-compiling build/bdist.linux-x86_64/egg/rampwf/__init__.py to __init__.pyc\n",
      "byte-compiling build/bdist.linux-x86_64/egg/rampwf/kits/base.py to base.pyc\n",
      "byte-compiling build/bdist.linux-x86_64/egg/rampwf/kits/__init__.py to __init__.pyc\n",
      "byte-compiling build/bdist.linux-x86_64/egg/rampwf/kits/tests/__init__.py to __init__.pyc\n",
      "byte-compiling build/bdist.linux-x86_64/egg/rampwf/kits/ramp_kit.py to ramp_kit.pyc\n",
      "byte-compiling build/bdist.linux-x86_64/egg/rampwf/score_types/base.py to base.pyc\n",
      "byte-compiling build/bdist.linux-x86_64/egg/rampwf/score_types/macro_averaged_recall.py to macro_averaged_recall.pyc\n",
      "byte-compiling build/bdist.linux-x86_64/egg/rampwf/score_types/__init__.py to __init__.pyc\n",
      "byte-compiling build/bdist.linux-x86_64/egg/rampwf/score_types/tests/__init__.py to __init__.pyc\n",
      "byte-compiling build/bdist.linux-x86_64/egg/rampwf/score_types/f1_above.py to f1_above.pyc\n",
      "byte-compiling build/bdist.linux-x86_64/egg/rampwf/score_types/combined.py to combined.pyc\n",
      "byte-compiling build/bdist.linux-x86_64/egg/rampwf/score_types/roc_auc.py to roc_auc.pyc\n",
      "byte-compiling build/bdist.linux-x86_64/egg/rampwf/score_types/brier_score.py to brier_score.pyc\n",
      "byte-compiling build/bdist.linux-x86_64/egg/rampwf/score_types/mare.py to mare.pyc\n",
      "byte-compiling build/bdist.linux-x86_64/egg/rampwf/score_types/rmse.py to rmse.pyc\n",
      "byte-compiling build/bdist.linux-x86_64/egg/rampwf/score_types/classifier_base.py to classifier_base.pyc\n",
      "byte-compiling build/bdist.linux-x86_64/egg/rampwf/score_types/make_combined.py to make_combined.pyc\n",
      "byte-compiling build/bdist.linux-x86_64/egg/rampwf/score_types/relative_rmse.py to relative_rmse.pyc\n",
      "byte-compiling build/bdist.linux-x86_64/egg/rampwf/score_types/classification_error.py to classification_error.pyc\n",
      "byte-compiling build/bdist.linux-x86_64/egg/rampwf/score_types/negative_log_likelihood.py to negative_log_likelihood.pyc\n",
      "byte-compiling build/bdist.linux-x86_64/egg/rampwf/score_types/accuracy.py to accuracy.pyc\n",
      "byte-compiling build/bdist.linux-x86_64/egg/rampwf/score_types/clustering_efficiency.py to clustering_efficiency.pyc\n",
      "byte-compiling build/bdist.linux-x86_64/egg/rampwf/score_types/balanced_accuracy.py to balanced_accuracy.pyc\n",
      "byte-compiling build/bdist.linux-x86_64/egg/rampwf/cvs/__init__.py to __init__.pyc\n",
      "byte-compiling build/bdist.linux-x86_64/egg/rampwf/cvs/clustering.py to clustering.pyc\n",
      "byte-compiling build/bdist.linux-x86_64/egg/rampwf/cvs/time_series.py to time_series.pyc\n",
      "byte-compiling build/bdist.linux-x86_64/egg/rampwf/utils/__init__.py to __init__.pyc\n",
      "byte-compiling build/bdist.linux-x86_64/egg/rampwf/utils/command_line.py to command_line.pyc\n",
      "byte-compiling build/bdist.linux-x86_64/egg/rampwf/utils/testing.py to testing.pyc\n",
      "byte-compiling build/bdist.linux-x86_64/egg/rampwf/prediction_types/base.py to base.pyc\n",
      "byte-compiling build/bdist.linux-x86_64/egg/rampwf/prediction_types/__init__.py to __init__.pyc\n",
      "byte-compiling build/bdist.linux-x86_64/egg/rampwf/prediction_types/tests/test_mixed_predictions.py to test_mixed_predictions.pyc\n",
      "byte-compiling build/bdist.linux-x86_64/egg/rampwf/prediction_types/tests/__init__.py to __init__.pyc\n",
      "byte-compiling build/bdist.linux-x86_64/egg/rampwf/prediction_types/tests/test_regression_predictions.py to test_regression_predictions.pyc\n",
      "byte-compiling build/bdist.linux-x86_64/egg/rampwf/prediction_types/tests/test_multiclass_predictions.py to test_multiclass_predictions.pyc\n",
      "byte-compiling build/bdist.linux-x86_64/egg/rampwf/prediction_types/combined.py to combined.pyc\n",
      "byte-compiling build/bdist.linux-x86_64/egg/rampwf/prediction_types/multiclass.py to multiclass.pyc\n",
      "byte-compiling build/bdist.linux-x86_64/egg/rampwf/prediction_types/clustering.py to clustering.pyc\n",
      "byte-compiling build/bdist.linux-x86_64/egg/rampwf/prediction_types/regression.py to regression.pyc\n",
      "creating build/bdist.linux-x86_64/egg/EGG-INFO\n",
      "copying ramp_workflow.egg-info/PKG-INFO -> build/bdist.linux-x86_64/egg/EGG-INFO\n",
      "copying ramp_workflow.egg-info/SOURCES.txt -> build/bdist.linux-x86_64/egg/EGG-INFO\n",
      "copying ramp_workflow.egg-info/dependency_links.txt -> build/bdist.linux-x86_64/egg/EGG-INFO\n",
      "copying ramp_workflow.egg-info/entry_points.txt -> build/bdist.linux-x86_64/egg/EGG-INFO\n",
      "copying ramp_workflow.egg-info/not-zip-safe -> build/bdist.linux-x86_64/egg/EGG-INFO\n",
      "copying ramp_workflow.egg-info/requires.txt -> build/bdist.linux-x86_64/egg/EGG-INFO\n",
      "copying ramp_workflow.egg-info/top_level.txt -> build/bdist.linux-x86_64/egg/EGG-INFO\n",
      "creating 'dist/ramp_workflow-0.1.dev0-py2.7.egg' and adding 'build/bdist.linux-x86_64/egg' to it\n",
      "removing 'build/bdist.linux-x86_64/egg' (and everything under it)\n",
      "Processing ramp_workflow-0.1.dev0-py2.7.egg\n",
      "removing '/usr/local/lib/python2.7/dist-packages/ramp_workflow-0.1.dev0-py2.7.egg' (and everything under it)\n",
      "creating /usr/local/lib/python2.7/dist-packages/ramp_workflow-0.1.dev0-py2.7.egg\n",
      "Extracting ramp_workflow-0.1.dev0-py2.7.egg to /usr/local/lib/python2.7/dist-packages\n",
      "ramp-workflow 0.1.dev0 is already the active version in easy-install.pth\n",
      "Installing ramp_test_submission script to /usr/local/bin\n",
      "Installing ramp_convert_notebook script to /usr/local/bin\n",
      "Installing ramp_test_notebook script to /usr/local/bin\n",
      "\n",
      "Installed /usr/local/lib/python2.7/dist-packages/ramp_workflow-0.1.dev0-py2.7.egg\n",
      "Processing dependencies for ramp-workflow==0.1.dev0\n",
      "Searching for scikit-learn==0.19.0\n",
      "Best match: scikit-learn 0.19.0\n",
      "Adding scikit-learn 0.19.0 to easy-install.pth file\n",
      "\n",
      "Using /usr/local/lib/python2.7/dist-packages\n",
      "Searching for pandas==0.20.3\n",
      "Best match: pandas 0.20.3\n",
      "Adding pandas 0.20.3 to easy-install.pth file\n",
      "\n",
      "Using /usr/local/lib/python2.7/dist-packages\n",
      "Searching for scipy==0.19.1\n",
      "Best match: scipy 0.19.1\n",
      "Adding scipy 0.19.1 to easy-install.pth file\n",
      "\n",
      "Using /usr/local/lib/python2.7/dist-packages\n",
      "Searching for numpy==1.13.3\n",
      "Best match: numpy 1.13.3\n",
      "Adding numpy 1.13.3 to easy-install.pth file\n",
      "\n",
      "Using /usr/local/lib/python2.7/dist-packages\n",
      "Searching for python-dateutil==2.6.1\n",
      "Best match: python-dateutil 2.6.1\n",
      "Adding python-dateutil 2.6.1 to easy-install.pth file\n",
      "\n",
      "Using /usr/local/lib/python2.7/dist-packages\n",
      "Searching for pytz==2017.2\n",
      "Best match: pytz 2017.2\n",
      "Adding pytz 2017.2 to easy-install.pth file\n",
      "\n",
      "Using /usr/local/lib/python2.7/dist-packages\n",
      "Searching for six==1.11.0\n",
      "Best match: six 1.11.0\n",
      "Adding six 1.11.0 to easy-install.pth file\n",
      "\n",
      "Using /usr/local/lib/python2.7/dist-packages\n",
      "Finished processing dependencies for ramp-workflow==0.1.dev0\n",
      "Requirement already satisfied: imbalanced-learn in /usr/local/lib/python2.7/dist-packages\n",
      "Requirement already satisfied: numpy in /usr/local/lib/python2.7/dist-packages (from imbalanced-learn)\n",
      "Requirement already satisfied: scipy in /usr/local/lib/python2.7/dist-packages (from imbalanced-learn)\n",
      "Requirement already satisfied: scikit-learn in /usr/local/lib/python2.7/dist-packages (from imbalanced-learn)\n"
     ]
    }
   ],
   "source": [
    "!cd ../../ramp-workflow/ && python setup.py install\n",
    "!pip install imbalanced-learn"
   ]
  },
  {
   "cell_type": "markdown",
   "metadata": {},
   "source": [
    "Specific dependencies to `install.sh`\n",
    "\n"
   ]
  },
  {
   "cell_type": "code",
   "execution_count": 12,
   "metadata": {},
   "outputs": [
    {
     "name": "stdout",
     "output_type": "stream",
     "text": [
      "# A script that installs the starting kit, the environment to execute it,\r\n",
      "# and downloads the data\r\n",
      "\r\n",
      "wget http://developer.download.nvidia.com/compute/cuda/repos/ubuntu1604/x86_64/cuda-repo-ubuntu1604_8.0.61-1_amd64.deb\r\n",
      "sudo dpkg -i cuda-repo-ubuntu1604_8.0.61-1_amd64.deb\r\n",
      "sudo apt-get update\r\n",
      "sudo apt-get install -y cuda\r\n",
      "\r\n",
      "wget -q http://repo.continuum.io/miniconda/Miniconda-3.6.0-Linux-x86_64.sh -O miniconda.sh\r\n",
      "chmod +x miniconda.sh\r\n",
      "./miniconda.sh -b -p /home/ubuntu/miniconda\r\n",
      "export PATH=/home/ubuntu/miniconda/bin:$PATH\r\n",
      "sudo apt-get update\r\n",
      "sudo apt-get install --yes build-essential\r\n",
      "sudo apt-get install --yes unzip\r\n",
      "sudo apt-get install --yes screen\r\n",
      "conda update --yes --quiet conda\r\n",
      "\r\n",
      "conda install --yes numpy\r\n",
      "conda install --yes pandas\r\n",
      "conda install --yes scikit-learn\r\n",
      "conda install --yes scikit-image\r\n",
      "conda install --yes joblib\r\n",
      "conda install --yes cloudpickle\r\n",
      "conda install --yes gitpython\r\n",
      "\r\n",
      "\r\n",
      "\r\n",
      "# Clone starting kit and download data\r\n",
      "git clone https://github.com/ramp-kits/pollenating_insects_3\r\n",
      "cd pollenating_insects_3\r\n",
      "python download_data.py\r\n",
      "\r\n",
      "# Install keras, tensorflow, mxnet, and pytorch\r\n",
      "cd ~\r\n",
      "echo \"export PATH=\\$HOME/miniconda/bin:\\$PATH\" >> ~/.bashrc\r\n",
      "source ~/.bashrc\r\n",
      "pip install h5py==2.7.1\r\n",
      "pip install tensorflow-gpu==1.3.0\r\n",
      "pip install mxnet-cu80==0.11.0\r\n",
      "pip install keras==2.0.8\r\n",
      "pip install http://download.pytorch.org/whl/cu80/torch-0.2.0.post3-cp27-cp27mu-manylinux1_x86_64.whl \r\n",
      "pip install torchvision==0.1.9\r\n",
      "wget http://developer.download.nvidia.com/compute/machine-learning/repos/ubuntu1604/x86_64/libcudnn6_6.0.21-1+cuda8.0_amd64.deb\r\n",
      "sudo dpkg -i libcudnn6_6.0.21-1+cuda8.0_amd64.deb\r\n"
     ]
    }
   ],
   "source": [
    "!cat install.sh"
   ]
  },
  {
   "cell_type": "code",
   "execution_count": 21,
   "metadata": {},
   "outputs": [],
   "source": [
    "!rm user_install.sh\n",
    "!touch user_install.sh\n",
    "!echo \"pip install git+git://github.com/aleju/imgaug/\" >> user_install.sh\n",
    "!echo \"pip install git+git://github.com/farizrahman4u/keras-contrib\" >> user_install.sh\n",
    "!echo \"pip install opencv-python\" >> user_install.sh"
   ]
  },
  {
   "cell_type": "code",
   "execution_count": 22,
   "metadata": {},
   "outputs": [
    {
     "name": "stdout",
     "output_type": "stream",
     "text": [
      "pip install git+git://github.com/aleju/imgaug/\r\n",
      "pip install git+git://github.com/farizrahman4u/keras-contrib\r\n",
      "pip install opencv-python\r\n"
     ]
    }
   ],
   "source": [
    "!cat user_install.sh"
   ]
  },
  {
   "cell_type": "code",
   "execution_count": 23,
   "metadata": {
    "scrolled": true
   },
   "outputs": [
    {
     "name": "stdout",
     "output_type": "stream",
     "text": [
      "Collecting git+git://github.com/aleju/imgaug/\n",
      "  Cloning git://github.com/aleju/imgaug/ to /tmp/pip-7xkp89e8-build\n",
      "  Requirement already satisfied (use --upgrade to upgrade): imgaug==0.2.4 from git+git://github.com/aleju/imgaug/ in /usr/local/lib/python3.5/dist-packages\n",
      "Requirement already satisfied: scipy in /usr/local/lib/python3.5/dist-packages (from imgaug==0.2.4)\n",
      "Requirement already satisfied: scikit-image>=0.11.0 in /usr/local/lib/python3.5/dist-packages (from imgaug==0.2.4)\n",
      "Requirement already satisfied: numpy>=1.7.0 in /usr/local/lib/python3.5/dist-packages (from imgaug==0.2.4)\n",
      "Requirement already satisfied: six in /usr/local/lib/python3.5/dist-packages (from imgaug==0.2.4)\n",
      "Requirement already satisfied: matplotlib>=1.3.1 in /usr/local/lib/python3.5/dist-packages (from scikit-image>=0.11.0->imgaug==0.2.4)\n",
      "Requirement already satisfied: PyWavelets>=0.4.0 in /usr/local/lib/python3.5/dist-packages (from scikit-image>=0.11.0->imgaug==0.2.4)\n",
      "Requirement already satisfied: pillow>=2.1.0 in /usr/local/lib/python3.5/dist-packages (from scikit-image>=0.11.0->imgaug==0.2.4)\n",
      "Requirement already satisfied: networkx>=1.8 in /usr/local/lib/python3.5/dist-packages (from scikit-image>=0.11.0->imgaug==0.2.4)\n",
      "Requirement already satisfied: pytz in /usr/local/lib/python3.5/dist-packages (from matplotlib>=1.3.1->scikit-image>=0.11.0->imgaug==0.2.4)\n",
      "Requirement already satisfied: cycler>=0.10 in /usr/local/lib/python3.5/dist-packages (from matplotlib>=1.3.1->scikit-image>=0.11.0->imgaug==0.2.4)\n",
      "Requirement already satisfied: pyparsing!=2.0.0,!=2.0.4,!=2.1.2,!=2.1.6,>=1.5.6 in /usr/local/lib/python3.5/dist-packages (from matplotlib>=1.3.1->scikit-image>=0.11.0->imgaug==0.2.4)\n",
      "Requirement already satisfied: python-dateutil in /usr/local/lib/python3.5/dist-packages (from matplotlib>=1.3.1->scikit-image>=0.11.0->imgaug==0.2.4)\n",
      "Requirement already satisfied: olefile in /usr/local/lib/python3.5/dist-packages (from pillow>=2.1.0->scikit-image>=0.11.0->imgaug==0.2.4)\n",
      "Requirement already satisfied: decorator>=4.1.0 in /usr/local/lib/python3.5/dist-packages (from networkx>=1.8->scikit-image>=0.11.0->imgaug==0.2.4)\n",
      "Collecting git+git://github.com/farizrahman4u/keras-contrib\n",
      "  Cloning git://github.com/farizrahman4u/keras-contrib to /tmp/pip-q50r_oy2-build\n",
      "  Requirement already satisfied (use --upgrade to upgrade): keras-contrib==1.2.1 from git+git://github.com/farizrahman4u/keras-contrib in /usr/local/lib/python3.5/dist-packages\n",
      "Requirement already satisfied: keras in /usr/local/lib/python3.5/dist-packages (from keras-contrib==1.2.1)\n",
      "Requirement already satisfied: numpy>=1.9.1 in /usr/local/lib/python3.5/dist-packages (from keras->keras-contrib==1.2.1)\n",
      "Requirement already satisfied: pyyaml in /usr/local/lib/python3.5/dist-packages (from keras->keras-contrib==1.2.1)\n",
      "Requirement already satisfied: six>=1.9.0 in /usr/local/lib/python3.5/dist-packages (from keras->keras-contrib==1.2.1)\n",
      "Requirement already satisfied: scipy>=0.14 in /usr/local/lib/python3.5/dist-packages (from keras->keras-contrib==1.2.1)\n",
      "Requirement already satisfied: opencv-python in /usr/local/lib/python3.5/dist-packages\n",
      "Requirement already satisfied: numpy>=1.11.1 in /usr/local/lib/python3.5/dist-packages (from opencv-python)\n"
     ]
    }
   ],
   "source": [
    "!sh user_install.sh"
   ]
  },
  {
   "cell_type": "code",
   "execution_count": 4,
   "metadata": {},
   "outputs": [
    {
     "name": "stdout",
     "output_type": "stream",
     "text": [
      "Collecting git+git://github.com/aleju/imgaug/\n",
      "  Cloning git://github.com/aleju/imgaug/ to /tmp/pip-hs6o2xkz-build\n",
      "  Requirement already satisfied (use --upgrade to upgrade): imgaug==0.2.4 from git+git://github.com/aleju/imgaug/ in /usr/local/lib/python3.5/dist-packages\n",
      "Requirement already satisfied: scipy in /usr/local/lib/python3.5/dist-packages (from imgaug==0.2.4)\n",
      "Requirement already satisfied: scikit-image>=0.11.0 in /usr/local/lib/python3.5/dist-packages (from imgaug==0.2.4)\n",
      "Requirement already satisfied: numpy>=1.7.0 in /usr/local/lib/python3.5/dist-packages (from imgaug==0.2.4)\n",
      "Requirement already satisfied: six in /usr/local/lib/python3.5/dist-packages (from imgaug==0.2.4)\n",
      "Requirement already satisfied: matplotlib>=1.3.1 in /usr/local/lib/python3.5/dist-packages (from scikit-image>=0.11.0->imgaug==0.2.4)\n",
      "Requirement already satisfied: pillow>=2.1.0 in /usr/local/lib/python3.5/dist-packages (from scikit-image>=0.11.0->imgaug==0.2.4)\n",
      "Requirement already satisfied: PyWavelets>=0.4.0 in /usr/local/lib/python3.5/dist-packages (from scikit-image>=0.11.0->imgaug==0.2.4)\n",
      "Requirement already satisfied: networkx>=1.8 in /usr/local/lib/python3.5/dist-packages (from scikit-image>=0.11.0->imgaug==0.2.4)\n",
      "Requirement already satisfied: pyparsing!=2.0.0,!=2.0.4,!=2.1.2,!=2.1.6,>=1.5.6 in /usr/local/lib/python3.5/dist-packages (from matplotlib>=1.3.1->scikit-image>=0.11.0->imgaug==0.2.4)\n",
      "Requirement already satisfied: cycler>=0.10 in /usr/local/lib/python3.5/dist-packages (from matplotlib>=1.3.1->scikit-image>=0.11.0->imgaug==0.2.4)\n",
      "Requirement already satisfied: pytz in /usr/local/lib/python3.5/dist-packages (from matplotlib>=1.3.1->scikit-image>=0.11.0->imgaug==0.2.4)\n",
      "Requirement already satisfied: python-dateutil in /usr/local/lib/python3.5/dist-packages (from matplotlib>=1.3.1->scikit-image>=0.11.0->imgaug==0.2.4)\n",
      "Requirement already satisfied: olefile in /usr/local/lib/python3.5/dist-packages (from pillow>=2.1.0->scikit-image>=0.11.0->imgaug==0.2.4)\n",
      "Requirement already satisfied: decorator>=4.1.0 in /usr/local/lib/python3.5/dist-packages (from networkx>=1.8->scikit-image>=0.11.0->imgaug==0.2.4)\n",
      "Collecting git+git://github.com/farizrahman4u/keras-contrib\n",
      "  Cloning git://github.com/farizrahman4u/keras-contrib to /tmp/pip-t3jbfbid-build\n",
      "Requirement already satisfied: keras in /usr/local/lib/python3.5/dist-packages (from keras-contrib==1.2.1)\n",
      "Requirement already satisfied: six>=1.9.0 in /usr/local/lib/python3.5/dist-packages (from keras->keras-contrib==1.2.1)\n",
      "Requirement already satisfied: numpy>=1.9.1 in /usr/local/lib/python3.5/dist-packages (from keras->keras-contrib==1.2.1)\n",
      "Requirement already satisfied: pyyaml in /usr/local/lib/python3.5/dist-packages (from keras->keras-contrib==1.2.1)\n",
      "Requirement already satisfied: scipy>=0.14 in /usr/local/lib/python3.5/dist-packages (from keras->keras-contrib==1.2.1)\n",
      "Installing collected packages: keras-contrib\n",
      "  Running setup.py install for keras-contrib ... \u001b[?25ldone\n",
      "\u001b[?25hSuccessfully installed keras-contrib-1.2.1\n"
     ]
    }
   ],
   "source": [
    "!pip install git+git://github.com/aleju/imgaug/\n",
    "!pip install git+git://github.com/farizrahman4u/keras-contrib"
   ]
  },
  {
   "cell_type": "code",
   "execution_count": null,
   "metadata": {},
   "outputs": [],
   "source": []
  },
  {
   "cell_type": "code",
   "execution_count": null,
   "metadata": {},
   "outputs": [],
   "source": []
  },
  {
   "cell_type": "code",
   "execution_count": null,
   "metadata": {},
   "outputs": [],
   "source": []
  },
  {
   "cell_type": "code",
   "execution_count": null,
   "metadata": {},
   "outputs": [],
   "source": []
  },
  {
   "cell_type": "code",
   "execution_count": 2,
   "metadata": {},
   "outputs": [],
   "source": [
    "import os"
   ]
  },
  {
   "cell_type": "code",
   "execution_count": 7,
   "metadata": {},
   "outputs": [
    {
     "name": "stdout",
     "output_type": "stream",
     "text": [
      "^C\r\n"
     ]
    }
   ],
   "source": [
    "submission='keras_cnns_pretrained'\n",
    "!ramp_test_submission --submission {submission} > submissions/{submission}/log_20171001_1114 2>&1"
   ]
  },
  {
   "cell_type": "code",
   "execution_count": null,
   "metadata": {},
   "outputs": [],
   "source": [
    "os.environ['LOCAL_TESTING'] = ''\n",
    "\n",
    "submission='keras_densenet_pretrained'\n",
    "!ramp_test_submission --submission {submission} > submissions/{submission}/log 2>&1"
   ]
  },
  {
   "cell_type": "code",
   "execution_count": null,
   "metadata": {},
   "outputs": [],
   "source": []
  },
  {
   "cell_type": "code",
   "execution_count": 12,
   "metadata": {},
   "outputs": [],
   "source": [
    "os.environ['LOCAL_TESTING'] = ''\n",
    "\n",
    "submission='keras_vgg16_finetunning_imbalanced'\n",
    "!ramp_test_submission --submission {submission} > submissions/{submission}/log_2 2>&1"
   ]
  },
  {
   "cell_type": "code",
   "execution_count": null,
   "metadata": {},
   "outputs": [],
   "source": []
  },
  {
   "cell_type": "code",
   "execution_count": 1,
   "metadata": {},
   "outputs": [
    {
     "name": "stdout",
     "output_type": "stream",
     "text": [
      "^C\r\n"
     ]
    }
   ],
   "source": [
    "submission='keras_vgg16_finetunning_imbalanced'\n",
    "!ramp_test_submission --submission {submission} > submissions/{submission}/log_3 2>&1"
   ]
  },
  {
   "cell_type": "code",
   "execution_count": null,
   "metadata": {},
   "outputs": [],
   "source": []
  },
  {
   "cell_type": "code",
   "execution_count": null,
   "metadata": {},
   "outputs": [],
   "source": [
    "import os\n",
    "from datetime import datetime\n",
    "now = datetime.now()\n",
    "os.environ['LOCAL_TESTING'] = ''\n",
    "\n",
    "submission='keras_vgg16_finetunning_imbalanced2'\n",
    "!ramp_test_submission --submission {submission} > submissions/{submission}/log_{now.strftime(\"%Y-%m-%d-%H-%M\")} 2>&1"
   ]
  },
  {
   "cell_type": "code",
   "execution_count": null,
   "metadata": {},
   "outputs": [],
   "source": []
  },
  {
   "cell_type": "code",
   "execution_count": null,
   "metadata": {},
   "outputs": [],
   "source": [
    "import os\n",
    "from datetime import datetime\n",
    "now = datetime.now()\n",
    "os.environ['LOCAL_TESTING'] = ''\n",
    "os.environ['LOGS_PATH'] = '/home/working_directory/ml/ramp-kits/pollenating_insects_3/logs_2017-10-03-16-05'\n",
    "\n",
    "submission='keras_inceptionResNetV2_finetunning_imbalanced'\n",
    "!ramp_test_submission --submission {submission} > submissions/{submission}/log_{now.strftime(\"%Y-%m-%d-%H-%M\")} 2>&1"
   ]
  },
  {
   "cell_type": "code",
   "execution_count": null,
   "metadata": {},
   "outputs": [],
   "source": []
  },
  {
   "cell_type": "code",
   "execution_count": null,
   "metadata": {},
   "outputs": [],
   "source": []
  },
  {
   "cell_type": "code",
   "execution_count": null,
   "metadata": {},
   "outputs": [],
   "source": []
  },
  {
   "cell_type": "code",
   "execution_count": null,
   "metadata": {},
   "outputs": [],
   "source": []
  },
  {
   "cell_type": "markdown",
   "metadata": {},
   "source": [
    "\n",
    "keras_cnns_pretrained\n",
    "```\n",
    "Testing Pollenating insect classification (403 classes)\n",
    "Reading train and test files from ./data ...\n",
    "Reading cv ...\n",
    "Training ./submissions/keras_cnns_pretrained ...\n",
    "Using TensorFlow backend.\n",
    "2017-09-27 17:35:50.188879: W tensorflow/core/platform/cpu_feature_guard.cc:45] The TensorFlow library wasn't compiled to use SSE4.1 instructions, but these are available on your machine and could speed up CPU computations.\n",
    "2017-09-27 17:35:50.188911: W tensorflow/core/platform/cpu_feature_guard.cc:45] The TensorFlow library wasn't compiled to use SSE4.2 instructions, but these are available on your machine and could speed up CPU computations.\n",
    "2017-09-27 17:35:50.188919: W tensorflow/core/platform/cpu_feature_guard.cc:45] The TensorFlow library wasn't compiled to use AVX instructions, but these are available on your machine and could speed up CPU computations.\n",
    "2017-09-27 17:35:50.188924: W tensorflow/core/platform/cpu_feature_guard.cc:45] The TensorFlow library wasn't compiled to use AVX2 instructions, but these are available on your machine and could speed up CPU computations.\n",
    "2017-09-27 17:35:50.188929: W tensorflow/core/platform/cpu_feature_guard.cc:45] The TensorFlow library wasn't compiled to use FMA instructions, but these are available on your machine and could speed up CPU computations.\n",
    "2017-09-27 17:35:50.450137: I tensorflow/core/common_runtime/gpu/gpu_device.cc:940] Found device 0 with properties: \n",
    "name: GeForce GTX 1080 Ti\n",
    "major: 6 minor: 1 memoryClockRate (GHz) 1.582\n",
    "pciBusID 0000:02:00.0\n",
    "Total memory: 10.91GiB\n",
    "Free memory: 10.76GiB\n",
    "2017-09-27 17:35:50.450169: I tensorflow/core/common_runtime/gpu/gpu_device.cc:961] DMA: 0 \n",
    "2017-09-27 17:35:50.450177: I tensorflow/core/common_runtime/gpu/gpu_device.cc:971] 0:   Y \n",
    "2017-09-27 17:35:50.450185: I tensorflow/core/common_runtime/gpu/gpu_device.cc:1030] Creating TensorFlow device (/gpu:0) -> (device: 0, name: GeForce GTX 1080 Ti, pci bus id: 0000:02:00.0)\n",
    "Epoch 1/10\n",
    "937/937 [==============================] - 905s - loss: 3.9015 - acc: 0.3134 - f170: 0.0304 - val_loss: 2.6043 - val_acc: 0.4752 - val_f170: 0.0515\n",
    "Epoch 2/10\n",
    "937/937 [==============================] - 852s - loss: 2.1751 - acc: 0.5314 - f170: 0.0608 - val_loss: 1.7654 - val_acc: 0.6000 - val_f170: 0.0714\n",
    "Epoch 3/10\n",
    "937/937 [==============================] - 851s - loss: 1.6272 - acc: 0.6234 - f170: 0.0745 - val_loss: 1.4456 - val_acc: 0.6589 - val_f170: 0.0804\n",
    "Epoch 4/10\n",
    "937/937 [==============================] - 852s - loss: 1.3837 - acc: 0.6730 - f170: 0.0830 - val_loss: 1.2546 - val_acc: 0.6986 - val_f170: 0.0872\n",
    "Epoch 5/10\n",
    "937/937 [==============================] - 850s - loss: 1.2342 - acc: 0.7043 - f170: 0.0884 - val_loss: 1.1365 - val_acc: 0.7239 - val_f170: 0.0928\n",
    "Epoch 6/10\n",
    "937/937 [==============================] - 857s - loss: 1.1198 - acc: 0.7283 - f170: 0.0930 - val_loss: 1.0205 - val_acc: 0.7544 - val_f170: 0.0977\n",
    "Epoch 7/10\n",
    "937/937 [==============================] - 857s - loss: 1.0232 - acc: 0.7509 - f170: 0.0970 - val_loss: 0.9213 - val_acc: 0.7772 - val_f170: 0.1013\n",
    "Epoch 8/10\n",
    "937/937 [==============================] - 862s - loss: 0.9392 - acc: 0.7711 - f170: 0.1010 - val_loss: 0.8166 - val_acc: 0.7975 - val_f170: 0.1055\n",
    "Epoch 9/10\n",
    "937/937 [==============================] - 853s - loss: 0.8805 - acc: 0.7830 - f170: 0.1034 - val_loss: 0.7671 - val_acc: 0.8052 - val_f170: 0.1076\n",
    "Epoch 10/10\n",
    "937/937 [==============================] - 860s - loss: 0.8063 - acc: 0.7981 - f170: 0.1063 - val_loss: 0.7330 - val_acc: 0.8168 - val_f170: 0.1091\n",
    "CV fold 0\n",
    "\ttrain accuracy = 0.529\n",
    "\tvalid accuracy = 0.344\n",
    "\ttest accuracy = 0.346\n",
    "\ttrain nll = 1.91\n",
    "\tvalid nll = 3.092\n",
    "\ttest nll = 3.103\n",
    "\ttrain f170 = 0.355\n",
    "/usr/local/lib/python3.5/dist-packages/sklearn/metrics/classification.py:1135: UndefinedMetricWarning: F-score is ill-defined and being set to 0.0 in labels with no predicted samples.\n",
    "  'precision', 'predicted', average, warn_for)\n",
    "\tvalid f170 = 0.032\n",
    "\ttest f170 = 0.02\n",
    "----------------------------\n",
    "Traceback (most recent call last):\n",
    "  File \"/usr/local/bin/ramp_test_submission\", line 11, in <module>\n",
    "    load_entry_point('ramp-workflow==0.1.dev0', 'console_scripts', 'ramp_test_submission')()\n",
    "  File \"/usr/local/lib/python3.5/dist-packages/ramp_workflow-0.1.dev0-py3.5.egg/rampwf/utils/command_line.py\", line 51, in ramp_test_submission\n",
    "    submission=sub)\n",
    "  File \"/usr/local/lib/python3.5/dist-packages/ramp_workflow-0.1.dev0-py3.5.egg/rampwf/utils/testing.py\", line 174, in assert_submission\n",
    "    round(std, score_type.precision + 1)))\n",
    "UnicodeEncodeError: 'ascii' codec can't encode character '\\xb1' in position 23: ordinal not in range(128)\n",
    "```"
   ]
  },
  {
   "cell_type": "code",
   "execution_count": null,
   "metadata": {},
   "outputs": [],
   "source": []
  }
 ],
 "metadata": {
  "kernelspec": {
   "display_name": "Python 2",
   "language": "python",
   "name": "python2"
  },
  "language_info": {
   "codemirror_mode": {
    "name": "ipython",
    "version": 2
   },
   "file_extension": ".py",
   "mimetype": "text/x-python",
   "name": "python",
   "nbconvert_exporter": "python",
   "pygments_lexer": "ipython2",
   "version": "2.7.12"
  }
 },
 "nbformat": 4,
 "nbformat_minor": 2
}
