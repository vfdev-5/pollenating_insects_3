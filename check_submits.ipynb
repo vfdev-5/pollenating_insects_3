{
 "cells": [
  {
   "cell_type": "markdown",
   "metadata": {},
   "source": [
    "# Notebook with commands to check submissions\n",
    "\n",
    "\n",
    "> Local testing (before submission)\n",
    "\n",
    "> It is important that you test your submission files before submitting them. For this we provide a unit test. Note that the test runs on your files in submissions/starting_kit, not on the classes defined in the cells of this notebook.\n",
    "\n",
    "> First `pip install ramp-workflow` or install it from the github repo. Make sure that the python files image_preprocessor.py and batch_classifier.py are in the submissions/starting_kit folder, and the data train.csv and test.csv are in data. If you haven't yet, download the images by executing python download_data.py. Then run\n",
    "\n",
    "> ``` ramp_test_submission ```\n",
    "\n",
    "> If it runs and prints training and test errors on each fold, then you can submit the code.\n",
    "\n",
    "> Note that reasonable models will take a long time to execute on machines with no GPUs. We suggest that you execute the starting kit on, e.g., a GPU-equipped AWS instance. You can set it up by following this tutorial.\n"
   ]
  },
  {
   "cell_type": "markdown",
   "metadata": {},
   "source": [
    "Install ramp-workflow"
   ]
  },
  {
   "cell_type": "code",
   "execution_count": 1,
   "metadata": {},
   "outputs": [
    {
     "name": "stdout",
     "output_type": "stream",
     "text": [
      "/usr/local/lib/python2.7/dist-packages/setuptools/dist.py:351: UserWarning: Normalizing '0.1.dev' to '0.1.dev0'\n",
      "  normalized_version,\n",
      "running install\n",
      "running bdist_egg\n",
      "running egg_info\n",
      "writing requirements to ramp_workflow.egg-info/requires.txt\n",
      "writing ramp_workflow.egg-info/PKG-INFO\n",
      "writing top-level names to ramp_workflow.egg-info/top_level.txt\n",
      "writing dependency_links to ramp_workflow.egg-info/dependency_links.txt\n",
      "writing entry points to ramp_workflow.egg-info/entry_points.txt\n",
      "reading manifest file 'ramp_workflow.egg-info/SOURCES.txt'\n",
      "writing manifest file 'ramp_workflow.egg-info/SOURCES.txt'\n",
      "installing library code to build/bdist.linux-x86_64/egg\n",
      "running install_lib\n",
      "running build_py\n",
      "creating build/bdist.linux-x86_64/egg\n",
      "creating build/bdist.linux-x86_64/egg/rampwf\n",
      "creating build/bdist.linux-x86_64/egg/rampwf/workflows\n",
      "copying build/lib.linux-x86_64-2.7/rampwf/workflows/grid_feature_extractor.py -> build/bdist.linux-x86_64/egg/rampwf/workflows\n",
      "copying build/lib.linux-x86_64-2.7/rampwf/workflows/__init__.py -> build/bdist.linux-x86_64/egg/rampwf/workflows\n",
      "copying build/lib.linux-x86_64-2.7/rampwf/workflows/classifier.py -> build/bdist.linux-x86_64/egg/rampwf/workflows\n",
      "creating build/bdist.linux-x86_64/egg/rampwf/workflows/tests\n",
      "copying build/lib.linux-x86_64-2.7/rampwf/workflows/tests/__init__.py -> build/bdist.linux-x86_64/egg/rampwf/workflows/tests\n",
      "copying build/lib.linux-x86_64-2.7/rampwf/workflows/ts_feature_extractor.py -> build/bdist.linux-x86_64/egg/rampwf/workflows\n",
      "copying build/lib.linux-x86_64-2.7/rampwf/workflows/clusterer.py -> build/bdist.linux-x86_64/egg/rampwf/workflows\n",
      "copying build/lib.linux-x86_64-2.7/rampwf/workflows/feature_extractor_regressor.py -> build/bdist.linux-x86_64/egg/rampwf/workflows\n",
      "copying build/lib.linux-x86_64-2.7/rampwf/workflows/grid_feature_extractor_classifier.py -> build/bdist.linux-x86_64/egg/rampwf/workflows\n",
      "copying build/lib.linux-x86_64-2.7/rampwf/workflows/image_classifier.py -> build/bdist.linux-x86_64/egg/rampwf/workflows\n",
      "copying build/lib.linux-x86_64-2.7/rampwf/workflows/el_nino.py -> build/bdist.linux-x86_64/egg/rampwf/workflows\n",
      "copying build/lib.linux-x86_64-2.7/rampwf/workflows/feature_extractor.py -> build/bdist.linux-x86_64/egg/rampwf/workflows\n",
      "copying build/lib.linux-x86_64-2.7/rampwf/workflows/feature_extractor_classifier.py -> build/bdist.linux-x86_64/egg/rampwf/workflows\n",
      "copying build/lib.linux-x86_64-2.7/rampwf/workflows/drug_spectra.py -> build/bdist.linux-x86_64/egg/rampwf/workflows\n",
      "copying build/lib.linux-x86_64-2.7/rampwf/workflows/regressor.py -> build/bdist.linux-x86_64/egg/rampwf/workflows\n",
      "copying build/lib.linux-x86_64-2.7/rampwf/workflows/air_passengers.py -> build/bdist.linux-x86_64/egg/rampwf/workflows\n",
      "copying build/lib.linux-x86_64-2.7/rampwf/__init__.py -> build/bdist.linux-x86_64/egg/rampwf\n",
      "creating build/bdist.linux-x86_64/egg/rampwf/kits\n",
      "copying build/lib.linux-x86_64-2.7/rampwf/kits/base.py -> build/bdist.linux-x86_64/egg/rampwf/kits\n",
      "copying build/lib.linux-x86_64-2.7/rampwf/kits/__init__.py -> build/bdist.linux-x86_64/egg/rampwf/kits\n",
      "creating build/bdist.linux-x86_64/egg/rampwf/kits/tests\n",
      "copying build/lib.linux-x86_64-2.7/rampwf/kits/tests/__init__.py -> build/bdist.linux-x86_64/egg/rampwf/kits/tests\n",
      "copying build/lib.linux-x86_64-2.7/rampwf/kits/ramp_kit.py -> build/bdist.linux-x86_64/egg/rampwf/kits\n",
      "creating build/bdist.linux-x86_64/egg/rampwf/score_types\n",
      "copying build/lib.linux-x86_64-2.7/rampwf/score_types/base.py -> build/bdist.linux-x86_64/egg/rampwf/score_types\n",
      "copying build/lib.linux-x86_64-2.7/rampwf/score_types/macro_averaged_recall.py -> build/bdist.linux-x86_64/egg/rampwf/score_types\n",
      "copying build/lib.linux-x86_64-2.7/rampwf/score_types/__init__.py -> build/bdist.linux-x86_64/egg/rampwf/score_types\n",
      "creating build/bdist.linux-x86_64/egg/rampwf/score_types/tests\n",
      "copying build/lib.linux-x86_64-2.7/rampwf/score_types/tests/__init__.py -> build/bdist.linux-x86_64/egg/rampwf/score_types/tests\n",
      "copying build/lib.linux-x86_64-2.7/rampwf/score_types/f1_above.py -> build/bdist.linux-x86_64/egg/rampwf/score_types\n",
      "copying build/lib.linux-x86_64-2.7/rampwf/score_types/combined.py -> build/bdist.linux-x86_64/egg/rampwf/score_types\n",
      "copying build/lib.linux-x86_64-2.7/rampwf/score_types/roc_auc.py -> build/bdist.linux-x86_64/egg/rampwf/score_types\n",
      "copying build/lib.linux-x86_64-2.7/rampwf/score_types/brier_score.py -> build/bdist.linux-x86_64/egg/rampwf/score_types\n",
      "copying build/lib.linux-x86_64-2.7/rampwf/score_types/mare.py -> build/bdist.linux-x86_64/egg/rampwf/score_types\n",
      "copying build/lib.linux-x86_64-2.7/rampwf/score_types/rmse.py -> build/bdist.linux-x86_64/egg/rampwf/score_types\n",
      "copying build/lib.linux-x86_64-2.7/rampwf/score_types/classifier_base.py -> build/bdist.linux-x86_64/egg/rampwf/score_types\n",
      "copying build/lib.linux-x86_64-2.7/rampwf/score_types/make_combined.py -> build/bdist.linux-x86_64/egg/rampwf/score_types\n",
      "copying build/lib.linux-x86_64-2.7/rampwf/score_types/relative_rmse.py -> build/bdist.linux-x86_64/egg/rampwf/score_types\n",
      "copying build/lib.linux-x86_64-2.7/rampwf/score_types/classification_error.py -> build/bdist.linux-x86_64/egg/rampwf/score_types\n",
      "copying build/lib.linux-x86_64-2.7/rampwf/score_types/negative_log_likelihood.py -> build/bdist.linux-x86_64/egg/rampwf/score_types\n",
      "copying build/lib.linux-x86_64-2.7/rampwf/score_types/accuracy.py -> build/bdist.linux-x86_64/egg/rampwf/score_types\n",
      "copying build/lib.linux-x86_64-2.7/rampwf/score_types/clustering_efficiency.py -> build/bdist.linux-x86_64/egg/rampwf/score_types\n",
      "copying build/lib.linux-x86_64-2.7/rampwf/score_types/balanced_accuracy.py -> build/bdist.linux-x86_64/egg/rampwf/score_types\n",
      "creating build/bdist.linux-x86_64/egg/rampwf/cvs\n",
      "copying build/lib.linux-x86_64-2.7/rampwf/cvs/__init__.py -> build/bdist.linux-x86_64/egg/rampwf/cvs\n",
      "copying build/lib.linux-x86_64-2.7/rampwf/cvs/clustering.py -> build/bdist.linux-x86_64/egg/rampwf/cvs\n",
      "copying build/lib.linux-x86_64-2.7/rampwf/cvs/time_series.py -> build/bdist.linux-x86_64/egg/rampwf/cvs\n",
      "creating build/bdist.linux-x86_64/egg/rampwf/utils\n",
      "copying build/lib.linux-x86_64-2.7/rampwf/utils/__init__.py -> build/bdist.linux-x86_64/egg/rampwf/utils\n",
      "copying build/lib.linux-x86_64-2.7/rampwf/utils/command_line.py -> build/bdist.linux-x86_64/egg/rampwf/utils\n",
      "copying build/lib.linux-x86_64-2.7/rampwf/utils/testing.py -> build/bdist.linux-x86_64/egg/rampwf/utils\n",
      "creating build/bdist.linux-x86_64/egg/rampwf/prediction_types\n",
      "copying build/lib.linux-x86_64-2.7/rampwf/prediction_types/base.py -> build/bdist.linux-x86_64/egg/rampwf/prediction_types\n",
      "copying build/lib.linux-x86_64-2.7/rampwf/prediction_types/__init__.py -> build/bdist.linux-x86_64/egg/rampwf/prediction_types\n",
      "creating build/bdist.linux-x86_64/egg/rampwf/prediction_types/tests\n",
      "copying build/lib.linux-x86_64-2.7/rampwf/prediction_types/tests/test_mixed_predictions.py -> build/bdist.linux-x86_64/egg/rampwf/prediction_types/tests\n",
      "copying build/lib.linux-x86_64-2.7/rampwf/prediction_types/tests/__init__.py -> build/bdist.linux-x86_64/egg/rampwf/prediction_types/tests\n",
      "copying build/lib.linux-x86_64-2.7/rampwf/prediction_types/tests/test_regression_predictions.py -> build/bdist.linux-x86_64/egg/rampwf/prediction_types/tests\n",
      "copying build/lib.linux-x86_64-2.7/rampwf/prediction_types/tests/test_multiclass_predictions.py -> build/bdist.linux-x86_64/egg/rampwf/prediction_types/tests\n",
      "copying build/lib.linux-x86_64-2.7/rampwf/prediction_types/combined.py -> build/bdist.linux-x86_64/egg/rampwf/prediction_types\n",
      "copying build/lib.linux-x86_64-2.7/rampwf/prediction_types/multiclass.py -> build/bdist.linux-x86_64/egg/rampwf/prediction_types\n",
      "copying build/lib.linux-x86_64-2.7/rampwf/prediction_types/clustering.py -> build/bdist.linux-x86_64/egg/rampwf/prediction_types\n",
      "copying build/lib.linux-x86_64-2.7/rampwf/prediction_types/regression.py -> build/bdist.linux-x86_64/egg/rampwf/prediction_types\n",
      "byte-compiling build/bdist.linux-x86_64/egg/rampwf/workflows/grid_feature_extractor.py to grid_feature_extractor.pyc\n",
      "byte-compiling build/bdist.linux-x86_64/egg/rampwf/workflows/__init__.py to __init__.pyc\n",
      "byte-compiling build/bdist.linux-x86_64/egg/rampwf/workflows/classifier.py to classifier.pyc\n",
      "byte-compiling build/bdist.linux-x86_64/egg/rampwf/workflows/tests/__init__.py to __init__.pyc\n",
      "byte-compiling build/bdist.linux-x86_64/egg/rampwf/workflows/ts_feature_extractor.py to ts_feature_extractor.pyc\n",
      "byte-compiling build/bdist.linux-x86_64/egg/rampwf/workflows/clusterer.py to clusterer.pyc\n",
      "byte-compiling build/bdist.linux-x86_64/egg/rampwf/workflows/feature_extractor_regressor.py to feature_extractor_regressor.pyc\n",
      "byte-compiling build/bdist.linux-x86_64/egg/rampwf/workflows/grid_feature_extractor_classifier.py to grid_feature_extractor_classifier.pyc\n",
      "byte-compiling build/bdist.linux-x86_64/egg/rampwf/workflows/image_classifier.py to image_classifier.pyc\n",
      "byte-compiling build/bdist.linux-x86_64/egg/rampwf/workflows/el_nino.py to el_nino.pyc\n",
      "byte-compiling build/bdist.linux-x86_64/egg/rampwf/workflows/feature_extractor.py to feature_extractor.pyc\n",
      "byte-compiling build/bdist.linux-x86_64/egg/rampwf/workflows/feature_extractor_classifier.py to feature_extractor_classifier.pyc\n",
      "byte-compiling build/bdist.linux-x86_64/egg/rampwf/workflows/drug_spectra.py to drug_spectra.pyc\n",
      "byte-compiling build/bdist.linux-x86_64/egg/rampwf/workflows/regressor.py to regressor.pyc\n",
      "byte-compiling build/bdist.linux-x86_64/egg/rampwf/workflows/air_passengers.py to air_passengers.pyc\n",
      "byte-compiling build/bdist.linux-x86_64/egg/rampwf/__init__.py to __init__.pyc\n",
      "byte-compiling build/bdist.linux-x86_64/egg/rampwf/kits/base.py to base.pyc\n",
      "byte-compiling build/bdist.linux-x86_64/egg/rampwf/kits/__init__.py to __init__.pyc\n",
      "byte-compiling build/bdist.linux-x86_64/egg/rampwf/kits/tests/__init__.py to __init__.pyc\n",
      "byte-compiling build/bdist.linux-x86_64/egg/rampwf/kits/ramp_kit.py to ramp_kit.pyc\n",
      "byte-compiling build/bdist.linux-x86_64/egg/rampwf/score_types/base.py to base.pyc\n",
      "byte-compiling build/bdist.linux-x86_64/egg/rampwf/score_types/macro_averaged_recall.py to macro_averaged_recall.pyc\n",
      "byte-compiling build/bdist.linux-x86_64/egg/rampwf/score_types/__init__.py to __init__.pyc\n",
      "byte-compiling build/bdist.linux-x86_64/egg/rampwf/score_types/tests/__init__.py to __init__.pyc\n",
      "byte-compiling build/bdist.linux-x86_64/egg/rampwf/score_types/f1_above.py to f1_above.pyc\n",
      "byte-compiling build/bdist.linux-x86_64/egg/rampwf/score_types/combined.py to combined.pyc\n",
      "byte-compiling build/bdist.linux-x86_64/egg/rampwf/score_types/roc_auc.py to roc_auc.pyc\n",
      "byte-compiling build/bdist.linux-x86_64/egg/rampwf/score_types/brier_score.py to brier_score.pyc\n",
      "byte-compiling build/bdist.linux-x86_64/egg/rampwf/score_types/mare.py to mare.pyc\n",
      "byte-compiling build/bdist.linux-x86_64/egg/rampwf/score_types/rmse.py to rmse.pyc\n",
      "byte-compiling build/bdist.linux-x86_64/egg/rampwf/score_types/classifier_base.py to classifier_base.pyc\n",
      "byte-compiling build/bdist.linux-x86_64/egg/rampwf/score_types/make_combined.py to make_combined.pyc\n",
      "byte-compiling build/bdist.linux-x86_64/egg/rampwf/score_types/relative_rmse.py to relative_rmse.pyc\n",
      "byte-compiling build/bdist.linux-x86_64/egg/rampwf/score_types/classification_error.py to classification_error.pyc\n",
      "byte-compiling build/bdist.linux-x86_64/egg/rampwf/score_types/negative_log_likelihood.py to negative_log_likelihood.pyc\n",
      "byte-compiling build/bdist.linux-x86_64/egg/rampwf/score_types/accuracy.py to accuracy.pyc\n",
      "byte-compiling build/bdist.linux-x86_64/egg/rampwf/score_types/clustering_efficiency.py to clustering_efficiency.pyc\n",
      "byte-compiling build/bdist.linux-x86_64/egg/rampwf/score_types/balanced_accuracy.py to balanced_accuracy.pyc\n",
      "byte-compiling build/bdist.linux-x86_64/egg/rampwf/cvs/__init__.py to __init__.pyc\n",
      "byte-compiling build/bdist.linux-x86_64/egg/rampwf/cvs/clustering.py to clustering.pyc\n",
      "byte-compiling build/bdist.linux-x86_64/egg/rampwf/cvs/time_series.py to time_series.pyc\n",
      "byte-compiling build/bdist.linux-x86_64/egg/rampwf/utils/__init__.py to __init__.pyc\n",
      "byte-compiling build/bdist.linux-x86_64/egg/rampwf/utils/command_line.py to command_line.pyc\n",
      "byte-compiling build/bdist.linux-x86_64/egg/rampwf/utils/testing.py to testing.pyc\n",
      "byte-compiling build/bdist.linux-x86_64/egg/rampwf/prediction_types/base.py to base.pyc\n",
      "byte-compiling build/bdist.linux-x86_64/egg/rampwf/prediction_types/__init__.py to __init__.pyc\n",
      "byte-compiling build/bdist.linux-x86_64/egg/rampwf/prediction_types/tests/test_mixed_predictions.py to test_mixed_predictions.pyc\n",
      "byte-compiling build/bdist.linux-x86_64/egg/rampwf/prediction_types/tests/__init__.py to __init__.pyc\n",
      "byte-compiling build/bdist.linux-x86_64/egg/rampwf/prediction_types/tests/test_regression_predictions.py to test_regression_predictions.pyc\n",
      "byte-compiling build/bdist.linux-x86_64/egg/rampwf/prediction_types/tests/test_multiclass_predictions.py to test_multiclass_predictions.pyc\n",
      "byte-compiling build/bdist.linux-x86_64/egg/rampwf/prediction_types/combined.py to combined.pyc\n",
      "byte-compiling build/bdist.linux-x86_64/egg/rampwf/prediction_types/multiclass.py to multiclass.pyc\n",
      "byte-compiling build/bdist.linux-x86_64/egg/rampwf/prediction_types/clustering.py to clustering.pyc\n",
      "byte-compiling build/bdist.linux-x86_64/egg/rampwf/prediction_types/regression.py to regression.pyc\n",
      "creating build/bdist.linux-x86_64/egg/EGG-INFO\n",
      "copying ramp_workflow.egg-info/PKG-INFO -> build/bdist.linux-x86_64/egg/EGG-INFO\n",
      "copying ramp_workflow.egg-info/SOURCES.txt -> build/bdist.linux-x86_64/egg/EGG-INFO\n",
      "copying ramp_workflow.egg-info/dependency_links.txt -> build/bdist.linux-x86_64/egg/EGG-INFO\n",
      "copying ramp_workflow.egg-info/entry_points.txt -> build/bdist.linux-x86_64/egg/EGG-INFO\n",
      "copying ramp_workflow.egg-info/not-zip-safe -> build/bdist.linux-x86_64/egg/EGG-INFO\n",
      "copying ramp_workflow.egg-info/requires.txt -> build/bdist.linux-x86_64/egg/EGG-INFO\n",
      "copying ramp_workflow.egg-info/top_level.txt -> build/bdist.linux-x86_64/egg/EGG-INFO\n",
      "creating 'dist/ramp_workflow-0.1.dev0-py2.7.egg' and adding 'build/bdist.linux-x86_64/egg' to it\n"
     ]
    },
    {
     "name": "stdout",
     "output_type": "stream",
     "text": [
      "removing 'build/bdist.linux-x86_64/egg' (and everything under it)\n",
      "Processing ramp_workflow-0.1.dev0-py2.7.egg\n",
      "creating /usr/local/lib/python2.7/dist-packages/ramp_workflow-0.1.dev0-py2.7.egg\n",
      "Extracting ramp_workflow-0.1.dev0-py2.7.egg to /usr/local/lib/python2.7/dist-packages\n",
      "Adding ramp-workflow 0.1.dev0 to easy-install.pth file\n",
      "Installing ramp_test_submission script to /usr/local/bin\n",
      "Installing ramp_convert_notebook script to /usr/local/bin\n",
      "Installing ramp_test_notebook script to /usr/local/bin\n",
      "\n",
      "Installed /usr/local/lib/python2.7/dist-packages/ramp_workflow-0.1.dev0-py2.7.egg\n",
      "Processing dependencies for ramp-workflow==0.1.dev0\n",
      "Searching for scikit-learn==0.19.0\n",
      "Best match: scikit-learn 0.19.0\n",
      "Adding scikit-learn 0.19.0 to easy-install.pth file\n",
      "\n",
      "Using /usr/local/lib/python2.7/dist-packages\n",
      "Searching for pandas==0.20.3\n",
      "Best match: pandas 0.20.3\n",
      "Adding pandas 0.20.3 to easy-install.pth file\n",
      "\n",
      "Using /usr/local/lib/python2.7/dist-packages\n",
      "Searching for scipy==0.19.1\n",
      "Best match: scipy 0.19.1\n",
      "Adding scipy 0.19.1 to easy-install.pth file\n",
      "\n",
      "Using /usr/local/lib/python2.7/dist-packages\n",
      "Searching for numpy==1.13.3\n",
      "Best match: numpy 1.13.3\n",
      "Adding numpy 1.13.3 to easy-install.pth file\n",
      "\n",
      "Using /usr/local/lib/python2.7/dist-packages\n",
      "Searching for python-dateutil==2.6.1\n",
      "Best match: python-dateutil 2.6.1\n",
      "Adding python-dateutil 2.6.1 to easy-install.pth file\n",
      "\n",
      "Using /usr/local/lib/python2.7/dist-packages\n",
      "Searching for pytz==2017.2\n",
      "Best match: pytz 2017.2\n",
      "Adding pytz 2017.2 to easy-install.pth file\n",
      "\n",
      "Using /usr/local/lib/python2.7/dist-packages\n",
      "Searching for six==1.11.0\n",
      "Best match: six 1.11.0\n",
      "Adding six 1.11.0 to easy-install.pth file\n",
      "\n",
      "Using /usr/local/lib/python2.7/dist-packages\n",
      "Finished processing dependencies for ramp-workflow==0.1.dev0\n",
      "Collecting imbalanced-learn\n",
      "  Downloading imbalanced_learn-0.3.0-py2-none-any.whl (144kB)\n",
      "\u001b[K    100% |████████████████████████████████| 153kB 881kB/s ta 0:00:01\n",
      "\u001b[?25hRequirement already satisfied: numpy in /usr/local/lib/python2.7/dist-packages (from imbalanced-learn)\n",
      "Requirement already satisfied: scipy in /usr/local/lib/python2.7/dist-packages (from imbalanced-learn)\n",
      "Requirement already satisfied: scikit-learn in /usr/local/lib/python2.7/dist-packages (from imbalanced-learn)\n",
      "Installing collected packages: imbalanced-learn\n",
      "Successfully installed imbalanced-learn-0.3.0\n"
     ]
    }
   ],
   "source": [
    "!cd ../../ramp-workflow/ && python setup.py install\n",
    "!pip install imbalanced-learn"
   ]
  },
  {
   "cell_type": "markdown",
   "metadata": {},
   "source": [
    "Specific dependencies to `install.sh`\n",
    "\n"
   ]
  },
  {
   "cell_type": "code",
   "execution_count": 12,
   "metadata": {},
   "outputs": [
    {
     "name": "stdout",
     "output_type": "stream",
     "text": [
      "# A script that installs the starting kit, the environment to execute it,\r\n",
      "# and downloads the data\r\n",
      "\r\n",
      "wget http://developer.download.nvidia.com/compute/cuda/repos/ubuntu1604/x86_64/cuda-repo-ubuntu1604_8.0.61-1_amd64.deb\r\n",
      "sudo dpkg -i cuda-repo-ubuntu1604_8.0.61-1_amd64.deb\r\n",
      "sudo apt-get update\r\n",
      "sudo apt-get install -y cuda\r\n",
      "\r\n",
      "wget -q http://repo.continuum.io/miniconda/Miniconda-3.6.0-Linux-x86_64.sh -O miniconda.sh\r\n",
      "chmod +x miniconda.sh\r\n",
      "./miniconda.sh -b -p /home/ubuntu/miniconda\r\n",
      "export PATH=/home/ubuntu/miniconda/bin:$PATH\r\n",
      "sudo apt-get update\r\n",
      "sudo apt-get install --yes build-essential\r\n",
      "sudo apt-get install --yes unzip\r\n",
      "sudo apt-get install --yes screen\r\n",
      "conda update --yes --quiet conda\r\n",
      "\r\n",
      "conda install --yes numpy\r\n",
      "conda install --yes pandas\r\n",
      "conda install --yes scikit-learn\r\n",
      "conda install --yes scikit-image\r\n",
      "conda install --yes joblib\r\n",
      "conda install --yes cloudpickle\r\n",
      "conda install --yes gitpython\r\n",
      "\r\n",
      "\r\n",
      "\r\n",
      "# Clone starting kit and download data\r\n",
      "git clone https://github.com/ramp-kits/pollenating_insects_3\r\n",
      "cd pollenating_insects_3\r\n",
      "python download_data.py\r\n",
      "\r\n",
      "# Install keras, tensorflow, mxnet, and pytorch\r\n",
      "cd ~\r\n",
      "echo \"export PATH=\\$HOME/miniconda/bin:\\$PATH\" >> ~/.bashrc\r\n",
      "source ~/.bashrc\r\n",
      "pip install h5py==2.7.1\r\n",
      "pip install tensorflow-gpu==1.3.0\r\n",
      "pip install mxnet-cu80==0.11.0\r\n",
      "pip install keras==2.0.8\r\n",
      "pip install http://download.pytorch.org/whl/cu80/torch-0.2.0.post3-cp27-cp27mu-manylinux1_x86_64.whl \r\n",
      "pip install torchvision==0.1.9\r\n",
      "wget http://developer.download.nvidia.com/compute/machine-learning/repos/ubuntu1604/x86_64/libcudnn6_6.0.21-1+cuda8.0_amd64.deb\r\n",
      "sudo dpkg -i libcudnn6_6.0.21-1+cuda8.0_amd64.deb\r\n"
     ]
    }
   ],
   "source": [
    "!cat install.sh"
   ]
  },
  {
   "cell_type": "code",
   "execution_count": 21,
   "metadata": {},
   "outputs": [],
   "source": [
    "!rm user_install.sh\n",
    "!touch user_install.sh\n",
    "!echo \"pip install git+git://github.com/aleju/imgaug/\" >> user_install.sh\n",
    "!echo \"pip install git+git://github.com/farizrahman4u/keras-contrib\" >> user_install.sh\n",
    "!echo \"pip install opencv-python\" >> user_install.sh"
   ]
  },
  {
   "cell_type": "code",
   "execution_count": 22,
   "metadata": {},
   "outputs": [
    {
     "name": "stdout",
     "output_type": "stream",
     "text": [
      "pip install git+git://github.com/aleju/imgaug/\r\n",
      "pip install git+git://github.com/farizrahman4u/keras-contrib\r\n",
      "pip install opencv-python\r\n"
     ]
    }
   ],
   "source": [
    "!cat user_install.sh"
   ]
  },
  {
   "cell_type": "code",
   "execution_count": 23,
   "metadata": {
    "scrolled": true
   },
   "outputs": [
    {
     "name": "stdout",
     "output_type": "stream",
     "text": [
      "Collecting git+git://github.com/aleju/imgaug/\n",
      "  Cloning git://github.com/aleju/imgaug/ to /tmp/pip-7xkp89e8-build\n",
      "  Requirement already satisfied (use --upgrade to upgrade): imgaug==0.2.4 from git+git://github.com/aleju/imgaug/ in /usr/local/lib/python3.5/dist-packages\n",
      "Requirement already satisfied: scipy in /usr/local/lib/python3.5/dist-packages (from imgaug==0.2.4)\n",
      "Requirement already satisfied: scikit-image>=0.11.0 in /usr/local/lib/python3.5/dist-packages (from imgaug==0.2.4)\n",
      "Requirement already satisfied: numpy>=1.7.0 in /usr/local/lib/python3.5/dist-packages (from imgaug==0.2.4)\n",
      "Requirement already satisfied: six in /usr/local/lib/python3.5/dist-packages (from imgaug==0.2.4)\n",
      "Requirement already satisfied: matplotlib>=1.3.1 in /usr/local/lib/python3.5/dist-packages (from scikit-image>=0.11.0->imgaug==0.2.4)\n",
      "Requirement already satisfied: PyWavelets>=0.4.0 in /usr/local/lib/python3.5/dist-packages (from scikit-image>=0.11.0->imgaug==0.2.4)\n",
      "Requirement already satisfied: pillow>=2.1.0 in /usr/local/lib/python3.5/dist-packages (from scikit-image>=0.11.0->imgaug==0.2.4)\n",
      "Requirement already satisfied: networkx>=1.8 in /usr/local/lib/python3.5/dist-packages (from scikit-image>=0.11.0->imgaug==0.2.4)\n",
      "Requirement already satisfied: pytz in /usr/local/lib/python3.5/dist-packages (from matplotlib>=1.3.1->scikit-image>=0.11.0->imgaug==0.2.4)\n",
      "Requirement already satisfied: cycler>=0.10 in /usr/local/lib/python3.5/dist-packages (from matplotlib>=1.3.1->scikit-image>=0.11.0->imgaug==0.2.4)\n",
      "Requirement already satisfied: pyparsing!=2.0.0,!=2.0.4,!=2.1.2,!=2.1.6,>=1.5.6 in /usr/local/lib/python3.5/dist-packages (from matplotlib>=1.3.1->scikit-image>=0.11.0->imgaug==0.2.4)\n",
      "Requirement already satisfied: python-dateutil in /usr/local/lib/python3.5/dist-packages (from matplotlib>=1.3.1->scikit-image>=0.11.0->imgaug==0.2.4)\n",
      "Requirement already satisfied: olefile in /usr/local/lib/python3.5/dist-packages (from pillow>=2.1.0->scikit-image>=0.11.0->imgaug==0.2.4)\n",
      "Requirement already satisfied: decorator>=4.1.0 in /usr/local/lib/python3.5/dist-packages (from networkx>=1.8->scikit-image>=0.11.0->imgaug==0.2.4)\n",
      "Collecting git+git://github.com/farizrahman4u/keras-contrib\n",
      "  Cloning git://github.com/farizrahman4u/keras-contrib to /tmp/pip-q50r_oy2-build\n",
      "  Requirement already satisfied (use --upgrade to upgrade): keras-contrib==1.2.1 from git+git://github.com/farizrahman4u/keras-contrib in /usr/local/lib/python3.5/dist-packages\n",
      "Requirement already satisfied: keras in /usr/local/lib/python3.5/dist-packages (from keras-contrib==1.2.1)\n",
      "Requirement already satisfied: numpy>=1.9.1 in /usr/local/lib/python3.5/dist-packages (from keras->keras-contrib==1.2.1)\n",
      "Requirement already satisfied: pyyaml in /usr/local/lib/python3.5/dist-packages (from keras->keras-contrib==1.2.1)\n",
      "Requirement already satisfied: six>=1.9.0 in /usr/local/lib/python3.5/dist-packages (from keras->keras-contrib==1.2.1)\n",
      "Requirement already satisfied: scipy>=0.14 in /usr/local/lib/python3.5/dist-packages (from keras->keras-contrib==1.2.1)\n",
      "Requirement already satisfied: opencv-python in /usr/local/lib/python3.5/dist-packages\n",
      "Requirement already satisfied: numpy>=1.11.1 in /usr/local/lib/python3.5/dist-packages (from opencv-python)\n"
     ]
    }
   ],
   "source": [
    "!sh user_install.sh"
   ]
  },
  {
   "cell_type": "code",
   "execution_count": 2,
   "metadata": {},
   "outputs": [
    {
     "name": "stdout",
     "output_type": "stream",
     "text": [
      "Collecting git+git://github.com/aleju/imgaug/\n",
      "  Cloning git://github.com/aleju/imgaug/ to /tmp/pip-pH5C7O-build\n",
      "Requirement already satisfied: scipy in /usr/local/lib/python2.7/dist-packages (from imgaug==0.2.4)\n",
      "Requirement already satisfied: scikit-image>=0.11.0 in /usr/local/lib/python2.7/dist-packages (from imgaug==0.2.4)\n",
      "Requirement already satisfied: numpy>=1.7.0 in /usr/local/lib/python2.7/dist-packages (from imgaug==0.2.4)\n",
      "Requirement already satisfied: six in /usr/local/lib/python2.7/dist-packages (from imgaug==0.2.4)\n",
      "Requirement already satisfied: matplotlib>=1.3.1 in /usr/local/lib/python2.7/dist-packages (from scikit-image>=0.11.0->imgaug==0.2.4)\n",
      "Requirement already satisfied: pillow>=2.1.0 in /usr/local/lib/python2.7/dist-packages (from scikit-image>=0.11.0->imgaug==0.2.4)\n",
      "Requirement already satisfied: networkx>=1.8 in /usr/local/lib/python2.7/dist-packages (from scikit-image>=0.11.0->imgaug==0.2.4)\n",
      "Requirement already satisfied: PyWavelets>=0.4.0 in /usr/local/lib/python2.7/dist-packages (from scikit-image>=0.11.0->imgaug==0.2.4)\n",
      "Requirement already satisfied: cycler>=0.10 in /usr/local/lib/python2.7/dist-packages (from matplotlib>=1.3.1->scikit-image>=0.11.0->imgaug==0.2.4)\n",
      "Requirement already satisfied: python-dateutil in /usr/local/lib/python2.7/dist-packages (from matplotlib>=1.3.1->scikit-image>=0.11.0->imgaug==0.2.4)\n",
      "Requirement already satisfied: functools32 in /usr/local/lib/python2.7/dist-packages (from matplotlib>=1.3.1->scikit-image>=0.11.0->imgaug==0.2.4)\n",
      "Requirement already satisfied: pytz in /usr/local/lib/python2.7/dist-packages (from matplotlib>=1.3.1->scikit-image>=0.11.0->imgaug==0.2.4)\n",
      "Requirement already satisfied: pyparsing!=2.0.4,!=2.1.2,!=2.1.6,>=1.5.6 in /usr/local/lib/python2.7/dist-packages (from matplotlib>=1.3.1->scikit-image>=0.11.0->imgaug==0.2.4)\n",
      "Requirement already satisfied: subprocess32 in /usr/local/lib/python2.7/dist-packages (from matplotlib>=1.3.1->scikit-image>=0.11.0->imgaug==0.2.4)\n",
      "Requirement already satisfied: olefile in /usr/local/lib/python2.7/dist-packages (from pillow>=2.1.0->scikit-image>=0.11.0->imgaug==0.2.4)\n",
      "Requirement already satisfied: decorator>=4.1.0 in /usr/local/lib/python2.7/dist-packages (from networkx>=1.8->scikit-image>=0.11.0->imgaug==0.2.4)\n",
      "Installing collected packages: imgaug\n",
      "  Running setup.py install for imgaug ... \u001b[?25ldone\n",
      "\u001b[?25hSuccessfully installed imgaug-0.2.4\n",
      "Collecting git+git://github.com/farizrahman4u/keras-contrib\n",
      "  Cloning git://github.com/farizrahman4u/keras-contrib to /tmp/pip-GCbatD-build\n",
      "Requirement already satisfied: keras in /usr/local/lib/python2.7/dist-packages (from keras-contrib==1.2.1)\n",
      "Requirement already satisfied: pyyaml in /usr/local/lib/python2.7/dist-packages (from keras->keras-contrib==1.2.1)\n",
      "Requirement already satisfied: six>=1.9.0 in /usr/local/lib/python2.7/dist-packages (from keras->keras-contrib==1.2.1)\n",
      "Requirement already satisfied: scipy>=0.14 in /usr/local/lib/python2.7/dist-packages (from keras->keras-contrib==1.2.1)\n",
      "Requirement already satisfied: numpy>=1.9.1 in /usr/local/lib/python2.7/dist-packages (from keras->keras-contrib==1.2.1)\n",
      "Installing collected packages: keras-contrib\n",
      "  Running setup.py install for keras-contrib ... \u001b[?25ldone\n",
      "\u001b[?25hSuccessfully installed keras-contrib-1.2.1\n"
     ]
    }
   ],
   "source": [
    "!pip install git+git://github.com/aleju/imgaug/\n",
    "!pip install git+git://github.com/farizrahman4u/keras-contrib"
   ]
  },
  {
   "cell_type": "code",
   "execution_count": 5,
   "metadata": {},
   "outputs": [
    {
     "name": "stdout",
     "output_type": "stream",
     "text": [
      "Collecting git+https://github.com/fchollet/keras/\n",
      "  Cloning https://github.com/fchollet/keras/ to /tmp/pip-1QG03R-build\n",
      "Requirement already up-to-date: numpy>=1.9.1 in /usr/local/lib/python2.7/dist-packages (from Keras==2.0.8)\n",
      "Requirement already up-to-date: scipy>=0.14 in /usr/local/lib/python2.7/dist-packages (from Keras==2.0.8)\n",
      "Requirement already up-to-date: six>=1.9.0 in /usr/local/lib/python2.7/dist-packages (from Keras==2.0.8)\n",
      "Requirement already up-to-date: pyyaml in /usr/local/lib/python2.7/dist-packages (from Keras==2.0.8)\n",
      "Installing collected packages: Keras\n",
      "  Found existing installation: Keras 2.0.8\n",
      "    Uninstalling Keras-2.0.8:\n",
      "      Successfully uninstalled Keras-2.0.8\n",
      "  Running setup.py install for Keras ... \u001b[?25ldone\n",
      "\u001b[?25hSuccessfully installed Keras-2.0.8\n"
     ]
    }
   ],
   "source": [
    "!pip install --upgrade git+https://github.com/fchollet/keras/"
   ]
  },
  {
   "cell_type": "code",
   "execution_count": null,
   "metadata": {},
   "outputs": [],
   "source": []
  },
  {
   "cell_type": "code",
   "execution_count": null,
   "metadata": {},
   "outputs": [],
   "source": []
  },
  {
   "cell_type": "code",
   "execution_count": null,
   "metadata": {},
   "outputs": [],
   "source": []
  },
  {
   "cell_type": "code",
   "execution_count": 2,
   "metadata": {},
   "outputs": [],
   "source": [
    "import os"
   ]
  },
  {
   "cell_type": "code",
   "execution_count": 7,
   "metadata": {},
   "outputs": [
    {
     "name": "stdout",
     "output_type": "stream",
     "text": [
      "^C\r\n"
     ]
    }
   ],
   "source": [
    "submission='keras_cnns_pretrained'\n",
    "!ramp_test_submission --submission {submission} > submissions/{submission}/log_20171001_1114 2>&1"
   ]
  },
  {
   "cell_type": "code",
   "execution_count": null,
   "metadata": {},
   "outputs": [],
   "source": [
    "os.environ['LOCAL_TESTING'] = ''\n",
    "\n",
    "submission='keras_densenet_pretrained'\n",
    "!ramp_test_submission --submission {submission} > submissions/{submission}/log 2>&1"
   ]
  },
  {
   "cell_type": "code",
   "execution_count": null,
   "metadata": {},
   "outputs": [],
   "source": []
  },
  {
   "cell_type": "code",
   "execution_count": 12,
   "metadata": {},
   "outputs": [],
   "source": [
    "os.environ['LOCAL_TESTING'] = ''\n",
    "\n",
    "submission='keras_vgg16_finetunning_imbalanced'\n",
    "!ramp_test_submission --submission {submission} > submissions/{submission}/log_2 2>&1"
   ]
  },
  {
   "cell_type": "code",
   "execution_count": null,
   "metadata": {},
   "outputs": [],
   "source": []
  },
  {
   "cell_type": "code",
   "execution_count": 1,
   "metadata": {},
   "outputs": [
    {
     "name": "stdout",
     "output_type": "stream",
     "text": [
      "^C\r\n"
     ]
    }
   ],
   "source": [
    "submission='keras_vgg16_finetunning_imbalanced'\n",
    "!ramp_test_submission --submission {submission} > submissions/{submission}/log_3 2>&1"
   ]
  },
  {
   "cell_type": "code",
   "execution_count": null,
   "metadata": {},
   "outputs": [],
   "source": []
  },
  {
   "cell_type": "code",
   "execution_count": null,
   "metadata": {},
   "outputs": [],
   "source": [
    "import os\n",
    "from datetime import datetime\n",
    "now = datetime.now()\n",
    "os.environ['LOCAL_TESTING'] = ''\n",
    "\n",
    "submission='keras_vgg16_finetunning_imbalanced2'\n",
    "!ramp_test_submission --submission {submission} > submissions/{submission}/log_{now.strftime(\"%Y-%m-%d-%H-%M\")} 2>&1"
   ]
  },
  {
   "cell_type": "code",
   "execution_count": null,
   "metadata": {},
   "outputs": [],
   "source": []
  },
  {
   "cell_type": "code",
   "execution_count": null,
   "metadata": {},
   "outputs": [],
   "source": [
    "import os\n",
    "from datetime import datetime\n",
    "now = datetime.now()\n",
    "os.environ['LOCAL_TESTING'] = ''\n",
    "os.environ['LOGS_PATH'] = '/home/working_directory/ml/ramp-kits/pollenating_insects_3/logs_2017-10-03-16-05'\n",
    "\n",
    "submission='keras_inceptionResNetV2_finetunning_imbalanced'\n",
    "!ramp_test_submission --submission {submission} > submissions/{submission}/log_{now.strftime(\"%Y-%m-%d-%H-%M\")} 2>&1"
   ]
  },
  {
   "cell_type": "code",
   "execution_count": null,
   "metadata": {},
   "outputs": [],
   "source": []
  },
  {
   "cell_type": "code",
   "execution_count": null,
   "metadata": {},
   "outputs": [],
   "source": [
    "del os.environ['LOGS_PATH']\n",
    "\n",
    "import os\n",
    "from datetime import datetime\n",
    "now = datetime.now()\n",
    "os.environ['LOCAL_TESTING'] = ''\n",
    "\n",
    "submission='keras_inceptionResNetV2_finetunning_imbalanced'\n",
    "!ramp_test_submission --submission {submission} > submissions/{submission}/log_{now.strftime(\"%Y-%m-%d-%H-%M\")} 2>&1"
   ]
  },
  {
   "cell_type": "code",
   "execution_count": null,
   "metadata": {},
   "outputs": [],
   "source": [
    "del os.environ['LOGS_PATH']\n",
    "\n",
    "import os\n",
    "from datetime import datetime\n",
    "now = datetime.now()\n",
    "os.environ['LOCAL_TESTING'] = ''\n",
    "os.environ['LOGS_PATH'] = '/home/working_directory/ml/ramp-kits/pollenating_insects_3/logs_2017-10-03-16-05'\n",
    "os.environ['LOAD_BEST_MODEL'] = ''\n",
    "\n",
    "submission='keras_inceptionResNetV2_finetunning_imbalanced'\n",
    "!ramp_test_submission --submission {submission} > submissions/{submission}/log_{now.strftime(\"%Y-%m-%d-%H-%M\")} 2>&1"
   ]
  },
  {
   "cell_type": "code",
   "execution_count": null,
   "metadata": {},
   "outputs": [],
   "source": []
  },
  {
   "cell_type": "code",
   "execution_count": null,
   "metadata": {},
   "outputs": [
    {
     "name": "stdout",
     "output_type": "stream",
     "text": [
      "^C\r\n"
     ]
    }
   ],
   "source": [
    "\n",
    "import os\n",
    "from datetime import datetime\n",
    "now = datetime.now()\n",
    "os.environ['LOCAL_TESTING'] = ''\n",
    "\n",
    "submission='keras_inceptionResNetV2_finetunning'\n",
    "!ramp_test_submission --submission {submission} > submissions/{submission}/log_{now.strftime(\"%Y-%m-%d-%H-%M\")} 2>&1"
   ]
  },
  {
   "cell_type": "code",
   "execution_count": 1,
   "metadata": {},
   "outputs": [],
   "source": [
    "\n",
    "import os\n",
    "from datetime import datetime\n",
    "now = datetime.now()\n",
    "os.environ['LOCAL_TESTING'] = ''\n",
    "os.environ['LOAD_BEST_MODEL'] = ''\n",
    "os.environ['LOGS_PATH'] = '/home/working_directory/ml/ramp-kits/pollenating_insects_3/logs_2017-10-04-17-58'\n",
    "\n",
    "submission='keras_inceptionResNetV2_finetunning'\n",
    "!ramp_test_submission --submission {submission} > submissions/{submission}/log_{now.strftime(\"%Y-%m-%d-%H-%M\")} 2>&1"
   ]
  },
  {
   "cell_type": "code",
   "execution_count": null,
   "metadata": {},
   "outputs": [],
   "source": []
  },
  {
   "cell_type": "code",
   "execution_count": null,
   "metadata": {},
   "outputs": [],
   "source": [
    "\n",
    "import os\n",
    "from datetime import datetime\n",
    "now = datetime.now()\n",
    "os.environ['LOCAL_TESTING'] = ''\n",
    "# os.environ['LOAD_BEST_MODEL'] = ''\n",
    "# os.environ['LOGS_PATH'] = '/home/working_directory/ml/ramp-kits/pollenating_insects_3/logs_2017-10-04-17-58'\n",
    "\n",
    "submission='keras_inceptionResNetV2_finetunning_imbalanced2'\n",
    "!ramp_test_submission --submission {submission} > submissions/{submission}/log_{now.strftime(\"%Y-%m-%d-%H-%M\")} 2>&1"
   ]
  },
  {
   "cell_type": "code",
   "execution_count": null,
   "metadata": {},
   "outputs": [],
   "source": [
    "\n",
    "import os\n",
    "from datetime import datetime\n",
    "now = datetime.now()\n",
    "os.environ['LOCAL_TESTING'] = ''\n",
    "# os.environ['LOAD_BEST_MODEL'] = ''\n",
    "# os.environ['LOGS_PATH'] = '/home/working_directory/ml/ramp-kits/pollenating_insects_3/logs_2017-10-04-17-58'\n",
    "\n",
    "submission='keras_inceptionResNetV2_finetunning_imbalanced2'\n",
    "!ramp_test_submission --submission {submission} > submissions/{submission}/log_{now.strftime(\"%Y-%m-%d-%H-%M\")} 2>&1"
   ]
  },
  {
   "cell_type": "code",
   "execution_count": null,
   "metadata": {},
   "outputs": [],
   "source": []
  },
  {
   "cell_type": "code",
   "execution_count": null,
   "metadata": {},
   "outputs": [],
   "source": [
    "import os\n",
    "from datetime import datetime\n",
    "now = datetime.now()\n",
    "os.environ['LOCAL_TESTING'] = ''\n",
    "# os.environ['LOAD_BEST_MODEL'] = ''\n",
    "# os.environ['LOGS_PATH'] = '/home/working_directory/ml/ramp-kits/pollenating_insects_3/logs_2017-10-04-17-58'\n",
    "\n",
    "submission='keras_inceptionResNetV2_finetunning_imbalanced3'\n",
    "!ramp_test_submission --submission {submission} > submissions/{submission}/log_{now.strftime(\"%Y-%m-%d-%H-%M\")} 2>&1"
   ]
  },
  {
   "cell_type": "code",
   "execution_count": null,
   "metadata": {},
   "outputs": [],
   "source": []
  },
  {
   "cell_type": "code",
   "execution_count": null,
   "metadata": {},
   "outputs": [],
   "source": []
  },
  {
   "cell_type": "code",
   "execution_count": 2,
   "metadata": {},
   "outputs": [],
   "source": [
    "\n",
    "import os\n",
    "from datetime import datetime\n",
    "now = datetime.now()\n",
    "os.environ['LOCAL_TESTING'] = ''\n",
    "os.environ['LOAD_BEST_MODEL'] = ''\n",
    "os.environ['LOGS_PATH'] = '/home/working_directory/ml/ramp-kits/pollenating_insects_3/logs_inceptionResNetV2_finetunning_imbalanced3c4_2017-10-07-08-51'\n",
    "\n",
    "submission='keras_inceptionResNetV2_finetunning_imbalanced3c4'\n",
    "!ramp_test_submission --submission {submission} > submissions/{submission}/log_{now.strftime(\"%Y-%m-%d-%H-%M\")} 2>&1"
   ]
  },
  {
   "cell_type": "code",
   "execution_count": null,
   "metadata": {},
   "outputs": [],
   "source": []
  },
  {
   "cell_type": "code",
   "execution_count": 2,
   "metadata": {},
   "outputs": [
    {
     "name": "stdout",
     "output_type": "stream",
     "text": [
      "^C\r\n"
     ]
    }
   ],
   "source": [
    "\n",
    "import os\n",
    "from datetime import datetime\n",
    "now = datetime.now()\n",
    "os.environ['LOCAL_TESTING'] = ''\n",
    "# os.environ['LOAD_BEST_MODEL'] = ''\n",
    "# os.environ['LOGS_PATH'] = '/home/working_directory/ml/ramp-kits/pollenating_insects_3/'\n",
    "\n",
    "submission='keras_DenseNet161_finetunning_imbalanced'\n",
    "!ramp_test_submission --submission {submission} > submissions/{submission}/log_{now.strftime(\"%Y-%m-%d-%H-%M\")} 2>&1"
   ]
  },
  {
   "cell_type": "code",
   "execution_count": 3,
   "metadata": {},
   "outputs": [
    {
     "name": "stdout",
     "output_type": "stream",
     "text": [
      "^C\r\n"
     ]
    }
   ],
   "source": [
    "\n",
    "import os\n",
    "from datetime import datetime\n",
    "now = datetime.now()\n",
    "os.environ['LOCAL_TESTING'] = ''\n",
    "# os.environ['LOAD_BEST_MODEL'] = ''\n",
    "# os.environ['LOGS_PATH'] = '/home/working_directory/ml/ramp-kits/pollenating_insects_3/logs_DenseNet169_finetunning_imbalanced_20171008_0641'\n",
    "\n",
    "submission='keras_DenseNet169_finetunning_imbalanced'\n",
    "!ramp_test_submission --submission {submission} > submissions/{submission}/log_{now.strftime(\"%Y-%m-%d-%H-%M\")} 2>&1"
   ]
  },
  {
   "cell_type": "code",
   "execution_count": 4,
   "metadata": {},
   "outputs": [],
   "source": [
    "\n",
    "import os\n",
    "from datetime import datetime\n",
    "now = datetime.now()\n",
    "os.environ['LOCAL_TESTING'] = ''\n",
    "os.environ['LOAD_BEST_MODEL'] = ''\n",
    "os.environ['LOGS_PATH'] = '/home/working_directory/ml/ramp-kits/pollenating_insects_3/logs_DenseNet169_finetunning_imbalanced_20171008_0641'\n",
    "\n",
    "submission='keras_DenseNet169_finetunning_imbalanced'\n",
    "!ramp_test_submission --submission {submission} > submissions/{submission}/log_{now.strftime(\"%Y-%m-%d-%H-%M\")} 2>&1"
   ]
  },
  {
   "cell_type": "code",
   "execution_count": null,
   "metadata": {},
   "outputs": [],
   "source": []
  },
  {
   "cell_type": "code",
   "execution_count": null,
   "metadata": {},
   "outputs": [],
   "source": [
    "# ## \n",
    "# import os\n",
    "# from datetime import datetime\n",
    "# now = datetime.now()\n",
    "# os.environ['LOCAL_TESTING'] = ''\n",
    "# # os.environ['LOAD_BEST_MODEL'] = ''\n",
    "# # os.environ['LOGS_PATH'] = '/home/working_directory/ml/ramp-kits/pollenating_insects_3/logs_2017-10-04-17-58'\n",
    "\n",
    "# submission='keras_inceptionResNetV2_finetunning_imbalanced4'\n",
    "# !ramp_test_submission --submission {submission} > submissions/{submission}/log_{now.strftime(\"%Y-%m-%d-%H-%M\")} 2>&1"
   ]
  },
  {
   "cell_type": "code",
   "execution_count": null,
   "metadata": {},
   "outputs": [],
   "source": []
  },
  {
   "cell_type": "code",
   "execution_count": null,
   "metadata": {},
   "outputs": [],
   "source": []
  },
  {
   "cell_type": "code",
   "execution_count": 8,
   "metadata": {},
   "outputs": [],
   "source": [
    "\n",
    "import os\n",
    "from datetime import datetime\n",
    "now = datetime.now()\n",
    "os.environ['LOCAL_TESTING'] = ''\n",
    "os.environ['LOAD_BEST_MODEL'] = ''\n",
    "os.environ['LOGS_PATH'] = '/home/working_directory/ml/ramp-kits/pollenating_insects_3/logs_inceptionResNetV2_finetunning_imbalanced4'\n",
    "\n",
    "submission='keras_inceptionResNetV2_finetunning_imbalanced4'\n",
    "!ramp_test_submission --submission {submission} > submissions/{submission}/log_{now.strftime(\"%Y-%m-%d-%H-%M\")} 2>&1"
   ]
  },
  {
   "cell_type": "code",
   "execution_count": 17,
   "metadata": {},
   "outputs": [
    {
     "name": "stdout",
     "output_type": "stream",
     "text": [
      "^C\r\n"
     ]
    }
   ],
   "source": [
    "\n",
    "import os\n",
    "from datetime import datetime\n",
    "now = datetime.now()\n",
    "os.environ['LOCAL_TESTING'] = ''\n",
    "os.environ['LOAD_BEST_MODEL'] = ''\n",
    "os.environ['LOGS_PATH'] = '/home/working_directory/ml/ramp-kits/pollenating_insects_3/logs_inceptionResNetV2_finetunning_imbalanced4b'\n",
    "\n",
    "submission='keras_inceptionResNetV2_finetunning_imbalanced4b'\n",
    "!ramp_test_submission --submission {submission} > submissions/{submission}/log_{now.strftime(\"%Y-%m-%d-%H-%M\")} 2>&1"
   ]
  },
  {
   "cell_type": "code",
   "execution_count": null,
   "metadata": {},
   "outputs": [],
   "source": []
  },
  {
   "cell_type": "code",
   "execution_count": null,
   "metadata": {},
   "outputs": [],
   "source": []
  },
  {
   "cell_type": "code",
   "execution_count": null,
   "metadata": {},
   "outputs": [],
   "source": [
    "\n",
    "import os\n",
    "from datetime import datetime\n",
    "now = datetime.now()\n",
    "os.environ['LOCAL_TESTING'] = ''\n",
    "os.environ['LOAD_BEST_MODEL'] = ''\n",
    "os.environ['LOGS_PATH'] = '/home/working_directory/ml/ramp-kits/pollenating_insects_3/logs_inceptionResNetV2_finetunning_imbalanced4c_20171010_1125'\n",
    "\n",
    "submission='keras_inceptionResNetV2_finetunning_imbalanced4c'\n",
    "!ramp_test_submission --submission {submission} > submissions/{submission}/log_{now.strftime(\"%Y-%m-%d-%H-%M\")} 2>&1"
   ]
  },
  {
   "cell_type": "code",
   "execution_count": null,
   "metadata": {},
   "outputs": [],
   "source": []
  },
  {
   "cell_type": "code",
   "execution_count": null,
   "metadata": {},
   "outputs": [],
   "source": []
  },
  {
   "cell_type": "code",
   "execution_count": null,
   "metadata": {},
   "outputs": [],
   "source": [
    "\n",
    "import os\n",
    "from datetime import datetime\n",
    "now = datetime.now()\n",
    "os.environ['LOCAL_TESTING'] = ''\n",
    "# os.environ['LOAD_BEST_MODEL'] = ''\n",
    "# os.environ['LOGS_PATH'] = '/home/working_directory/ml/ramp-kits/pollenating_insects_3/logs_inceptionResNetV2_finetunning_imbalanced4c_20171010_1125'\n",
    "\n",
    "submission='keras_inceptionResNetV2_finetunning_imbalanced4c2'\n",
    "!ramp_test_submission --submission {submission} > submissions/{submission}/log_{now.strftime(\"%Y-%m-%d-%H-%M\")} 2>&1"
   ]
  },
  {
   "cell_type": "code",
   "execution_count": null,
   "metadata": {},
   "outputs": [],
   "source": []
  },
  {
   "cell_type": "code",
   "execution_count": null,
   "metadata": {},
   "outputs": [],
   "source": [
    "\n",
    "import os\n",
    "from datetime import datetime\n",
    "now = datetime.now()\n",
    "os.environ['LOCAL_TESTING'] = ''\n",
    "# os.environ['LOAD_BEST_MODEL'] = ''\n",
    "# os.environ['LOGS_PATH'] = '/home/working_directory/ml/ramp-kits/pollenating_insects_3/logs_inceptionResNetV2_finetunning_imbalanced4c_20171010_1125'\n",
    "\n",
    "submission='keras_inceptionResNetV2_finetunning_imbalanced3c5'\n",
    "!ramp_test_submission --submission {submission} > submissions/{submission}/log_{now.strftime(\"%Y-%m-%d-%H-%M\")} 2>&1"
   ]
  },
  {
   "cell_type": "code",
   "execution_count": null,
   "metadata": {},
   "outputs": [],
   "source": []
  },
  {
   "cell_type": "code",
   "execution_count": null,
   "metadata": {},
   "outputs": [],
   "source": []
  },
  {
   "cell_type": "code",
   "execution_count": null,
   "metadata": {},
   "outputs": [
    {
     "name": "stdout",
     "output_type": "stream",
     "text": [
      "^C\r\n"
     ]
    }
   ],
   "source": [
    "\n",
    "import os\n",
    "from datetime import datetime\n",
    "now = datetime.now()\n",
    "os.environ['LOCAL_TESTING'] = ''\n",
    "\n",
    "submission='keras_MobileNet_imbalanced_451'\n",
    "!ramp_test_submission --submission {submission} > submissions/{submission}/log_{now.strftime(\"%Y-%m-%d-%H-%M\")} 2>&1"
   ]
  },
  {
   "cell_type": "code",
   "execution_count": null,
   "metadata": {},
   "outputs": [],
   "source": []
  },
  {
   "cell_type": "code",
   "execution_count": null,
   "metadata": {},
   "outputs": [
    {
     "name": "stdout",
     "output_type": "stream",
     "text": [
      "^C\r\n"
     ]
    }
   ],
   "source": [
    "\n",
    "import os\n",
    "from datetime import datetime\n",
    "now = datetime.now()\n",
    "os.environ['LOCAL_TESTING'] = ''\n",
    "\n",
    "submission='keras_inceptionResNetV2_finetunning_imbalanced3c6'\n",
    "!ramp_test_submission --submission {submission} > submissions/{submission}/log_{now.strftime(\"%Y-%m-%d-%H-%M\")} 2>&1"
   ]
  },
  {
   "cell_type": "code",
   "execution_count": null,
   "metadata": {},
   "outputs": [],
   "source": []
  },
  {
   "cell_type": "code",
   "execution_count": 2,
   "metadata": {},
   "outputs": [],
   "source": [
    "\n",
    "import os\n",
    "from datetime import datetime\n",
    "now = datetime.now()\n",
    "os.environ['LOCAL_TESTING'] = ''\n",
    "os.environ['LOAD_BEST_MODEL'] = ''\n",
    "os.environ['LOGS_PATH'] = '/home/working_directory/ml/ramp-kits/pollenating_insects_3/logs_inceptionResNetV2_finetunning_imbalanced3c7_20171013_1820'\n",
    "\n",
    "\n",
    "submission='keras_inceptionResNetV2_finetunning_imbalanced3c7'\n",
    "!ramp_test_submission --submission {submission} > submissions/{submission}/log_{now.strftime(\"%Y-%m-%d-%H-%M\")} 2>&1"
   ]
  },
  {
   "cell_type": "code",
   "execution_count": null,
   "metadata": {},
   "outputs": [],
   "source": []
  },
  {
   "cell_type": "code",
   "execution_count": 1,
   "metadata": {},
   "outputs": [],
   "source": [
    "\n",
    "import os\n",
    "from datetime import datetime\n",
    "now = datetime.now()\n",
    "os.environ['LOCAL_TESTING'] = ''\n",
    "\n",
    "submission='keras_inceptionResNetV2_finetunning_imbalanced3c8'\n",
    "!ramp_test_submission --submission {submission} > submissions/{submission}/log_{now.strftime(\"%Y-%m-%d-%H-%M\")} 2>&1"
   ]
  },
  {
   "cell_type": "code",
   "execution_count": null,
   "metadata": {},
   "outputs": [],
   "source": []
  },
  {
   "cell_type": "code",
   "execution_count": null,
   "metadata": {},
   "outputs": [],
   "source": []
  },
  {
   "cell_type": "code",
   "execution_count": null,
   "metadata": {},
   "outputs": [],
   "source": [
    "\n",
    "import os\n",
    "from datetime import datetime\n",
    "now = datetime.now()\n",
    "os.environ['LOCAL_TESTING'] = ''\n",
    "\n",
    "submission='keras_inceptionResNetV2_finetunning_imbalanced4c1'\n",
    "!ramp_test_submission --submission {submission} > submissions/{submission}/log_{now.strftime(\"%Y-%m-%d-%H-%M\")} 2>&1"
   ]
  },
  {
   "cell_type": "code",
   "execution_count": null,
   "metadata": {},
   "outputs": [],
   "source": []
  },
  {
   "cell_type": "code",
   "execution_count": 1,
   "metadata": {},
   "outputs": [],
   "source": [
    "\n",
    "import os\n",
    "from datetime import datetime\n",
    "now = datetime.now()\n",
    "os.environ['LOCAL_TESTING'] = ''\n",
    "\n",
    "submission='keras_DenseNet169_finetunning_imbalanced2'\n",
    "!ramp_test_submission --submission {submission} > submissions/{submission}/log_{now.strftime(\"%Y-%m-%d-%H-%M\")} 2>&1"
   ]
  },
  {
   "cell_type": "code",
   "execution_count": null,
   "metadata": {},
   "outputs": [],
   "source": []
  },
  {
   "cell_type": "code",
   "execution_count": 2,
   "metadata": {},
   "outputs": [],
   "source": [
    "\n",
    "import os\n",
    "from datetime import datetime\n",
    "now = datetime.now()\n",
    "os.environ['LOCAL_TESTING'] = ''\n",
    "\n",
    "submission='keras_DenseNet161_finetunning_imbalanced2'\n",
    "!ramp_test_submission --submission {submission} > submissions/{submission}/log_{now.strftime(\"%Y-%m-%d-%H-%M\")} 2>&1"
   ]
  },
  {
   "cell_type": "code",
   "execution_count": null,
   "metadata": {},
   "outputs": [],
   "source": []
  },
  {
   "cell_type": "code",
   "execution_count": null,
   "metadata": {},
   "outputs": [],
   "source": [
    "\n",
    "import os\n",
    "from datetime import datetime\n",
    "now = datetime.now()\n",
    "os.environ['LOCAL_TESTING'] = ''\n",
    "os.environ['LOAD_BEST_MODEL'] = ''\n",
    "os.environ['LOGS_PATH'] = '/home/working_directory/ml/ramp-kits/pollenating_insects_3/logs_DenseNet169_finetunning_imbalanced2a_20171015_1101'\n",
    "\n",
    "submission='keras_DenseNet169_finetunning_imbalanced2a'\n",
    "!ramp_test_submission --submission {submission} > submissions/{submission}/log_{now.strftime(\"%Y-%m-%d-%H-%M\")} 2>&1"
   ]
  },
  {
   "cell_type": "code",
   "execution_count": null,
   "metadata": {},
   "outputs": [],
   "source": []
  },
  {
   "cell_type": "code",
   "execution_count": null,
   "metadata": {},
   "outputs": [],
   "source": [
    "\n",
    "import os\n",
    "from datetime import datetime\n",
    "now = datetime.now()\n",
    "os.environ['LOCAL_TESTING'] = ''\n",
    "\n",
    "submission='keras_DenseNet161_finetunning_imbalanced2a'\n",
    "!ramp_test_submission --submission {submission} > submissions/{submission}/log_{now.strftime(\"%Y-%m-%d-%H-%M\")} 2>&1"
   ]
  },
  {
   "cell_type": "code",
   "execution_count": null,
   "metadata": {},
   "outputs": [],
   "source": []
  },
  {
   "cell_type": "code",
   "execution_count": null,
   "metadata": {},
   "outputs": [
    {
     "name": "stdout",
     "output_type": "stream",
     "text": [
      "^C\r\n"
     ]
    }
   ],
   "source": [
    "\n",
    "import os\n",
    "from datetime import datetime\n",
    "now = datetime.now()\n",
    "os.environ['LOCAL_TESTING'] = ''\n",
    "\n",
    "submission='keras_DenseNet169_finetunning_imbalanced3'\n",
    "!ramp_test_submission --submission {submission} > submissions/{submission}/log_{now.strftime(\"%Y-%m-%d-%H-%M\")} 2>&1"
   ]
  },
  {
   "cell_type": "code",
   "execution_count": null,
   "metadata": {},
   "outputs": [],
   "source": []
  },
  {
   "cell_type": "code",
   "execution_count": null,
   "metadata": {},
   "outputs": [],
   "source": [
    "\n",
    "import os\n",
    "from datetime import datetime\n",
    "now = datetime.now()\n",
    "os.environ['LOCAL_TESTING'] = ''\n",
    "\n",
    "submission='keras_inceptionResNetV2_finetunning_imbalanced5'\n",
    "!ramp_test_submission --submission {submission} > submissions/{submission}/log_{now.strftime(\"%Y-%m-%d-%H-%M\")} 2>&1"
   ]
  },
  {
   "cell_type": "code",
   "execution_count": null,
   "metadata": {},
   "outputs": [],
   "source": []
  },
  {
   "cell_type": "code",
   "execution_count": null,
   "metadata": {},
   "outputs": [],
   "source": []
  },
  {
   "cell_type": "code",
   "execution_count": null,
   "metadata": {},
   "outputs": [],
   "source": [
    "\n",
    "import os\n",
    "from datetime import datetime\n",
    "now = datetime.now()\n",
    "os.environ['LOCAL_TESTING'] = ''\n",
    "\n",
    "submission='pytorch_aussetg_gotta_go_fast'\n",
    "!ramp_test_submission --submission {submission} > submissions/{submission}/log_{now.strftime(\"%Y-%m-%d-%H-%M\")} 2>&1"
   ]
  },
  {
   "cell_type": "code",
   "execution_count": null,
   "metadata": {},
   "outputs": [],
   "source": []
  },
  {
   "cell_type": "code",
   "execution_count": 2,
   "metadata": {},
   "outputs": [],
   "source": [
    "\n",
    "import os\n",
    "from datetime import datetime\n",
    "now = datetime.now()\n",
    "os.environ['LOCAL_TESTING'] = ''\n",
    "\n",
    "submission='pytorch_aussetg_gotta_go_fast_2'\n",
    "!ramp_test_submission --submission {submission} > submissions/{submission}/log_{now.strftime(\"%Y-%m-%d-%H-%M\")} 2>&1"
   ]
  },
  {
   "cell_type": "code",
   "execution_count": null,
   "metadata": {},
   "outputs": [],
   "source": []
  },
  {
   "cell_type": "code",
   "execution_count": null,
   "metadata": {},
   "outputs": [],
   "source": []
  },
  {
   "cell_type": "code",
   "execution_count": 9,
   "metadata": {},
   "outputs": [
    {
     "name": "stdout",
     "output_type": "stream",
     "text": [
      "^C\r\n"
     ]
    }
   ],
   "source": [
    "\n",
    "import os\n",
    "from datetime import datetime\n",
    "now = datetime.now()\n",
    "os.environ['LOCAL_TESTING'] = ''\n",
    "\n",
    "submission='keras_inceptionResNetV2_finetunning_imbalanced6'\n",
    "!ramp_test_submission --submission {submission} > submissions/{submission}/log_{now.strftime(\"%Y-%m-%d-%H-%M\")} 2>&1"
   ]
  },
  {
   "cell_type": "code",
   "execution_count": null,
   "metadata": {},
   "outputs": [],
   "source": []
  },
  {
   "cell_type": "code",
   "execution_count": null,
   "metadata": {},
   "outputs": [],
   "source": [
    "\n",
    "import os\n",
    "from datetime import datetime\n",
    "now = datetime.now()\n",
    "os.environ['LOCAL_TESTING'] = ''\n",
    "\n",
    "submission='keras_InceptionV4_finetunning_imbalanced'\n",
    "!ramp_test_submission --submission {submission} > submissions/{submission}/log_{now.strftime(\"%Y-%m-%d-%H-%M\")} 2>&1"
   ]
  },
  {
   "cell_type": "code",
   "execution_count": null,
   "metadata": {},
   "outputs": [],
   "source": []
  },
  {
   "cell_type": "code",
   "execution_count": null,
   "metadata": {},
   "outputs": [],
   "source": []
  },
  {
   "cell_type": "code",
   "execution_count": null,
   "metadata": {},
   "outputs": [
    {
     "name": "stdout",
     "output_type": "stream",
     "text": [
      "^C\r\n"
     ]
    }
   ],
   "source": [
    "\n",
    "import os\n",
    "from datetime import datetime\n",
    "now = datetime.now()\n",
    "os.environ['LOCAL_TESTING'] = ''\n",
    "\n",
    "submission='keras_Xception_finetunning_imbalanced'\n",
    "!ramp_test_submission --submission {submission} > submissions/{submission}/log_{now.strftime(\"%Y-%m-%d-%H-%M\")} 2>&1"
   ]
  },
  {
   "cell_type": "code",
   "execution_count": 1,
   "metadata": {},
   "outputs": [],
   "source": [
    "\n",
    "import os\n",
    "from datetime import datetime\n",
    "now = datetime.now()\n",
    "os.environ['LOCAL_TESTING'] = ''\n",
    "os.environ['LOAD_BEST_MODEL'] = ''\n",
    "os.environ['LOGS_PATH'] = '/home/working_directory/ml/ramp-kits/pollenating_insects_3/logs_keras_Xception_finetunning_imbalanced_20171022_2215'\n",
    "\n",
    "submission='keras_Xception_finetunning_imbalanced'\n",
    "!ramp_test_submission --submission {submission} > submissions/{submission}/log_{now.strftime(\"%Y-%m-%d-%H-%M\")} 2>&1"
   ]
  },
  {
   "cell_type": "code",
   "execution_count": null,
   "metadata": {},
   "outputs": [],
   "source": []
  },
  {
   "cell_type": "code",
   "execution_count": null,
   "metadata": {},
   "outputs": [],
   "source": [
    "import os\n",
    "from datetime import datetime\n",
    "now = datetime.now()\n",
    "os.environ['LOCAL_TESTING'] = ''\n",
    "\n",
    "submission='keras_inceptionResNetV2_finetunning_imbalanced7'\n",
    "!ramp_test_submission --submission {submission} > submissions/{submission}/log_{now.strftime(\"%Y-%m-%d-%H-%M\")} 2>&1"
   ]
  },
  {
   "cell_type": "code",
   "execution_count": null,
   "metadata": {},
   "outputs": [],
   "source": []
  },
  {
   "cell_type": "code",
   "execution_count": null,
   "metadata": {},
   "outputs": [],
   "source": [
    "import os\n",
    "from datetime import datetime\n",
    "now = datetime.now()\n",
    "os.environ['LOCAL_TESTING'] = ''\n",
    "\n",
    "submission='keras_InceptionResNetV2_finetunning_imbalanced8'\n",
    "!ramp_test_submission --submission {submission} > submissions/{submission}/log_{now.strftime(\"%Y-%m-%d-%H-%M\")} 2>&1"
   ]
  },
  {
   "cell_type": "code",
   "execution_count": null,
   "metadata": {},
   "outputs": [],
   "source": []
  }
 ],
 "metadata": {
  "kernelspec": {
   "display_name": "Python 2",
   "language": "python",
   "name": "python2"
  },
  "language_info": {
   "codemirror_mode": {
    "name": "ipython",
    "version": 2
   },
   "file_extension": ".py",
   "mimetype": "text/x-python",
   "name": "python",
   "nbconvert_exporter": "python",
   "pygments_lexer": "ipython2",
   "version": "2.7.12"
  }
 },
 "nbformat": 4,
 "nbformat_minor": 2
}
