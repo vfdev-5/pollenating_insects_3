{
 "cells": [
  {
   "cell_type": "code",
   "execution_count": 1,
   "metadata": {},
   "outputs": [],
   "source": [
    "import os \n",
    "import sys\n",
    "import numpy as np\n",
    "\n",
    "sys.path.append(\"../submissions/keras_inceptionResNetV2_finetunning_imbalanced/\")\n",
    "sys.path.append(\"../\")"
   ]
  },
  {
   "cell_type": "code",
   "execution_count": 2,
   "metadata": {},
   "outputs": [],
   "source": [
    "os.environ['CUDA_VISIBLE_DEVICES'] = '0'"
   ]
  },
  {
   "cell_type": "code",
   "execution_count": 3,
   "metadata": {},
   "outputs": [
    {
     "name": "stderr",
     "output_type": "stream",
     "text": [
      "Using TensorFlow backend.\n"
     ]
    }
   ],
   "source": [
    "from image_preprocessor import transform, transform_test\n",
    "from batch_classifier import BatchClassifier, load_pretrained_model\n",
    "from problem import get_cv, get_train_data, Predictions, score_types"
   ]
  },
  {
   "cell_type": "code",
   "execution_count": 4,
   "metadata": {},
   "outputs": [],
   "source": [
    "from rampwf.workflows.image_classifier import _chunk_iterator"
   ]
  },
  {
   "cell_type": "code",
   "execution_count": 5,
   "metadata": {},
   "outputs": [],
   "source": [
    "n_classes = 403"
   ]
  },
  {
   "cell_type": "code",
   "execution_count": 6,
   "metadata": {},
   "outputs": [
    {
     "name": "stdout",
     "output_type": "stream",
     "text": [
      "Load best loss weights:  /home/working_directory/ml/ramp-kits/pollenating_insects_3/logs_2017-10-03-11-17/weights/InceptionResNetV2_20_val_loss=1.7454_val_acc=0.5770_val_f170=0.0433.h5 1.7454\n"
     ]
    }
   ],
   "source": [
    "builder = BatchClassifier()\n",
    "load_pretrained_model(builder.model, logs_path='/home/working_directory/ml/ramp-kits/pollenating_insects_3/logs_2017-10-03-11-17')"
   ]
  },
  {
   "cell_type": "code",
   "execution_count": 7,
   "metadata": {},
   "outputs": [],
   "source": [
    "trained_model = transform, transform_test, builder"
   ]
  },
  {
   "cell_type": "code",
   "execution_count": 8,
   "metadata": {},
   "outputs": [],
   "source": [
    "folder_X_array, y_train = get_train_data(path=\"..\")"
   ]
  },
  {
   "cell_type": "code",
   "execution_count": 9,
   "metadata": {},
   "outputs": [],
   "source": [
    "import cv2"
   ]
  },
  {
   "cell_type": "code",
   "execution_count": 99,
   "metadata": {},
   "outputs": [
    {
     "name": "stdout",
     "output_type": "stream",
     "text": [
      "Start predictions...\n"
     ]
    }
   ],
   "source": [
    "test_batch_size = 1024\n",
    "\n",
    "folder, X_array = folder_X_array\n",
    "transform_img, transform_test_img, clf = trained_model\n",
    "it = _chunk_iterator(X_array, folder=folder, chunk_size=test_batch_size)\n",
    "y_proba = []\n",
    "for X in it:\n",
    "    for i in range(0, len(X), test_batch_size):\n",
    "        # 1) Preprocessing\n",
    "        X_batch = X[i: i + test_batch_size]\n",
    "        # X_batch = Parallel(n_jobs=self.n_jobs, backend='threading')(\n",
    "        #     delayed(transform_img)(x) for x in X_batch)\n",
    "        X_batch = [transform_test_img(x) for x in X_batch]\n",
    "        # X is a list of numpy arrrays at this point, convert it to a\n",
    "        # single numpy array.\n",
    "        try:\n",
    "            X_batch = [x[np.newaxis, :, :, :] for x in X_batch]\n",
    "        except IndexError:\n",
    "            # single channel\n",
    "            X_batch = [\n",
    "                x[np.newaxis, np.newaxis, :, :] for x in X_batch]\n",
    "        X_batch = np.concatenate(X_batch, axis=0)\n",
    "\n",
    "        # 2) Prediction\n",
    "        print(\"Start predictions...\")\n",
    "        X_batch_aug1 = np.zeros_like(X_batch)\n",
    "        X_batch_aug2 = np.zeros_like(X_batch)\n",
    "        for i, x in enumerate(X_batch):\n",
    "            X_batch_aug1[i, ...] = cv2.flip(x, 0)\n",
    "            X_batch_aug2[i, ...] = cv2.flip(x, 1)            \n",
    "        y_proba_batch0 = clf.predict_proba(X_batch)        \n",
    "        y_proba_batch1 = clf.predict_proba(X_batch_aug1)\n",
    "        y_proba_batch2 = clf.predict_proba(X_batch_aug2)\n",
    "        y_proba_batch = 0.33 * (y_proba_batch0 + y_proba_batch1 + y_proba_batch2)\n",
    "        y_proba.append(y_proba_batch)\n",
    "        break\n",
    "    break\n",
    "y_proba = np.concatenate(y_proba, axis=0)"
   ]
  },
  {
   "cell_type": "code",
   "execution_count": 100,
   "metadata": {},
   "outputs": [
    {
     "data": {
      "text/plain": [
       "(1024, 403)"
      ]
     },
     "execution_count": 100,
     "metadata": {},
     "output_type": "execute_result"
    }
   ],
   "source": [
    "y_proba_batch.shape"
   ]
  },
  {
   "cell_type": "code",
   "execution_count": 80,
   "metadata": {
    "collapsed": true
   },
   "outputs": [
    {
     "name": "stdout",
     "output_type": "stream",
     "text": [
      "(0.13558371, 124, array([], dtype=float32))\n",
      "(0.65769303, 159, array([ 0.65769303], dtype=float32))\n",
      "(0.97289217, 117, array([ 0.97289217], dtype=float32))\n",
      "(0.946141, 121, array([ 0.946141], dtype=float32))\n",
      "(0.98147136, 108, array([ 0.98147136], dtype=float32))\n",
      "(0.44682536, 27, array([], dtype=float32))\n",
      "(0.80985063, 173, array([ 0.80985063], dtype=float32))\n",
      "(0.63100082, 159, array([ 0.63100082], dtype=float32))\n",
      "(0.26170903, 354, array([], dtype=float32))\n",
      "(0.58912617, 180, array([ 0.58912617], dtype=float32))\n",
      "(0.88288593, 57, array([ 0.88288593], dtype=float32))\n",
      "(0.26484889, 180, array([], dtype=float32))\n",
      "(0.25427717, 10, array([], dtype=float32))\n",
      "(0.99758494, 39, array([ 0.99758494], dtype=float32))\n",
      "(0.95805752, 159, array([ 0.95805752], dtype=float32))\n",
      "(0.23291485, 3, array([], dtype=float32))\n",
      "(0.99639744, 24, array([ 0.99639744], dtype=float32))\n",
      "(0.69192034, 53, array([ 0.69192034], dtype=float32))\n",
      "(0.46601364, 131, array([], dtype=float32))\n",
      "(0.11483695, 89, array([], dtype=float32))\n",
      "(0.39367998, 119, array([], dtype=float32))\n",
      "(0.97177345, 122, array([ 0.97177345], dtype=float32))\n",
      "(0.99976307, 159, array([ 0.99976307], dtype=float32))\n",
      "(0.99999857, 151, array([ 0.99999857], dtype=float32))\n",
      "(0.75571746, 171, array([ 0.75571746], dtype=float32))\n",
      "(0.99999928, 202, array([ 0.99999928], dtype=float32))\n",
      "(0.74379671, 159, array([ 0.74379671], dtype=float32))\n",
      "(0.57497168, 180, array([ 0.57497168], dtype=float32))\n",
      "(0.95115942, 77, array([ 0.95115942], dtype=float32))\n",
      "(0.47983518, 180, array([], dtype=float32))\n",
      "(0.63210118, 72, array([ 0.63210118], dtype=float32))\n",
      "(0.72859037, 202, array([ 0.72859037], dtype=float32))\n",
      "(0.99999511, 61, array([ 0.99999511], dtype=float32))\n",
      "(0.96614063, 22, array([ 0.96614063], dtype=float32))\n",
      "(0.30550262, 197, array([], dtype=float32))\n",
      "(0.96996337, 172, array([ 0.96996337], dtype=float32))\n",
      "(0.93068486, 155, array([ 0.93068486], dtype=float32))\n",
      "(0.26290816, 15, array([], dtype=float32))\n",
      "(0.9538784, 172, array([ 0.9538784], dtype=float32))\n",
      "(0.84945101, 18, array([ 0.84945101], dtype=float32))\n",
      "(0.22692774, 112, array([], dtype=float32))\n",
      "(0.53753769, 8, array([ 0.53753769], dtype=float32))\n",
      "(0.99710435, 5, array([ 0.99710435], dtype=float32))\n",
      "(0.99995208, 159, array([ 0.99995208], dtype=float32))\n",
      "(0.99990749, 0, array([ 0.99990749], dtype=float32))\n",
      "(0.98987222, 0, array([ 0.98987222], dtype=float32))\n",
      "(0.95634913, 75, array([ 0.95634913], dtype=float32))\n",
      "(0.99471742, 165, array([ 0.99471742], dtype=float32))\n",
      "(0.97024071, 202, array([ 0.97024071], dtype=float32))\n",
      "(0.99993205, 84, array([ 0.99993205], dtype=float32))\n",
      "(0.77727073, 195, array([ 0.77727073], dtype=float32))\n",
      "(0.93672013, 175, array([ 0.93672013], dtype=float32))\n",
      "(0.80223268, 202, array([ 0.80223268], dtype=float32))\n",
      "(0.53614122, 202, array([ 0.53614122], dtype=float32))\n",
      "(0.91953921, 215, array([ 0.91953921], dtype=float32))\n",
      "(0.7393325, 244, array([ 0.7393325], dtype=float32))\n",
      "(0.35916385, 110, array([], dtype=float32))\n",
      "(0.99978381, 188, array([ 0.99978381], dtype=float32))\n",
      "(0.10886098, 50, array([], dtype=float32))\n",
      "(0.72872198, 202, array([ 0.72872198], dtype=float32))\n",
      "(0.9998455, 202, array([ 0.9998455], dtype=float32))\n",
      "(0.62711996, 169, array([ 0.62711996], dtype=float32))\n",
      "(0.99844104, 150, array([ 0.99844104], dtype=float32))\n",
      "(0.32514584, 25, array([], dtype=float32))\n",
      "(0.16812161, 202, array([], dtype=float32))\n",
      "(0.88099337, 7, array([ 0.88099337], dtype=float32))\n",
      "(0.23340164, 128, array([], dtype=float32))\n",
      "(0.35920483, 170, array([], dtype=float32))\n",
      "(0.99733919, 94, array([ 0.99733919], dtype=float32))\n",
      "(0.80621302, 202, array([ 0.80621302], dtype=float32))\n",
      "(0.58622152, 100, array([ 0.58622152], dtype=float32))\n",
      "(0.99156171, 179, array([ 0.99156171], dtype=float32))\n",
      "(0.58619636, 57, array([ 0.58619636], dtype=float32))\n",
      "(0.27246091, 236, array([], dtype=float32))\n",
      "(0.35189706, 170, array([], dtype=float32))\n",
      "(0.99968684, 159, array([ 0.99968684], dtype=float32))\n",
      "(0.28426129, 202, array([], dtype=float32))\n",
      "(0.6264568, 180, array([ 0.6264568], dtype=float32))\n",
      "(0.32130325, 91, array([], dtype=float32))\n",
      "(0.99939477, 26, array([ 0.99939477], dtype=float32))\n",
      "(0.92562532, 202, array([ 0.92562532], dtype=float32))\n",
      "(0.15454224, 3, array([], dtype=float32))\n",
      "(0.76478201, 136, array([ 0.76478201], dtype=float32))\n",
      "(0.71406376, 125, array([ 0.71406376], dtype=float32))\n",
      "(0.060099609, 77, array([], dtype=float32))\n",
      "(0.38600463, 18, array([], dtype=float32))\n",
      "(0.99574161, 20, array([ 0.99574161], dtype=float32))\n",
      "(1.0, 77, array([ 1.], dtype=float32))\n",
      "(0.61883527, 159, array([ 0.61883527], dtype=float32))\n",
      "(0.55669701, 173, array([ 0.55669701], dtype=float32))\n",
      "(0.82402641, 173, array([ 0.82402641], dtype=float32))\n",
      "(0.53434443, 11, array([ 0.53434443], dtype=float32))\n",
      "(0.72850317, 10, array([ 0.72850317], dtype=float32))\n",
      "(0.62807882, 68, array([ 0.62807882], dtype=float32))\n",
      "(0.98669177, 108, array([ 0.98669177], dtype=float32))\n",
      "(0.23849678, 183, array([], dtype=float32))\n",
      "(0.59945774, 189, array([ 0.59945774], dtype=float32))\n",
      "(0.9995845, 313, array([ 0.9995845], dtype=float32))\n",
      "(0.46339521, 148, array([], dtype=float32))\n",
      "(0.69658589, 40, array([ 0.69658589], dtype=float32))\n",
      "(0.9999547, 61, array([ 0.9999547], dtype=float32))\n",
      "(0.85680217, 57, array([ 0.85680217], dtype=float32))\n",
      "(0.55414486, 27, array([ 0.55414486], dtype=float32))\n",
      "(0.45553038, 202, array([], dtype=float32))\n",
      "(0.99999797, 71, array([ 0.99999797], dtype=float32))\n",
      "(0.18132165, 92, array([], dtype=float32))\n",
      "(0.33555466, 159, array([], dtype=float32))\n",
      "(0.52879423, 1, array([ 0.52879423], dtype=float32))\n",
      "(0.26781729, 27, array([], dtype=float32))\n",
      "(0.77027279, 20, array([ 0.77027279], dtype=float32))\n",
      "(0.25398895, 188, array([], dtype=float32))\n",
      "(0.98888922, 186, array([ 0.98888922], dtype=float32))\n",
      "(0.99999297, 93, array([ 0.99999297], dtype=float32))\n",
      "(0.99629176, 202, array([ 0.99629176], dtype=float32))\n",
      "(0.3304452, 203, array([], dtype=float32))\n",
      "(0.98970884, 191, array([ 0.98970884], dtype=float32))\n",
      "(0.55345756, 78, array([ 0.55345756], dtype=float32))\n",
      "(0.99818122, 190, array([ 0.99818122], dtype=float32))\n",
      "(0.9228695, 124, array([ 0.9228695], dtype=float32))\n",
      "(0.28543177, 159, array([], dtype=float32))\n",
      "(0.75606626, 94, array([ 0.75606626], dtype=float32))\n",
      "(0.34291866, 75, array([], dtype=float32))\n",
      "(0.51895118, 202, array([ 0.51895118], dtype=float32))\n",
      "(0.99961507, 5, array([ 0.99961507], dtype=float32))\n",
      "(0.74854708, 111, array([ 0.74854708], dtype=float32))\n",
      "(0.18719845, 9, array([], dtype=float32))\n",
      "(0.42141095, 39, array([], dtype=float32))\n",
      "(0.43898633, 159, array([], dtype=float32))\n"
     ]
    }
   ],
   "source": [
    "for i in range(test_batch_size):\n",
    "    print(np.max(y_proba_batch0[i, :]), np.argmax(y_proba_batch0[i, :]), y_proba_batch0[i, y_proba_batch0[i, :] > 0.5])"
   ]
  },
  {
   "cell_type": "code",
   "execution_count": 81,
   "metadata": {
    "collapsed": true
   },
   "outputs": [
    {
     "name": "stdout",
     "output_type": "stream",
     "text": [
      "(0.25138244, 124, array([], dtype=float32))\n",
      "(0.58950537, 159, array([ 0.58950537], dtype=float32))\n",
      "(0.9938215, 117, array([ 0.9938215], dtype=float32))\n",
      "(0.96411043, 121, array([ 0.96411043], dtype=float32))\n",
      "(0.97411668, 108, array([ 0.97411668], dtype=float32))\n",
      "(0.32700714, 27, array([], dtype=float32))\n",
      "(0.75069684, 173, array([ 0.75069684], dtype=float32))\n",
      "(0.61738271, 202, array([ 0.61738271], dtype=float32))\n",
      "(0.39136165, 72, array([], dtype=float32))\n",
      "(0.39602894, 75, array([], dtype=float32))\n",
      "(0.72648162, 180, array([ 0.72648162], dtype=float32))\n",
      "(0.70685571, 75, array([ 0.70685571], dtype=float32))\n",
      "(0.17414325, 66, array([], dtype=float32))\n",
      "(0.99930155, 39, array([ 0.99930155], dtype=float32))\n",
      "(0.99939024, 159, array([ 0.99939024], dtype=float32))\n",
      "(0.60240227, 14, array([ 0.60240227], dtype=float32))\n",
      "(0.99935836, 24, array([ 0.99935836], dtype=float32))\n",
      "(0.92423928, 179, array([ 0.92423928], dtype=float32))\n",
      "(0.34913734, 131, array([], dtype=float32))\n",
      "(0.1773655, 89, array([], dtype=float32))\n",
      "(0.35172966, 119, array([], dtype=float32))\n",
      "(0.68075567, 232, array([ 0.68075567], dtype=float32))\n",
      "(0.99989426, 159, array([ 0.99989426], dtype=float32))\n",
      "(0.99999619, 151, array([ 0.99999619], dtype=float32))\n",
      "(0.96796924, 171, array([ 0.96796924], dtype=float32))\n",
      "(0.99995637, 202, array([ 0.99995637], dtype=float32))\n",
      "(0.97819525, 159, array([ 0.97819525], dtype=float32))\n",
      "(0.51313281, 134, array([ 0.51313281], dtype=float32))\n",
      "(0.97609168, 77, array([ 0.97609168], dtype=float32))\n",
      "(0.86576647, 57, array([ 0.86576647], dtype=float32))\n",
      "(0.59551716, 72, array([ 0.59551716], dtype=float32))\n",
      "(0.53090179, 202, array([ 0.53090179], dtype=float32))\n",
      "(0.99998295, 61, array([ 0.99998295], dtype=float32))\n",
      "(0.95185906, 22, array([ 0.95185906], dtype=float32))\n",
      "(0.29435927, 27, array([], dtype=float32))\n",
      "(0.96606976, 172, array([ 0.96606976], dtype=float32))\n",
      "(0.60859126, 155, array([ 0.60859126], dtype=float32))\n",
      "(0.27318248, 174, array([], dtype=float32))\n",
      "(0.73304421, 172, array([ 0.73304421], dtype=float32))\n",
      "(0.47713915, 203, array([], dtype=float32))\n",
      "(0.21295337, 116, array([], dtype=float32))\n",
      "(0.79943162, 8, array([ 0.79943162], dtype=float32))\n",
      "(0.96939474, 5, array([ 0.96939474], dtype=float32))\n",
      "(0.99985921, 159, array([ 0.99985921], dtype=float32))\n",
      "(0.99911934, 0, array([ 0.99911934], dtype=float32))\n",
      "(0.99992204, 0, array([ 0.99992204], dtype=float32))\n",
      "(0.99098295, 75, array([ 0.99098295], dtype=float32))\n",
      "(1.0, 165, array([ 1.], dtype=float32))\n",
      "(0.90327615, 202, array([ 0.90327615], dtype=float32))\n",
      "(0.99981207, 84, array([ 0.99981207], dtype=float32))\n",
      "(0.95625073, 195, array([ 0.95625073], dtype=float32))\n",
      "(0.92175144, 175, array([ 0.92175144], dtype=float32))\n",
      "(0.92268753, 202, array([ 0.92268753], dtype=float32))\n",
      "(0.60179579, 202, array([ 0.60179579], dtype=float32))\n",
      "(0.98734856, 215, array([ 0.98734856], dtype=float32))\n",
      "(0.4017711, 42, array([], dtype=float32))\n",
      "(0.42771178, 110, array([], dtype=float32))\n",
      "(0.99955279, 188, array([ 0.99955279], dtype=float32))\n",
      "(0.36781028, 179, array([], dtype=float32))\n",
      "(0.97940528, 202, array([ 0.97940528], dtype=float32))\n",
      "(0.99691916, 202, array([ 0.99691916], dtype=float32))\n",
      "(0.55849558, 169, array([ 0.55849558], dtype=float32))\n",
      "(0.99877983, 150, array([ 0.99877983], dtype=float32))\n",
      "(0.39161047, 25, array([], dtype=float32))\n",
      "(0.43550456, 202, array([], dtype=float32))\n",
      "(0.32394496, 7, array([], dtype=float32))\n",
      "(0.59250277, 128, array([ 0.59250277], dtype=float32))\n",
      "(0.555152, 18, array([ 0.555152], dtype=float32))\n",
      "(0.94021285, 94, array([ 0.94021285], dtype=float32))\n",
      "(0.97413617, 202, array([ 0.97413617], dtype=float32))\n",
      "(0.46753129, 100, array([], dtype=float32))\n",
      "(0.98524064, 179, array([ 0.98524064], dtype=float32))\n",
      "(0.54937696, 180, array([ 0.54937696], dtype=float32))\n",
      "(0.2440047, 51, array([], dtype=float32))\n",
      "(0.45514441, 124, array([], dtype=float32))\n",
      "(0.99990833, 159, array([ 0.99990833], dtype=float32))\n",
      "(0.96478325, 202, array([ 0.96478325], dtype=float32))\n",
      "(0.69918948, 57, array([ 0.69918948], dtype=float32))\n",
      "(0.12533626, 58, array([], dtype=float32))\n",
      "(0.99911016, 26, array([ 0.99911016], dtype=float32))\n",
      "(0.9476561, 202, array([ 0.9476561], dtype=float32))\n",
      "(0.13069242, 77, array([], dtype=float32))\n",
      "(0.98319066, 136, array([ 0.98319066], dtype=float32))\n",
      "(0.79342288, 125, array([ 0.79342288], dtype=float32))\n",
      "(0.67784822, 77, array([ 0.67784822], dtype=float32))\n",
      "(0.6178031, 131, array([ 0.6178031], dtype=float32))\n",
      "(0.9998982, 20, array([ 0.9998982], dtype=float32))\n",
      "(1.0, 77, array([ 1.], dtype=float32))\n",
      "(0.46483347, 202, array([], dtype=float32))\n",
      "(0.51463896, 152, array([ 0.51463896], dtype=float32))\n",
      "(0.77823681, 173, array([ 0.77823681], dtype=float32))\n",
      "(0.85243601, 11, array([ 0.85243601], dtype=float32))\n",
      "(0.72471243, 10, array([ 0.72471243], dtype=float32))\n",
      "(0.61150992, 191, array([ 0.61150992], dtype=float32))\n",
      "(0.73488474, 108, array([ 0.73488474], dtype=float32))\n",
      "(0.33540732, 72, array([], dtype=float32))\n",
      "(0.46209329, 79, array([], dtype=float32))\n",
      "(0.99029821, 313, array([ 0.99029821], dtype=float32))\n",
      "(0.34091264, 148, array([], dtype=float32))\n",
      "(0.63795257, 14, array([ 0.63795257], dtype=float32))\n",
      "(0.99999487, 61, array([ 0.99999487], dtype=float32))\n",
      "(0.84367251, 57, array([ 0.84367251], dtype=float32))\n",
      "(0.76173639, 27, array([ 0.76173639], dtype=float32))\n",
      "(0.12011827, 27, array([], dtype=float32))\n",
      "(0.95507556, 71, array([ 0.95507556], dtype=float32))\n",
      "(0.10007956, 157, array([], dtype=float32))\n",
      "(0.7892257, 202, array([ 0.7892257], dtype=float32))\n",
      "(0.48639143, 1, array([], dtype=float32))\n",
      "(0.32692125, 92, array([], dtype=float32))\n",
      "(0.99640405, 20, array([ 0.99640405], dtype=float32))\n",
      "(0.48583648, 188, array([], dtype=float32))\n",
      "(0.9852379, 186, array([ 0.9852379], dtype=float32))\n",
      "(0.99998629, 93, array([ 0.99998629], dtype=float32))\n",
      "(0.97825718, 202, array([ 0.97825718], dtype=float32))\n",
      "(0.26818109, 15, array([], dtype=float32))\n",
      "(0.99739611, 191, array([ 0.99739611], dtype=float32))\n",
      "(0.79192477, 78, array([ 0.79192477], dtype=float32))\n",
      "(0.99323326, 190, array([ 0.99323326], dtype=float32))\n",
      "(0.72092062, 124, array([ 0.72092062], dtype=float32))\n",
      "(0.42453468, 163, array([], dtype=float32))\n",
      "(0.83857381, 94, array([ 0.83857381], dtype=float32))\n",
      "(0.45877409, 57, array([], dtype=float32))\n",
      "(0.77734816, 202, array([ 0.77734816], dtype=float32))\n",
      "(0.99950755, 5, array([ 0.99950755], dtype=float32))\n",
      "(0.98882467, 76, array([ 0.98882467], dtype=float32))\n",
      "(0.24056298, 163, array([], dtype=float32))\n",
      "(0.766752, 39, array([ 0.766752], dtype=float32))\n",
      "(0.13240297, 185, array([], dtype=float32))\n"
     ]
    }
   ],
   "source": [
    "for i in range(test_batch_size):\n",
    "    print(np.max(y_proba_batch1[i, :]), np.argmax(y_proba_batch1[i, :]), y_proba_batch1[i, y_proba_batch1[i, :] > 0.5])"
   ]
  },
  {
   "cell_type": "code",
   "execution_count": 83,
   "metadata": {
    "collapsed": true
   },
   "outputs": [
    {
     "name": "stdout",
     "output_type": "stream",
     "text": [
      "(0.26075676, 170, array([], dtype=float32))\n",
      "(0.55470043, 159, array([ 0.55470043], dtype=float32))\n",
      "(0.99570566, 117, array([ 0.99570566], dtype=float32))\n",
      "(0.92435586, 121, array([ 0.92435586], dtype=float32))\n",
      "(0.99238634, 108, array([ 0.99238634], dtype=float32))\n",
      "(0.45392922, 27, array([], dtype=float32))\n",
      "(0.4533065, 173, array([], dtype=float32))\n",
      "(0.86850792, 159, array([ 0.86850792], dtype=float32))\n",
      "(0.55840087, 354, array([ 0.55840087], dtype=float32))\n",
      "(0.54174972, 57, array([ 0.54174972], dtype=float32))\n",
      "(0.94367784, 57, array([ 0.94367784], dtype=float32))\n",
      "(0.67135626, 134, array([ 0.67135626], dtype=float32))\n",
      "(0.2004077, 10, array([], dtype=float32))\n",
      "(0.99574465, 39, array([ 0.99574465], dtype=float32))\n",
      "(0.95945847, 159, array([ 0.95945847], dtype=float32))\n",
      "(0.62639934, 3, array([ 0.62639934], dtype=float32))\n",
      "(0.95680743, 24, array([ 0.95680743], dtype=float32))\n",
      "(0.72008008, 53, array([ 0.72008008], dtype=float32))\n",
      "(0.63978237, 131, array([ 0.63978237], dtype=float32))\n",
      "(0.46369869, 150, array([], dtype=float32))\n",
      "(0.44121614, 119, array([], dtype=float32))\n",
      "(0.99097508, 122, array([ 0.99097508], dtype=float32))\n",
      "(0.97841895, 159, array([ 0.97841895], dtype=float32))\n",
      "(0.99999416, 151, array([ 0.99999416], dtype=float32))\n",
      "(0.83798927, 171, array([ 0.83798927], dtype=float32))\n",
      "(0.99999177, 202, array([ 0.99999177], dtype=float32))\n",
      "(0.99507457, 159, array([ 0.99507457], dtype=float32))\n",
      "(0.89626229, 134, array([ 0.89626229], dtype=float32))\n",
      "(0.89754713, 77, array([ 0.89754713], dtype=float32))\n",
      "(0.59778279, 57, array([ 0.59778279], dtype=float32))\n",
      "(0.51110315, 72, array([ 0.51110315], dtype=float32))\n",
      "(0.9219445, 202, array([ 0.9219445], dtype=float32))\n",
      "(0.9999876, 61, array([ 0.9999876], dtype=float32))\n",
      "(0.97492027, 22, array([ 0.97492027], dtype=float32))\n",
      "(0.24965794, 27, array([], dtype=float32))\n",
      "(0.98227251, 172, array([ 0.98227251], dtype=float32))\n",
      "(0.86631638, 155, array([ 0.86631638], dtype=float32))\n",
      "(0.92846912, 15, array([ 0.92846912], dtype=float32))\n",
      "(0.95652944, 172, array([ 0.95652944], dtype=float32))\n",
      "(0.89777464, 18, array([ 0.89777464], dtype=float32))\n",
      "(0.33735767, 112, array([], dtype=float32))\n",
      "(0.9634456, 8, array([ 0.9634456], dtype=float32))\n",
      "(0.99441165, 5, array([ 0.99441165], dtype=float32))\n",
      "(0.99899513, 159, array([ 0.99899513], dtype=float32))\n",
      "(0.99997365, 0, array([ 0.99997365], dtype=float32))\n",
      "(0.16304699, 0, array([], dtype=float32))\n",
      "(0.79676938, 75, array([ 0.79676938], dtype=float32))\n",
      "(0.65823448, 165, array([ 0.65823448], dtype=float32))\n",
      "(0.95103556, 202, array([ 0.95103556], dtype=float32))\n",
      "(0.99994051, 84, array([ 0.99994051], dtype=float32))\n",
      "(0.87862951, 195, array([ 0.87862951], dtype=float32))\n",
      "(0.89077413, 175, array([ 0.89077413], dtype=float32))\n",
      "(0.86818081, 202, array([ 0.86818081], dtype=float32))\n",
      "(0.31185082, 202, array([], dtype=float32))\n",
      "(0.99016374, 215, array([ 0.99016374], dtype=float32))\n",
      "(0.74633723, 244, array([ 0.74633723], dtype=float32))\n",
      "(0.32865542, 180, array([], dtype=float32))\n",
      "(0.99506783, 188, array([ 0.99506783], dtype=float32))\n",
      "(0.12969573, 197, array([], dtype=float32))\n",
      "(0.91458106, 202, array([ 0.91458106], dtype=float32))\n",
      "(0.99908864, 202, array([ 0.99908864], dtype=float32))\n",
      "(0.92896956, 169, array([ 0.92896956], dtype=float32))\n",
      "(0.96571332, 150, array([ 0.96571332], dtype=float32))\n",
      "(0.62518942, 25, array([ 0.62518942], dtype=float32))\n",
      "(0.30524245, 202, array([], dtype=float32))\n",
      "(0.74002075, 7, array([ 0.74002075], dtype=float32))\n",
      "(0.41438755, 128, array([], dtype=float32))\n",
      "(0.32278627, 170, array([], dtype=float32))\n",
      "(0.99926239, 94, array([ 0.99926239], dtype=float32))\n",
      "(0.55559832, 202, array([ 0.55559832], dtype=float32))\n",
      "(0.27483594, 100, array([], dtype=float32))\n",
      "(0.98223662, 179, array([ 0.98223662], dtype=float32))\n",
      "(0.53737867, 180, array([ 0.53737867], dtype=float32))\n",
      "(0.43432316, 51, array([], dtype=float32))\n",
      "(0.24316528, 39, array([], dtype=float32))\n",
      "(0.96572077, 159, array([ 0.96572077], dtype=float32))\n",
      "(0.40735042, 202, array([], dtype=float32))\n",
      "(0.59280497, 57, array([ 0.59280497], dtype=float32))\n",
      "(0.16241077, 117, array([], dtype=float32))\n",
      "(0.99967515, 26, array([ 0.99967515], dtype=float32))\n",
      "(0.88416547, 202, array([ 0.88416547], dtype=float32))\n",
      "(0.074073426, 136, array([], dtype=float32))\n",
      "(0.72596377, 136, array([ 0.72596377], dtype=float32))\n",
      "(0.85177171, 125, array([ 0.85177171], dtype=float32))\n",
      "(0.085110269, 77, array([], dtype=float32))\n",
      "(0.42242438, 131, array([], dtype=float32))\n",
      "(0.92913479, 20, array([ 0.92913479], dtype=float32))\n",
      "(1.0, 77, array([ 1.], dtype=float32))\n",
      "(0.98997051, 159, array([ 0.98997051], dtype=float32))\n",
      "(0.56856388, 173, array([ 0.56856388], dtype=float32))\n",
      "(0.55975795, 173, array([ 0.55975795], dtype=float32))\n",
      "(0.45481417, 134, array([], dtype=float32))\n",
      "(0.70992792, 10, array([ 0.70992792], dtype=float32))\n",
      "(0.64362383, 68, array([ 0.64362383], dtype=float32))\n",
      "(0.76904881, 108, array([ 0.76904881], dtype=float32))\n",
      "(0.25731546, 97, array([], dtype=float32))\n",
      "(0.33743107, 189, array([], dtype=float32))\n",
      "(0.99992335, 313, array([ 0.99992335], dtype=float32))\n",
      "(0.29523209, 55, array([], dtype=float32))\n",
      "(0.3731671, 185, array([], dtype=float32))\n",
      "(0.99999988, 61, array([ 0.99999988], dtype=float32))\n",
      "(0.79445773, 57, array([ 0.79445773], dtype=float32))\n",
      "(0.66772938, 27, array([ 0.66772938], dtype=float32))\n",
      "(0.31561378, 202, array([], dtype=float32))\n",
      "(0.99999893, 71, array([ 0.99999893], dtype=float32))\n",
      "(0.14696789, 202, array([], dtype=float32))\n",
      "(0.30081189, 202, array([], dtype=float32))\n",
      "(0.63862324, 1, array([ 0.63862324], dtype=float32))\n",
      "(0.25128576, 92, array([], dtype=float32))\n",
      "(0.99011856, 20, array([ 0.99011856], dtype=float32))\n",
      "(0.42557135, 188, array([], dtype=float32))\n",
      "(0.98460579, 186, array([ 0.98460579], dtype=float32))\n",
      "(0.99997151, 93, array([ 0.99997151], dtype=float32))\n",
      "(0.98579204, 202, array([ 0.98579204], dtype=float32))\n",
      "(0.18406025, 203, array([], dtype=float32))\n",
      "(0.98178571, 191, array([ 0.98178571], dtype=float32))\n",
      "(0.74843925, 78, array([ 0.74843925], dtype=float32))\n",
      "(0.99881601, 190, array([ 0.99881601], dtype=float32))\n",
      "(0.73851681, 124, array([ 0.73851681], dtype=float32))\n",
      "(0.74651265, 163, array([ 0.74651265], dtype=float32))\n",
      "(0.5909096, 94, array([ 0.5909096], dtype=float32))\n",
      "(0.16729736, 180, array([], dtype=float32))\n",
      "(0.87286335, 202, array([ 0.87286335], dtype=float32))\n",
      "(0.99641573, 5, array([ 0.99641573], dtype=float32))\n",
      "(0.88998437, 111, array([ 0.88998437], dtype=float32))\n",
      "(0.18184094, 9, array([], dtype=float32))\n",
      "(0.80143642, 39, array([ 0.80143642], dtype=float32))\n",
      "(0.16979483, 159, array([], dtype=float32))\n"
     ]
    }
   ],
   "source": [
    "for i in range(test_batch_size):\n",
    "    print(np.max(y_proba_batch2[i, :]), np.argmax(y_proba_batch2[i, :]), y_proba_batch2[i, y_proba_batch2[i, :] > 0.5])"
   ]
  },
  {
   "cell_type": "code",
   "execution_count": 84,
   "metadata": {
    "collapsed": true
   },
   "outputs": [
    {
     "name": "stdout",
     "output_type": "stream",
     "text": [
      "(0.15893376, 124, array([], dtype=float32))\n",
      "(0.59462661, 159, array([ 0.59462661], dtype=float32))\n",
      "(0.97759837, 117, array([ 0.97759837], dtype=float32))\n",
      "(0.93542039, 121, array([ 0.93542039], dtype=float32))\n",
      "(0.97283161, 108, array([ 0.97283161], dtype=float32))\n",
      "(0.40516138, 27, array([], dtype=float32))\n",
      "(0.66457188, 173, array([ 0.66457188], dtype=float32))\n",
      "(0.6176796, 159, array([ 0.6176796], dtype=float32))\n",
      "(0.27416077, 354, array([], dtype=float32))\n",
      "(0.38665015, 57, array([], dtype=float32))\n",
      "(0.68579966, 57, array([ 0.68579966], dtype=float32))\n",
      "(0.29989338, 134, array([], dtype=float32))\n",
      "(0.17916735, 10, array([], dtype=float32))\n",
      "(0.98756832, 39, array([ 0.98756832], dtype=float32))\n",
      "(0.96257913, 159, array([ 0.96257913], dtype=float32))\n",
      "(0.28396818, 3, array([], dtype=float32))\n"
     ]
    }
   ],
   "source": [
    "for i in range(batch_size):\n",
    "    print(np.max(y_proba_batch[i, :]), np.argmax(y_proba_batch[i, :]), y_proba_batch[i, y_proba_batch[i, :] > 0.5])"
   ]
  },
  {
   "cell_type": "code",
   "execution_count": 87,
   "metadata": {
    "collapsed": true
   },
   "outputs": [
    {
     "data": {
      "text/plain": [
       "array([124, 159, 117, 121, 108,  27, 173, 159, 153,  57,  57, 149,  72,\n",
       "        39, 159, 102,  24, 179,  78, 134, 119, 122, 159, 151, 171, 202,\n",
       "       159, 134,  77,  57,  72, 202,  61,  22, 149, 172, 155,  50, 172,\n",
       "        76,  66,   8,   5, 159,   0,   0,  75, 165, 202,  84, 195, 175,\n",
       "       202, 202, 215, 244, 110, 188, 179, 202, 202, 169, 150, 388, 202,\n",
       "       159, 128, 131,  94, 202,  94, 179, 180, 159, 131, 159, 202,  57,\n",
       "       332,  26, 202, 166, 136, 125, 134, 131,  20,  77, 159,  19, 173,\n",
       "       381,  10,  68, 108,  97, 121, 313,  55,  14,  61,  57,  27, 202,\n",
       "        71, 167, 202, 159, 205,  20, 131, 186,  93, 202,  54, 191,  78,\n",
       "       190, 124, 163,  94,  57, 202,   5,  76, 200,  78, 159])"
      ]
     },
     "execution_count": 87,
     "metadata": {},
     "output_type": "execute_result"
    }
   ],
   "source": [
    "y_train[:test_batch_size]"
   ]
  },
  {
   "cell_type": "code",
   "execution_count": 88,
   "metadata": {
    "collapsed": true
   },
   "outputs": [
    {
     "data": {
      "text/plain": [
       "array([124, 159, 117, 121, 108,  27, 173, 159, 354,  57,  57, 134,  10,\n",
       "        39, 159,   3,  24,  53, 131, 150, 119, 122, 159, 151, 171, 202,\n",
       "       159, 134,  77,  57,  72, 202,  61,  22,  27, 172, 155,  15, 172,\n",
       "        18, 112,   8,   5, 159,   0,   0,  75, 165, 202,  84, 195, 175,\n",
       "       202, 202, 215, 244, 110, 188, 179, 202, 202, 169, 150,  25, 202,\n",
       "         7, 128,  18,  94, 202, 100, 179, 180,  51, 131, 159, 202,  57,\n",
       "        91,  26, 202,   3, 136, 125,  77, 131,  20,  77, 159, 152, 173,\n",
       "        11,  10,  68, 108,  97, 189, 313, 148,  14,  61,  57,  27, 202,\n",
       "        71, 202, 202,   1,  92,  20, 188, 186,  93, 202, 203, 191,  78,\n",
       "       190, 124, 163,  94,  57, 202,   5, 111,   9,  39, 159])"
      ]
     },
     "execution_count": 88,
     "metadata": {},
     "output_type": "execute_result"
    }
   ],
   "source": [
    "np.argmax(y_proba_batch, axis=1)"
   ]
  },
  {
   "cell_type": "code",
   "execution_count": 89,
   "metadata": {},
   "outputs": [],
   "source": [
    "from sklearn.metrics import fbeta_score"
   ]
  },
  {
   "cell_type": "code",
   "execution_count": 101,
   "metadata": {},
   "outputs": [],
   "source": [
    "y_true_labels = y_train[:test_batch_size]\n",
    "\n",
    "y_pred_labels0 = np.argmax(y_proba_batch0, axis=1)\n",
    "y_pred_labels1 = np.argmax(y_proba_batch, axis=1)"
   ]
  },
  {
   "cell_type": "code",
   "execution_count": 102,
   "metadata": {
    "scrolled": true
   },
   "outputs": [
    {
     "data": {
      "text/plain": [
       "(array([ 0.8       ,  0.66666667,  0.        ,  0.76190476,  0.        ,\n",
       "         0.92307692,  0.66666667,  0.57142857,  0.        ,  0.4       ,\n",
       "         0.        ,  0.28571429,  0.92682927,  1.        ,  0.        ,\n",
       "         0.54545455,  0.66666667,  0.91666667,  0.85714286,  1.        ,\n",
       "         1.        ,  0.85714286,  0.5       ,  0.51612903,  0.        ,\n",
       "         1.        ,  0.        ,  0.66666667,  0.33333333,  0.83333333,\n",
       "         1.        ,  0.5       ,  1.        ,  0.69565217,  1.        ,\n",
       "         0.6       ,  0.88888889,  0.        ,  1.        ,  1.        ,\n",
       "         0.66666667,  1.        ,  0.        ,  0.4       ,  0.5       ,\n",
       "         0.57142857,  0.        ,  0.42857143,  0.5       ,  0.5       ,\n",
       "         0.75609756,  0.        ,  0.8       ,  0.        ,  1.        ,\n",
       "         0.85714286,  1.        ,  0.66666667,  0.        ,  0.25      ,\n",
       "         0.85714286,  1.        ,  0.8       ,  0.75      ,  1.        ,\n",
       "         0.5       ,  0.57142857,  0.85714286,  0.5625    ,  0.88888889,\n",
       "         0.61538462,  0.5       ,  0.16666667,  1.        ,  0.66666667,\n",
       "         0.5       ,  0.66666667,  0.88235294,  1.        ,  0.        ,\n",
       "         0.5       ,  0.33333333,  0.75      ,  0.53333333,  1.        ,\n",
       "         0.75      ,  1.        ,  0.        ,  0.84210526,  0.54545455,\n",
       "         0.85714286,  0.66666667,  0.28571429,  0.5       ,  0.66666667,\n",
       "         0.4       ,  0.33333333,  0.76923077,  0.        ,  1.        ,\n",
       "         0.16666667,  1.        ,  0.        ,  0.57142857,  0.        ,\n",
       "         0.66666667,  0.75      ,  0.81818182,  1.        ,  0.        ,\n",
       "         0.72727273,  0.5       ,  0.66666667,  1.        ,  0.57142857,\n",
       "         0.85714286,  0.4       ,  0.57142857,  0.5       ,  0.28571429,\n",
       "         0.75      ,  0.        ,  0.66666667,  1.        ,  0.76923077,\n",
       "         0.28571429,  0.85714286,  0.        ,  1.        ,  0.75      ,\n",
       "         0.4       ,  1.        ,  0.8       ,  0.6       ,  0.57142857,\n",
       "         0.93333333,  0.92307692,  0.        ,  1.        ,  1.        ,\n",
       "         0.44444444,  0.5       ,  0.81538462,  0.8       ,  0.84615385,\n",
       "         0.66666667,  0.66666667,  0.        ,  0.        ,  0.83333333,\n",
       "         1.        ,  0.46153846,  0.85714286,  0.76923077,  0.66666667,\n",
       "         0.        ,  0.9       ,  0.        ,  0.8       ,  0.        ,\n",
       "         0.57142857,  0.72727273,  0.5       ,  0.85714286,  0.5       ,\n",
       "         1.        ,  0.8       ,  0.        ,  0.625     ,  1.        ,\n",
       "         0.88888889,  0.5       ,  1.        ,  0.8       ,  1.        ,\n",
       "         0.46153846,  1.        ,  0.5       ,  0.88888889,  1.        ,\n",
       "         0.81609195,  0.16666667,  0.        ,  0.        ,  0.        ,\n",
       "         1.        ,  0.        ,  0.        ,  1.        ,  1.        ,\n",
       "         0.        ,  1.        ,  0.        ,  0.        ,  0.        ,\n",
       "         0.        ,  0.        ,  0.        ,  0.        ,  1.        ,\n",
       "         0.        ,  0.        ,  1.        ,  0.        ,  0.        ,\n",
       "         0.66666667,  0.        ,  1.        ,  0.        ,  0.        ,\n",
       "         1.        ,  0.        ,  0.5       ,  1.        ,  1.        ,\n",
       "         0.66666667,  0.        ,  0.        ,  0.        ,  0.        ,\n",
       "         1.        ,  1.        ,  0.        ,  0.        ,  0.        ,\n",
       "         0.        ,  1.        ,  0.        ,  1.        ,  1.        ,\n",
       "         0.        ,  0.4       ,  0.        ,  0.        ,  0.        ,\n",
       "         0.        ,  0.        ,  0.        ,  0.        ,  0.        ,\n",
       "         1.        ,  0.        ,  0.66666667,  0.        ,  0.        ,\n",
       "         0.        ,  1.        ]),\n",
       " array([ 0.88888889,  0.57142857,  0.        ,  0.8       ,  0.        ,\n",
       "         0.8       ,  0.66666667,  0.66666667,  0.25      ,  0.5       ,\n",
       "         0.        ,  0.4       ,  0.88372093,  1.        ,  0.        ,\n",
       "         0.8       ,  0.66666667,  0.96      ,  0.85714286,  1.        ,\n",
       "         1.        ,  0.85714286,  0.5       ,  0.58823529,  1.        ,\n",
       "         0.        ,  1.        ,  0.4       ,  0.86956522,  1.        ,\n",
       "         0.8       ,  1.        ,  0.72727273,  1.        ,  0.66666667,\n",
       "         0.8       ,  0.        ,  1.        ,  1.        ,  1.        ,\n",
       "         0.8       ,  0.        ,  0.66666667,  0.33333333,  0.66666667,\n",
       "         0.        ,  0.66666667,  0.6       ,  0.5       ,  0.75949367,\n",
       "         0.        ,  1.        ,  0.        ,  1.        ,  0.85714286,\n",
       "         1.        ,  0.66666667,  0.        ,  0.33333333,  1.        ,\n",
       "         1.        ,  1.        ,  1.        ,  1.        ,  0.54545455,\n",
       "         0.88888889,  0.85714286,  0.66666667,  0.88888889,  0.66666667,\n",
       "         0.61538462,  0.44444444,  0.        ,  0.        ,  0.5       ,\n",
       "         0.66666667,  0.90909091,  1.        ,  1.        ,  1.        ,\n",
       "         0.88888889,  0.        ,  0.5       ,  1.        ,  0.80769231,\n",
       "         1.        ,  0.        ,  0.86486486,  0.54545455,  0.85714286,\n",
       "         0.5       ,  0.53333333,  0.44444444,  0.66666667,  0.4       ,\n",
       "         0.5       ,  0.8       ,  0.        ,  1.        ,  0.125     ,\n",
       "         1.        ,  0.        ,  0.5       ,  0.66666667,  0.75      ,\n",
       "         0.81818182,  0.8       ,  0.        ,  0.66666667,  0.8       ,\n",
       "         1.        ,  1.        ,  0.5       ,  0.85714286,  0.8       ,\n",
       "         0.53846154,  0.5       ,  0.5       ,  0.76      ,  0.        ,\n",
       "         0.8       ,  1.        ,  0.83333333,  0.75      ,  0.85714286,\n",
       "         0.        ,  1.        ,  0.8       ,  0.4       ,  1.        ,\n",
       "         1.        ,  0.66666667,  0.57142857,  0.875     ,  0.92307692,\n",
       "         0.        ,  1.        ,  1.        ,  0.57142857,  0.5       ,\n",
       "         0.83076923,  1.        ,  0.78571429,  0.66666667,  0.66666667,\n",
       "         0.        ,  0.        ,  0.83333333,  1.        ,  0.70588235,\n",
       "         1.        ,  0.8       ,  0.66666667,  0.        ,  0.9       ,\n",
       "         0.        ,  1.        ,  0.        ,  0.6       ,  0.76923077,\n",
       "         0.66666667,  0.85714286,  0.5       ,  1.        ,  1.        ,\n",
       "         0.5       ,  0.66666667,  1.        ,  0.88888889,  0.4       ,\n",
       "         1.        ,  0.8       ,  1.        ,  0.46153846,  1.        ,\n",
       "         0.66666667,  0.76190476,  1.        ,  0.85555556,  0.2       ,\n",
       "         0.        ,  0.        ,  0.66666667,  1.        ,  0.        ,\n",
       "         0.        ,  1.        ,  1.        ,  1.        ,  1.        ,\n",
       "         0.        ,  0.        ,  0.        ,  0.        ,  1.        ,\n",
       "         0.        ,  0.        ,  1.        ,  0.        ,  0.        ,\n",
       "         1.        ,  0.        ,  0.        ,  0.66666667,  0.        ,\n",
       "         0.        ,  0.        ,  1.        ,  0.66666667,  0.66666667,\n",
       "         1.        ,  1.        ,  1.        ,  0.        ,  0.        ,\n",
       "         0.        ,  0.        ,  1.        ,  0.        ,  0.        ,\n",
       "         1.        ,  0.        ,  0.        ,  1.        ,  0.        ,\n",
       "         1.        ,  1.        ,  0.        ,  0.        ,  0.8       ,\n",
       "         0.        ,  0.        ,  0.        ,  0.        ,  0.        ,\n",
       "         0.        ,  0.        ,  1.        ,  0.        ,  1.        ,\n",
       "         0.        ,  0.        ,  0.        ,  1.        ]))"
      ]
     },
     "execution_count": 102,
     "metadata": {},
     "output_type": "execute_result"
    }
   ],
   "source": [
    "res1 = fbeta_score(y_true_labels, y_pred_labels0, beta=1, average=None)\n",
    "res2 = fbeta_score(y_true_labels, y_pred_labels1, beta=1, average=None)\n",
    "res1, res2"
   ]
  },
  {
   "cell_type": "code",
   "execution_count": 103,
   "metadata": {},
   "outputs": [
    {
     "data": {
      "text/plain": [
       "0.4048582995951417"
      ]
     },
     "execution_count": 103,
     "metadata": {},
     "output_type": "execute_result"
    }
   ],
   "source": [
    "len(res1[res1>0.7]) * 1.0 / len(res1) "
   ]
  },
  {
   "cell_type": "code",
   "execution_count": 104,
   "metadata": {},
   "outputs": [
    {
     "data": {
      "text/plain": [
       "0.47540983606557374"
      ]
     },
     "execution_count": 104,
     "metadata": {},
     "output_type": "execute_result"
    }
   ],
   "source": [
    "len(res2[res2>0.7]) * 1.0 / len(res2) "
   ]
  },
  {
   "cell_type": "code",
   "execution_count": null,
   "metadata": {},
   "outputs": [],
   "source": []
  },
  {
   "cell_type": "code",
   "execution_count": null,
   "metadata": {},
   "outputs": [],
   "source": [
    "!"
   ]
  },
  {
   "cell_type": "code",
   "execution_count": null,
   "metadata": {},
   "outputs": [],
   "source": []
  },
  {
   "cell_type": "code",
   "execution_count": 12,
   "metadata": {},
   "outputs": [],
   "source": [
    "from problem import workflow\n",
    "workflow.n_jobs = 10\n",
    "workflow.chunk_size = 256\n",
    "workflow.test_batch_size = 128"
   ]
  },
  {
   "cell_type": "code",
   "execution_count": 13,
   "metadata": {
    "collapsed": true
   },
   "outputs": [
    {
     "ename": "KeyboardInterrupt",
     "evalue": "",
     "output_type": "error",
     "traceback": [
      "\u001b[0;31m\u001b[0m",
      "\u001b[0;31mKeyboardInterrupt\u001b[0mTraceback (most recent call last)",
      "\u001b[0;32m<ipython-input-13-1eb062faf1bd>\u001b[0m in \u001b[0;36m<module>\u001b[0;34m()\u001b[0m\n\u001b[0;32m----> 1\u001b[0;31m \u001b[0mworkflow\u001b[0m\u001b[0;34m.\u001b[0m\u001b[0mtest_submission\u001b[0m\u001b[0;34m(\u001b[0m\u001b[0mtrained_model\u001b[0m\u001b[0;34m,\u001b[0m \u001b[0mfolder_X_array\u001b[0m\u001b[0;34m)\u001b[0m\u001b[0;34m\u001b[0m\u001b[0m\n\u001b[0m",
      "\u001b[0;32m/usr/local/lib/python2.7/dist-packages/ramp_workflow-0.1.dev0-py2.7.egg/rampwf/workflows/image_classifier.pyc\u001b[0m in \u001b[0;36mtest_submission\u001b[0;34m(self, trained_model, folder_X_array)\u001b[0m\n\u001b[1;32m    128\u001b[0m \u001b[0;34m\u001b[0m\u001b[0m\n\u001b[1;32m    129\u001b[0m                     \u001b[0;31m# 2) Prediction\u001b[0m\u001b[0;34m\u001b[0m\u001b[0;34m\u001b[0m\u001b[0m\n\u001b[0;32m--> 130\u001b[0;31m                     \u001b[0my_proba_batch\u001b[0m \u001b[0;34m=\u001b[0m \u001b[0mclf\u001b[0m\u001b[0;34m.\u001b[0m\u001b[0mpredict_proba\u001b[0m\u001b[0;34m(\u001b[0m\u001b[0mX_batch\u001b[0m\u001b[0;34m)\u001b[0m\u001b[0;34m\u001b[0m\u001b[0m\n\u001b[0m\u001b[1;32m    131\u001b[0m                     \u001b[0my_proba\u001b[0m\u001b[0;34m.\u001b[0m\u001b[0mappend\u001b[0m\u001b[0;34m(\u001b[0m\u001b[0my_proba_batch\u001b[0m\u001b[0;34m)\u001b[0m\u001b[0;34m\u001b[0m\u001b[0m\n\u001b[1;32m    132\u001b[0m         \u001b[0my_proba\u001b[0m \u001b[0;34m=\u001b[0m \u001b[0mnp\u001b[0m\u001b[0;34m.\u001b[0m\u001b[0mconcatenate\u001b[0m\u001b[0;34m(\u001b[0m\u001b[0my_proba\u001b[0m\u001b[0;34m,\u001b[0m \u001b[0maxis\u001b[0m\u001b[0;34m=\u001b[0m\u001b[0;36m0\u001b[0m\u001b[0;34m)\u001b[0m\u001b[0;34m\u001b[0m\u001b[0m\n",
      "\u001b[0;32m/home/working_directory/ml/ramp-kits/pollenating_insects_3/submissions/keras_inceptionResNetV2_finetunning_imbalanced/batch_classifier.py\u001b[0m in \u001b[0;36mpredict_proba\u001b[0;34m(self, X)\u001b[0m\n\u001b[1;32m    140\u001b[0m             \u001b[0mX_aug1\u001b[0m\u001b[0;34m[\u001b[0m\u001b[0mi\u001b[0m\u001b[0;34m,\u001b[0m \u001b[0;34m.\u001b[0m\u001b[0;34m.\u001b[0m\u001b[0;34m.\u001b[0m\u001b[0;34m]\u001b[0m \u001b[0;34m=\u001b[0m \u001b[0mcv2\u001b[0m\u001b[0;34m.\u001b[0m\u001b[0mflip\u001b[0m\u001b[0;34m(\u001b[0m\u001b[0mx\u001b[0m\u001b[0;34m,\u001b[0m \u001b[0;36m0\u001b[0m\u001b[0;34m)\u001b[0m\u001b[0;34m\u001b[0m\u001b[0m\n\u001b[1;32m    141\u001b[0m             \u001b[0mX_aug2\u001b[0m\u001b[0;34m[\u001b[0m\u001b[0mi\u001b[0m\u001b[0;34m,\u001b[0m \u001b[0;34m.\u001b[0m\u001b[0;34m.\u001b[0m\u001b[0;34m.\u001b[0m\u001b[0;34m]\u001b[0m \u001b[0;34m=\u001b[0m \u001b[0mcv2\u001b[0m\u001b[0;34m.\u001b[0m\u001b[0mflip\u001b[0m\u001b[0;34m(\u001b[0m\u001b[0mx\u001b[0m\u001b[0;34m,\u001b[0m \u001b[0;36m1\u001b[0m\u001b[0;34m)\u001b[0m\u001b[0;34m\u001b[0m\u001b[0m\n\u001b[0;32m--> 142\u001b[0;31m         \u001b[0my_proba0\u001b[0m \u001b[0;34m=\u001b[0m \u001b[0mself\u001b[0m\u001b[0;34m.\u001b[0m\u001b[0mmodel\u001b[0m\u001b[0;34m.\u001b[0m\u001b[0mpredict\u001b[0m\u001b[0;34m(\u001b[0m\u001b[0mX\u001b[0m\u001b[0;34m)\u001b[0m\u001b[0;34m\u001b[0m\u001b[0m\n\u001b[0m\u001b[1;32m    143\u001b[0m         \u001b[0my_proba1\u001b[0m \u001b[0;34m=\u001b[0m \u001b[0mself\u001b[0m\u001b[0;34m.\u001b[0m\u001b[0mmodel\u001b[0m\u001b[0;34m.\u001b[0m\u001b[0mpredict\u001b[0m\u001b[0;34m(\u001b[0m\u001b[0mX_aug1\u001b[0m\u001b[0;34m)\u001b[0m\u001b[0;34m\u001b[0m\u001b[0m\n\u001b[1;32m    144\u001b[0m         \u001b[0my_proba2\u001b[0m \u001b[0;34m=\u001b[0m \u001b[0mself\u001b[0m\u001b[0;34m.\u001b[0m\u001b[0mmodel\u001b[0m\u001b[0;34m.\u001b[0m\u001b[0mpredict\u001b[0m\u001b[0;34m(\u001b[0m\u001b[0mX_aug2\u001b[0m\u001b[0;34m)\u001b[0m\u001b[0;34m\u001b[0m\u001b[0m\n",
      "\u001b[0;32m/usr/local/lib/python2.7/dist-packages/keras/engine/training.pyc\u001b[0m in \u001b[0;36mpredict\u001b[0;34m(self, x, batch_size, verbose, steps)\u001b[0m\n\u001b[1;32m   1715\u001b[0m         \u001b[0mf\u001b[0m \u001b[0;34m=\u001b[0m \u001b[0mself\u001b[0m\u001b[0;34m.\u001b[0m\u001b[0mpredict_function\u001b[0m\u001b[0;34m\u001b[0m\u001b[0m\n\u001b[1;32m   1716\u001b[0m         return self._predict_loop(f, ins, batch_size=batch_size,\n\u001b[0;32m-> 1717\u001b[0;31m                                   verbose=verbose, steps=steps)\n\u001b[0m\u001b[1;32m   1718\u001b[0m \u001b[0;34m\u001b[0m\u001b[0m\n\u001b[1;32m   1719\u001b[0m     def train_on_batch(self, x, y,\n",
      "\u001b[0;32m/usr/local/lib/python2.7/dist-packages/keras/engine/training.pyc\u001b[0m in \u001b[0;36m_predict_loop\u001b[0;34m(self, f, ins, batch_size, verbose, steps)\u001b[0m\n\u001b[1;32m   1267\u001b[0m                 \u001b[0;32melse\u001b[0m\u001b[0;34m:\u001b[0m\u001b[0;34m\u001b[0m\u001b[0m\n\u001b[1;32m   1268\u001b[0m                     \u001b[0mins_batch\u001b[0m \u001b[0;34m=\u001b[0m \u001b[0m_slice_arrays\u001b[0m\u001b[0;34m(\u001b[0m\u001b[0mins\u001b[0m\u001b[0;34m,\u001b[0m \u001b[0mbatch_ids\u001b[0m\u001b[0;34m)\u001b[0m\u001b[0;34m\u001b[0m\u001b[0m\n\u001b[0;32m-> 1269\u001b[0;31m                 \u001b[0mbatch_outs\u001b[0m \u001b[0;34m=\u001b[0m \u001b[0mf\u001b[0m\u001b[0;34m(\u001b[0m\u001b[0mins_batch\u001b[0m\u001b[0;34m)\u001b[0m\u001b[0;34m\u001b[0m\u001b[0m\n\u001b[0m\u001b[1;32m   1270\u001b[0m                 \u001b[0;32mif\u001b[0m \u001b[0;32mnot\u001b[0m \u001b[0misinstance\u001b[0m\u001b[0;34m(\u001b[0m\u001b[0mbatch_outs\u001b[0m\u001b[0;34m,\u001b[0m \u001b[0mlist\u001b[0m\u001b[0;34m)\u001b[0m\u001b[0;34m:\u001b[0m\u001b[0;34m\u001b[0m\u001b[0m\n\u001b[1;32m   1271\u001b[0m                     \u001b[0mbatch_outs\u001b[0m \u001b[0;34m=\u001b[0m \u001b[0;34m[\u001b[0m\u001b[0mbatch_outs\u001b[0m\u001b[0;34m]\u001b[0m\u001b[0;34m\u001b[0m\u001b[0m\n",
      "\u001b[0;32m/usr/local/lib/python2.7/dist-packages/keras/backend/tensorflow_backend.pyc\u001b[0m in \u001b[0;36m__call__\u001b[0;34m(self, inputs)\u001b[0m\n\u001b[1;32m   2255\u001b[0m         updated = session.run(self.outputs + [self.updates_op],\n\u001b[1;32m   2256\u001b[0m                               \u001b[0mfeed_dict\u001b[0m\u001b[0;34m=\u001b[0m\u001b[0mfeed_dict\u001b[0m\u001b[0;34m,\u001b[0m\u001b[0;34m\u001b[0m\u001b[0m\n\u001b[0;32m-> 2257\u001b[0;31m                               **self.session_kwargs)\n\u001b[0m\u001b[1;32m   2258\u001b[0m         \u001b[0;32mreturn\u001b[0m \u001b[0mupdated\u001b[0m\u001b[0;34m[\u001b[0m\u001b[0;34m:\u001b[0m\u001b[0mlen\u001b[0m\u001b[0;34m(\u001b[0m\u001b[0mself\u001b[0m\u001b[0;34m.\u001b[0m\u001b[0moutputs\u001b[0m\u001b[0;34m)\u001b[0m\u001b[0;34m]\u001b[0m\u001b[0;34m\u001b[0m\u001b[0m\n\u001b[1;32m   2259\u001b[0m \u001b[0;34m\u001b[0m\u001b[0m\n",
      "\u001b[0;32m/usr/local/lib/python2.7/dist-packages/tensorflow/python/client/session.pyc\u001b[0m in \u001b[0;36mrun\u001b[0;34m(self, fetches, feed_dict, options, run_metadata)\u001b[0m\n\u001b[1;32m    787\u001b[0m     \u001b[0;32mtry\u001b[0m\u001b[0;34m:\u001b[0m\u001b[0;34m\u001b[0m\u001b[0m\n\u001b[1;32m    788\u001b[0m       result = self._run(None, fetches, feed_dict, options_ptr,\n\u001b[0;32m--> 789\u001b[0;31m                          run_metadata_ptr)\n\u001b[0m\u001b[1;32m    790\u001b[0m       \u001b[0;32mif\u001b[0m \u001b[0mrun_metadata\u001b[0m\u001b[0;34m:\u001b[0m\u001b[0;34m\u001b[0m\u001b[0m\n\u001b[1;32m    791\u001b[0m         \u001b[0mproto_data\u001b[0m \u001b[0;34m=\u001b[0m \u001b[0mtf_session\u001b[0m\u001b[0;34m.\u001b[0m\u001b[0mTF_GetBuffer\u001b[0m\u001b[0;34m(\u001b[0m\u001b[0mrun_metadata_ptr\u001b[0m\u001b[0;34m)\u001b[0m\u001b[0;34m\u001b[0m\u001b[0m\n",
      "\u001b[0;32m/usr/local/lib/python2.7/dist-packages/tensorflow/python/client/session.pyc\u001b[0m in \u001b[0;36m_run\u001b[0;34m(self, handle, fetches, feed_dict, options, run_metadata)\u001b[0m\n\u001b[1;32m    995\u001b[0m     \u001b[0;32mif\u001b[0m \u001b[0mfinal_fetches\u001b[0m \u001b[0;32mor\u001b[0m \u001b[0mfinal_targets\u001b[0m\u001b[0;34m:\u001b[0m\u001b[0;34m\u001b[0m\u001b[0m\n\u001b[1;32m    996\u001b[0m       results = self._do_run(handle, final_targets, final_fetches,\n\u001b[0;32m--> 997\u001b[0;31m                              feed_dict_string, options, run_metadata)\n\u001b[0m\u001b[1;32m    998\u001b[0m     \u001b[0;32melse\u001b[0m\u001b[0;34m:\u001b[0m\u001b[0;34m\u001b[0m\u001b[0m\n\u001b[1;32m    999\u001b[0m       \u001b[0mresults\u001b[0m \u001b[0;34m=\u001b[0m \u001b[0;34m[\u001b[0m\u001b[0;34m]\u001b[0m\u001b[0;34m\u001b[0m\u001b[0m\n",
      "\u001b[0;32m/usr/local/lib/python2.7/dist-packages/tensorflow/python/client/session.pyc\u001b[0m in \u001b[0;36m_do_run\u001b[0;34m(self, handle, target_list, fetch_list, feed_dict, options, run_metadata)\u001b[0m\n\u001b[1;32m   1130\u001b[0m     \u001b[0;32mif\u001b[0m \u001b[0mhandle\u001b[0m \u001b[0;32mis\u001b[0m \u001b[0mNone\u001b[0m\u001b[0;34m:\u001b[0m\u001b[0;34m\u001b[0m\u001b[0m\n\u001b[1;32m   1131\u001b[0m       return self._do_call(_run_fn, self._session, feed_dict, fetch_list,\n\u001b[0;32m-> 1132\u001b[0;31m                            target_list, options, run_metadata)\n\u001b[0m\u001b[1;32m   1133\u001b[0m     \u001b[0;32melse\u001b[0m\u001b[0;34m:\u001b[0m\u001b[0;34m\u001b[0m\u001b[0m\n\u001b[1;32m   1134\u001b[0m       return self._do_call(_prun_fn, self._session, handle, feed_dict,\n",
      "\u001b[0;32m/usr/local/lib/python2.7/dist-packages/tensorflow/python/client/session.pyc\u001b[0m in \u001b[0;36m_do_call\u001b[0;34m(self, fn, *args)\u001b[0m\n\u001b[1;32m   1137\u001b[0m   \u001b[0;32mdef\u001b[0m \u001b[0m_do_call\u001b[0m\u001b[0;34m(\u001b[0m\u001b[0mself\u001b[0m\u001b[0;34m,\u001b[0m \u001b[0mfn\u001b[0m\u001b[0;34m,\u001b[0m \u001b[0;34m*\u001b[0m\u001b[0margs\u001b[0m\u001b[0;34m)\u001b[0m\u001b[0;34m:\u001b[0m\u001b[0;34m\u001b[0m\u001b[0m\n\u001b[1;32m   1138\u001b[0m     \u001b[0;32mtry\u001b[0m\u001b[0;34m:\u001b[0m\u001b[0;34m\u001b[0m\u001b[0m\n\u001b[0;32m-> 1139\u001b[0;31m       \u001b[0;32mreturn\u001b[0m \u001b[0mfn\u001b[0m\u001b[0;34m(\u001b[0m\u001b[0;34m*\u001b[0m\u001b[0margs\u001b[0m\u001b[0;34m)\u001b[0m\u001b[0;34m\u001b[0m\u001b[0m\n\u001b[0m\u001b[1;32m   1140\u001b[0m     \u001b[0;32mexcept\u001b[0m \u001b[0merrors\u001b[0m\u001b[0;34m.\u001b[0m\u001b[0mOpError\u001b[0m \u001b[0;32mas\u001b[0m \u001b[0me\u001b[0m\u001b[0;34m:\u001b[0m\u001b[0;34m\u001b[0m\u001b[0m\n\u001b[1;32m   1141\u001b[0m       \u001b[0mmessage\u001b[0m \u001b[0;34m=\u001b[0m \u001b[0mcompat\u001b[0m\u001b[0;34m.\u001b[0m\u001b[0mas_text\u001b[0m\u001b[0;34m(\u001b[0m\u001b[0me\u001b[0m\u001b[0;34m.\u001b[0m\u001b[0mmessage\u001b[0m\u001b[0;34m)\u001b[0m\u001b[0;34m\u001b[0m\u001b[0m\n",
      "\u001b[0;32m/usr/local/lib/python2.7/dist-packages/tensorflow/python/client/session.pyc\u001b[0m in \u001b[0;36m_run_fn\u001b[0;34m(session, feed_dict, fetch_list, target_list, options, run_metadata)\u001b[0m\n\u001b[1;32m   1119\u001b[0m         return tf_session.TF_Run(session, options,\n\u001b[1;32m   1120\u001b[0m                                  \u001b[0mfeed_dict\u001b[0m\u001b[0;34m,\u001b[0m \u001b[0mfetch_list\u001b[0m\u001b[0;34m,\u001b[0m \u001b[0mtarget_list\u001b[0m\u001b[0;34m,\u001b[0m\u001b[0;34m\u001b[0m\u001b[0m\n\u001b[0;32m-> 1121\u001b[0;31m                                  status, run_metadata)\n\u001b[0m\u001b[1;32m   1122\u001b[0m \u001b[0;34m\u001b[0m\u001b[0m\n\u001b[1;32m   1123\u001b[0m     \u001b[0;32mdef\u001b[0m \u001b[0m_prun_fn\u001b[0m\u001b[0;34m(\u001b[0m\u001b[0msession\u001b[0m\u001b[0;34m,\u001b[0m \u001b[0mhandle\u001b[0m\u001b[0;34m,\u001b[0m \u001b[0mfeed_dict\u001b[0m\u001b[0;34m,\u001b[0m \u001b[0mfetch_list\u001b[0m\u001b[0;34m)\u001b[0m\u001b[0;34m:\u001b[0m\u001b[0;34m\u001b[0m\u001b[0m\n",
      "\u001b[0;31mKeyboardInterrupt\u001b[0m: "
     ]
    }
   ],
   "source": [
    "workflow.test_submission(trained_model, folder_X_array)"
   ]
  },
  {
   "cell_type": "code",
   "execution_count": null,
   "metadata": {},
   "outputs": [],
   "source": []
  }
 ],
 "metadata": {
  "kernelspec": {
   "display_name": "Python 2",
   "language": "python",
   "name": "python2"
  },
  "language_info": {
   "codemirror_mode": {
    "name": "ipython",
    "version": 2
   },
   "file_extension": ".py",
   "mimetype": "text/x-python",
   "name": "python",
   "nbconvert_exporter": "python",
   "pygments_lexer": "ipython2",
   "version": "2.7.12"
  }
 },
 "nbformat": 4,
 "nbformat_minor": 2
}
