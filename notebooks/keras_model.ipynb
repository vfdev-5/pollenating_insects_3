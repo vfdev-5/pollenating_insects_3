{
 "cells": [
  {
   "cell_type": "markdown",
   "metadata": {},
   "source": [
    "# Various checks of model and metrics"
   ]
  },
  {
   "cell_type": "code",
   "execution_count": 1,
   "metadata": {},
   "outputs": [],
   "source": [
    "import os \n",
    "import sys\n",
    "import numpy as np\n",
    "\n",
    "sys.path.append(\"../submissions/keras_cnns_pretrained\")\n",
    "sys.path.append(\"../\")"
   ]
  },
  {
   "cell_type": "code",
   "execution_count": 2,
   "metadata": {},
   "outputs": [],
   "source": [
    "from rampwf.workflows.image_classifier import BatchGeneratorBuilder"
   ]
  },
  {
   "cell_type": "code",
   "execution_count": 3,
   "metadata": {},
   "outputs": [],
   "source": [
    "from image_preprocessor import transform, transform_test\n",
    "from problem import get_cv, get_train_data, Predictions, score_types"
   ]
  },
  {
   "cell_type": "markdown",
   "metadata": {},
   "source": [
    "## Load data and score functions with rampws"
   ]
  },
  {
   "cell_type": "code",
   "execution_count": 4,
   "metadata": {},
   "outputs": [],
   "source": [
    "n_classes = 403\n",
    "batch_size = 16"
   ]
  },
  {
   "cell_type": "code",
   "execution_count": 5,
   "metadata": {},
   "outputs": [],
   "source": [
    "folder_X_train, y_train = get_train_data(path=\"..\")\n",
    "cv = list(get_cv(folder_X_train, y_train))\n",
    "\n",
    "for fold_i, (train_is, valid_is) in enumerate(cv):\n",
    "\n",
    "    folder, X_train = folder_X_train\n",
    "\n",
    "    gen = BatchGeneratorBuilder(X_array=X_train[train_is], y_array=y_train[train_is], \n",
    "                                transform_img=transform, transform_test_img=transform_test, \n",
    "                                folder=folder, \n",
    "                                chunk_size=batch_size*5, \n",
    "                                n_classes=n_classes, n_jobs=1)\n",
    "    break"
   ]
  },
  {
   "cell_type": "code",
   "execution_count": 6,
   "metadata": {},
   "outputs": [],
   "source": [
    "ground_truth_train_train = Predictions(y_true=y_train[train_is])"
   ]
  },
  {
   "cell_type": "code",
   "execution_count": 7,
   "metadata": {},
   "outputs": [
    {
     "data": {
      "text/plain": [
       "[<rampwf.score_types.accuracy.Accuracy at 0x7f55eff505c0>,\n",
       " <rampwf.score_types.negative_log_likelihood.NegativeLogLikelihood at 0x7f55eff505f8>,\n",
       " <rampwf.score_types.f1_above.F1Above at 0x7f55eff50630>]"
      ]
     },
     "execution_count": 7,
     "metadata": {},
     "output_type": "execute_result"
    }
   ],
   "source": [
    "score_types"
   ]
  },
  {
   "cell_type": "code",
   "execution_count": 8,
   "metadata": {},
   "outputs": [
    {
     "data": {
      "text/plain": [
       "1.0"
      ]
     },
     "execution_count": 8,
     "metadata": {},
     "output_type": "execute_result"
    }
   ],
   "source": [
    "score_types[-1].score_function(ground_truth_train_train, ground_truth_train_train)"
   ]
  },
  {
   "cell_type": "code",
   "execution_count": 9,
   "metadata": {},
   "outputs": [],
   "source": [
    "def score_function(self, ground_truths, predictions, valid_indexes=None):\n",
    "    self.label_names = ground_truths.label_names\n",
    "    if valid_indexes is None:\n",
    "        valid_indexes = slice(None, None, None)\n",
    "    y_pred_label_index = predictions.y_pred_label_index[valid_indexes]\n",
    "    y_true_label_index = ground_truths.y_pred_label_index[valid_indexes]\n",
    "    self.check_y_pred_dimensions(y_true_label_index, y_pred_label_index)\n",
    "    return self.__call__(y_true_label_index, y_pred_label_index)\n"
   ]
  },
  {
   "cell_type": "code",
   "execution_count": 10,
   "metadata": {},
   "outputs": [
    {
     "data": {
      "text/plain": [
       "array([159,  57,  84, ...,  35,  15,  95])"
      ]
     },
     "execution_count": 10,
     "metadata": {},
     "output_type": "execute_result"
    }
   ],
   "source": [
    "valid_indexes = slice(None, None, None)\n",
    "\n",
    "ground_truth_train_train.y_pred_label_index[valid_indexes]"
   ]
  },
  {
   "cell_type": "code",
   "execution_count": null,
   "metadata": {},
   "outputs": [],
   "source": []
  },
  {
   "cell_type": "code",
   "execution_count": null,
   "metadata": {},
   "outputs": [],
   "source": []
  },
  {
   "cell_type": "markdown",
   "metadata": {},
   "source": [
    "## Compare f1above, f1_score and fbeta_score (beta=1)"
   ]
  },
  {
   "cell_type": "markdown",
   "metadata": {},
   "source": [
    "### Example of incorrect rare classes prediction "
   ]
  },
  {
   "cell_type": "code",
   "execution_count": 40,
   "metadata": {},
   "outputs": [],
   "source": [
    "from sklearn.metrics import f1_score, fbeta_score\n",
    "from rampwf.score_types.f1_above import F1Above"
   ]
  },
  {
   "cell_type": "code",
   "execution_count": 144,
   "metadata": {},
   "outputs": [],
   "source": [
    "y_true_labels = [0, 0, 0, 0, 0, 0, 0, 0, 0, 0, 1, 1, 1, 1, 1, 1, 1, 1, 2, 2, 2, 3, 4, 5]\n",
    "y_pred_labels = [0, 0, 0, 0, 0, 0, 0, 0, 0, 0, 1, 1, 1, 1, 1, 1, 1, 1, 1, 1, 1, 1, 1, 1]"
   ]
  },
  {
   "cell_type": "code",
   "execution_count": 145,
   "metadata": {},
   "outputs": [
    {
     "name": "stderr",
     "output_type": "stream",
     "text": [
      "/usr/local/lib/python3.5/dist-packages/sklearn/metrics/classification.py:1135: UndefinedMetricWarning: F-score is ill-defined and being set to 0.0 in labels with no predicted samples.\n",
      "  'precision', 'predicted', average, warn_for)\n"
     ]
    },
    {
     "data": {
      "text/plain": [
       "(array([ 1.        ,  0.72727273,  0.        ,  0.        ,  0.        ,  0.        ]),\n",
       " array([ 1.        ,  0.72727273,  0.        ,  0.        ,  0.        ,  0.        ]))"
      ]
     },
     "execution_count": 145,
     "metadata": {},
     "output_type": "execute_result"
    }
   ],
   "source": [
    "f1_score(y_true_labels, y_pred_labels, average=None), fbeta_score(y_true_labels, y_pred_labels, beta=1, average=None) "
   ]
  },
  {
   "cell_type": "code",
   "execution_count": 146,
   "metadata": {},
   "outputs": [],
   "source": [
    "f1above = F1Above(threshold=0.7, precision=3)"
   ]
  },
  {
   "cell_type": "code",
   "execution_count": 147,
   "metadata": {},
   "outputs": [
    {
     "name": "stderr",
     "output_type": "stream",
     "text": [
      "/usr/local/lib/python3.5/dist-packages/sklearn/metrics/classification.py:1135: UndefinedMetricWarning: F-score is ill-defined and being set to 0.0 in labels with no predicted samples.\n",
      "  'precision', 'predicted', average, warn_for)\n"
     ]
    },
    {
     "data": {
      "text/plain": [
       "0.3333333333333333"
      ]
     },
     "execution_count": 147,
     "metadata": {},
     "output_type": "execute_result"
    }
   ],
   "source": [
    "f1above(y_true_labels, y_pred_labels)"
   ]
  },
  {
   "cell_type": "code",
   "execution_count": null,
   "metadata": {},
   "outputs": [],
   "source": []
  },
  {
   "cell_type": "markdown",
   "metadata": {},
   "source": [
    "### Another example "
   ]
  },
  {
   "cell_type": "code",
   "execution_count": 114,
   "metadata": {},
   "outputs": [],
   "source": [
    "nb_classes = 10"
   ]
  },
  {
   "cell_type": "code",
   "execution_count": 115,
   "metadata": {},
   "outputs": [],
   "source": [
    "y_true = np.zeros((nb_classes, nb_classes), dtype=np.uint8)\n",
    "for i in range(nb_classes):\n",
    "    y_true[i, i] = 1\n",
    "    \n",
    "y_pred = np.zeros((nb_classes, nb_classes), dtype=np.uint8)\n",
    "for i in range(nb_classes):\n",
    "    j = np.random.randint(i-1 if i-1 >= 0 else 0, i+1 if i+1 < nb_classes else i)\n",
    "    y_pred[i, j] = 1"
   ]
  },
  {
   "cell_type": "code",
   "execution_count": 116,
   "metadata": {},
   "outputs": [
    {
     "name": "stdout",
     "output_type": "stream",
     "text": [
      "[[1 0 0 0 0 0 0 0 0 0]\n",
      " [0 1 0 0 0 0 0 0 0 0]\n",
      " [0 0 1 0 0 0 0 0 0 0]\n",
      " [0 0 0 1 0 0 0 0 0 0]\n",
      " [0 0 0 0 1 0 0 0 0 0]\n",
      " [0 0 0 0 0 1 0 0 0 0]\n",
      " [0 0 0 0 0 0 1 0 0 0]\n",
      " [0 0 0 0 0 0 0 1 0 0]\n",
      " [0 0 0 0 0 0 0 0 1 0]\n",
      " [0 0 0 0 0 0 0 0 0 1]] \n",
      " [[1 0 0 0 0 0 0 0 0 0]\n",
      " [1 0 0 0 0 0 0 0 0 0]\n",
      " [0 1 0 0 0 0 0 0 0 0]\n",
      " [0 0 1 0 0 0 0 0 0 0]\n",
      " [0 0 0 0 1 0 0 0 0 0]\n",
      " [0 0 0 0 0 1 0 0 0 0]\n",
      " [0 0 0 0 0 0 1 0 0 0]\n",
      " [0 0 0 0 0 0 0 1 0 0]\n",
      " [0 0 0 0 0 0 0 1 0 0]\n",
      " [0 0 0 0 0 0 0 0 1 0]]\n"
     ]
    }
   ],
   "source": [
    "print(y_true, '\\n', y_pred)"
   ]
  },
  {
   "cell_type": "code",
   "execution_count": 117,
   "metadata": {},
   "outputs": [],
   "source": [
    "y_true_labels = np.array([np.where(y > 0)[0] for y in y_true]).ravel()\n",
    "y_pred_labels = np.array([np.where(y > 0)[0] for y in y_pred]).ravel()"
   ]
  },
  {
   "cell_type": "code",
   "execution_count": 118,
   "metadata": {},
   "outputs": [
    {
     "data": {
      "text/plain": [
       "(array([0, 0, 1, 2, 4, 5, 6, 7, 7, 8]), array([0, 1, 2, 3, 4, 5, 6, 7, 8, 9]))"
      ]
     },
     "execution_count": 118,
     "metadata": {},
     "output_type": "execute_result"
    }
   ],
   "source": [
    "y_pred_labels, y_true_labels"
   ]
  },
  {
   "cell_type": "code",
   "execution_count": 119,
   "metadata": {},
   "outputs": [
    {
     "name": "stderr",
     "output_type": "stream",
     "text": [
      "/usr/local/lib/python3.5/dist-packages/sklearn/metrics/classification.py:1135: UndefinedMetricWarning: F-score is ill-defined and being set to 0.0 in labels with no predicted samples.\n",
      "  'precision', 'predicted', average, warn_for)\n"
     ]
    },
    {
     "data": {
      "text/plain": [
       "(0.3, 0.3)"
      ]
     },
     "execution_count": 119,
     "metadata": {},
     "output_type": "execute_result"
    }
   ],
   "source": [
    "f1above(y_true, y_pred), f1above(y_true_labels, y_pred_labels)"
   ]
  },
  {
   "cell_type": "markdown",
   "metadata": {},
   "source": [
    "### How it is computed"
   ]
  },
  {
   "cell_type": "code",
   "execution_count": 120,
   "metadata": {},
   "outputs": [],
   "source": [
    "f1above??"
   ]
  },
  {
   "cell_type": "code",
   "execution_count": 121,
   "metadata": {},
   "outputs": [
    {
     "name": "stderr",
     "output_type": "stream",
     "text": [
      "/usr/local/lib/python3.5/dist-packages/sklearn/metrics/classification.py:1135: UndefinedMetricWarning: F-score is ill-defined and being set to 0.0 in labels with no predicted samples.\n",
      "  'precision', 'predicted', average, warn_for)\n"
     ]
    },
    {
     "data": {
      "text/plain": [
       "array([ 0.66666667,  0.        ,  0.        ,  0.        ,  1.        ,\n",
       "        1.        ,  1.        ,  0.66666667,  0.        ,  0.        ])"
      ]
     },
     "execution_count": 121,
     "metadata": {},
     "output_type": "execute_result"
    }
   ],
   "source": [
    "res = f1_score(y_true_labels, y_pred_labels, average=None)\n",
    "res"
   ]
  },
  {
   "cell_type": "code",
   "execution_count": 122,
   "metadata": {},
   "outputs": [
    {
     "data": {
      "text/plain": [
       "0.3"
      ]
     },
     "execution_count": 122,
     "metadata": {},
     "output_type": "execute_result"
    }
   ],
   "source": [
    "len(res[res>0.7]) / len(res) "
   ]
  },
  {
   "cell_type": "code",
   "execution_count": 123,
   "metadata": {},
   "outputs": [
    {
     "name": "stderr",
     "output_type": "stream",
     "text": [
      "/usr/local/lib/python3.5/dist-packages/sklearn/metrics/classification.py:1135: UndefinedMetricWarning: F-score is ill-defined and being set to 0.0 in labels with no predicted samples.\n",
      "  'precision', 'predicted', average, warn_for)\n"
     ]
    },
    {
     "data": {
      "text/plain": [
       "array([ 0.66666667,  0.        ,  0.        ,  0.        ,  1.        ,\n",
       "        1.        ,  1.        ,  0.66666667,  0.        ,  0.        ])"
      ]
     },
     "execution_count": 123,
     "metadata": {},
     "output_type": "execute_result"
    }
   ],
   "source": [
    "res = fbeta_score(y_true_labels, y_pred_labels, beta=1, average=None)\n",
    "res"
   ]
  },
  {
   "cell_type": "code",
   "execution_count": 124,
   "metadata": {},
   "outputs": [
    {
     "data": {
      "text/plain": [
       "0.3"
      ]
     },
     "execution_count": 124,
     "metadata": {},
     "output_type": "execute_result"
    }
   ],
   "source": [
    "len(res[res>0.7]) /  len(res) "
   ]
  },
  {
   "cell_type": "code",
   "execution_count": 127,
   "metadata": {},
   "outputs": [
    {
     "name": "stderr",
     "output_type": "stream",
     "text": [
      "/usr/local/lib/python3.5/dist-packages/sklearn/metrics/classification.py:1135: UndefinedMetricWarning: F-score is ill-defined and being set to 0.0 in labels with no predicted samples.\n",
      "  'precision', 'predicted', average, warn_for)\n"
     ]
    },
    {
     "data": {
      "text/plain": [
       "array([ 0.66666667,  0.        ,  0.        ,  0.        ,  1.        ,\n",
       "        1.        ,  1.        ,  0.66666667,  0.        ,  0.        ])"
      ]
     },
     "execution_count": 127,
     "metadata": {},
     "output_type": "execute_result"
    }
   ],
   "source": [
    "res = f1_score(y_true, y_pred, average=None)\n",
    "res"
   ]
  },
  {
   "cell_type": "code",
   "execution_count": 128,
   "metadata": {},
   "outputs": [
    {
     "data": {
      "text/plain": [
       "0.3"
      ]
     },
     "execution_count": 128,
     "metadata": {},
     "output_type": "execute_result"
    }
   ],
   "source": [
    "len(res[res>0.7]) / len(res) "
   ]
  },
  {
   "cell_type": "code",
   "execution_count": 131,
   "metadata": {},
   "outputs": [],
   "source": [
    "from sklearn.metrics import precision_recall_fscore_support\n",
    "precision_recall_fscore_support??"
   ]
  },
  {
   "cell_type": "code",
   "execution_count": null,
   "metadata": {},
   "outputs": [],
   "source": []
  },
  {
   "cell_type": "markdown",
   "metadata": {},
   "source": [
    "Compute f1 with TP, FP, FN"
   ]
  },
  {
   "cell_type": "code",
   "execution_count": 161,
   "metadata": {},
   "outputs": [],
   "source": [
    "TP = np.sum(np.round(np.clip(y_true * y_pred, 0, 1)), axis=0)\n",
    "TP_FP = np.sum(np.round(np.clip(y_pred, 0, 1)), axis=0)\n",
    "TP_FN = np.sum(np.round(np.clip(y_true, 0, 1)), axis=0)"
   ]
  },
  {
   "cell_type": "code",
   "execution_count": 162,
   "metadata": {},
   "outputs": [
    {
     "data": {
      "text/plain": [
       "(array([1, 0, 0, 0, 1, 1, 1, 1, 0, 0], dtype=uint64),\n",
       " array([2, 1, 1, 0, 1, 1, 1, 2, 1, 0], dtype=uint64),\n",
       " array([1, 1, 1, 1, 1, 1, 1, 1, 1, 1], dtype=uint64))"
      ]
     },
     "execution_count": 162,
     "metadata": {},
     "output_type": "execute_result"
    }
   ],
   "source": [
    "TP, TP_FP, TP_FN"
   ]
  },
  {
   "cell_type": "code",
   "execution_count": 158,
   "metadata": {},
   "outputs": [
    {
     "data": {
      "text/plain": [
       "array([[1, 0, 0, 0, 0, 0, 0, 0, 0, 0],\n",
       "       [1, 0, 0, 0, 0, 0, 0, 0, 0, 0],\n",
       "       [0, 1, 0, 0, 0, 0, 0, 0, 0, 0],\n",
       "       [0, 0, 1, 0, 0, 0, 0, 0, 0, 0],\n",
       "       [0, 0, 0, 0, 1, 0, 0, 0, 0, 0],\n",
       "       [0, 0, 0, 0, 0, 1, 0, 0, 0, 0],\n",
       "       [0, 0, 0, 0, 0, 0, 1, 0, 0, 0],\n",
       "       [0, 0, 0, 0, 0, 0, 0, 1, 0, 0],\n",
       "       [0, 0, 0, 0, 0, 0, 0, 1, 0, 0],\n",
       "       [0, 0, 0, 0, 0, 0, 0, 0, 1, 0]], dtype=uint8)"
      ]
     },
     "execution_count": 158,
     "metadata": {},
     "output_type": "execute_result"
    }
   ],
   "source": [
    "y_pred"
   ]
  },
  {
   "cell_type": "code",
   "execution_count": 163,
   "metadata": {},
   "outputs": [
    {
     "data": {
      "text/plain": [
       "array([ 0.66666667,  0.        ,  0.        ,  0.        ,  1.        ,\n",
       "        1.        ,  1.        ,  0.66666667,  0.        ,  0.        ])"
      ]
     },
     "execution_count": 163,
     "metadata": {},
     "output_type": "execute_result"
    }
   ],
   "source": [
    "2.0*TP / (TP_FP + TP_FN)"
   ]
  },
  {
   "cell_type": "code",
   "execution_count": 208,
   "metadata": {},
   "outputs": [
    {
     "data": {
      "text/plain": [
       "array([ 0.,  0.,  0.,  0.,  1.,  1.,  1.,  0.,  0.,  0.])"
      ]
     },
     "execution_count": 208,
     "metadata": {},
     "output_type": "execute_result"
    }
   ],
   "source": [
    "np.clip((2.0*TP / (TP_FP + TP_FN) - 0.7)*10.0, 0.0, 1.0)"
   ]
  },
  {
   "cell_type": "code",
   "execution_count": null,
   "metadata": {},
   "outputs": [],
   "source": []
  },
  {
   "cell_type": "code",
   "execution_count": null,
   "metadata": {},
   "outputs": [],
   "source": []
  },
  {
   "cell_type": "code",
   "execution_count": null,
   "metadata": {},
   "outputs": [],
   "source": []
  },
  {
   "cell_type": "markdown",
   "metadata": {},
   "source": [
    "## Implement f170 metric in Keras"
   ]
  },
  {
   "cell_type": "code",
   "execution_count": 2,
   "metadata": {},
   "outputs": [
    {
     "name": "stderr",
     "output_type": "stream",
     "text": [
      "Using TensorFlow backend.\n"
     ]
    }
   ],
   "source": [
    "from keras import backend as K"
   ]
  },
  {
   "cell_type": "code",
   "execution_count": 209,
   "metadata": {},
   "outputs": [],
   "source": [
    "def f170(y_true, y_pred):\n",
    "\n",
    "    true_positives = K.sum(K.round(K.clip(y_true * y_pred, 0, 1)), axis=0)\n",
    "    predicted_positives = K.sum(K.round(K.clip(y_pred, 0, 1)), axis=0)\n",
    "    possible_positives = K.sum(K.round(K.clip(y_true, 0, 1)), axis=0)\n",
    "\n",
    "    numer = 2.0 * true_positives\n",
    "    denom = predicted_positives + possible_positives + K.epsilon()\n",
    "    f1 = numer / denom\n",
    "    score = K.sum(K.round(K.clip((f1 - 0.7)*10.0, 0.0, 1)), axis=0) / K.int_shape(f1)[0]\n",
    "    return f1, score"
   ]
  },
  {
   "cell_type": "code",
   "execution_count": 210,
   "metadata": {},
   "outputs": [],
   "source": [
    "Y_true = K.placeholder(shape=(None, nb_classes), dtype='float32')\n",
    "Y_pred = K.placeholder(shape=(None, nb_classes), dtype='float32')\n",
    "f170_score = f170(Y_true, Y_pred)"
   ]
  },
  {
   "cell_type": "code",
   "execution_count": 211,
   "metadata": {},
   "outputs": [
    {
     "name": "stdout",
     "output_type": "stream",
     "text": [
      "[[1 0 0 0 0 0 0 0 0 0]\n",
      " [0 1 0 0 0 0 0 0 0 0]\n",
      " [0 0 1 0 0 0 0 0 0 0]\n",
      " [0 0 0 1 0 0 0 0 0 0]\n",
      " [0 0 0 0 1 0 0 0 0 0]\n",
      " [0 0 0 0 0 1 0 0 0 0]\n",
      " [0 0 0 0 0 0 1 0 0 0]\n",
      " [0 0 0 0 0 0 0 1 0 0]\n",
      " [0 0 0 0 0 0 0 0 1 0]\n",
      " [0 0 0 0 0 0 0 0 0 1]] \n",
      " [[1 0 0 0 0 0 0 0 0 0]\n",
      " [1 0 0 0 0 0 0 0 0 0]\n",
      " [0 1 0 0 0 0 0 0 0 0]\n",
      " [0 0 1 0 0 0 0 0 0 0]\n",
      " [0 0 0 0 1 0 0 0 0 0]\n",
      " [0 0 0 0 0 1 0 0 0 0]\n",
      " [0 0 0 0 0 0 1 0 0 0]\n",
      " [0 0 0 0 0 0 0 1 0 0]\n",
      " [0 0 0 0 0 0 0 1 0 0]\n",
      " [0 0 0 0 0 0 0 0 1 0]]\n"
     ]
    }
   ],
   "source": [
    "print(y_true, '\\n', y_pred)"
   ]
  },
  {
   "cell_type": "code",
   "execution_count": 212,
   "metadata": {},
   "outputs": [],
   "source": [
    "sess = K.get_session()\n",
    "res = sess.run(f170_score, feed_dict={Y_true: y_true, Y_pred: y_pred})"
   ]
  },
  {
   "cell_type": "code",
   "execution_count": 213,
   "metadata": {},
   "outputs": [
    {
     "data": {
      "text/plain": [
       "(array([ 0.66666669,  0.        ,  0.        ,  0.        ,  1.        ,\n",
       "         1.        ,  1.        ,  0.66666669,  0.        ,  0.        ], dtype=float32),\n",
       " 0.30000001)"
      ]
     },
     "execution_count": 213,
     "metadata": {},
     "output_type": "execute_result"
    }
   ],
   "source": [
    "res"
   ]
  },
  {
   "cell_type": "code",
   "execution_count": null,
   "metadata": {},
   "outputs": [],
   "source": []
  },
  {
   "cell_type": "markdown",
   "metadata": {},
   "source": [
    "## DenseNet architecture"
   ]
  },
  {
   "cell_type": "code",
   "execution_count": 8,
   "metadata": {},
   "outputs": [
    {
     "name": "stdout",
     "output_type": "stream",
     "text": [
      "Uninstalling keras-contrib-1.2.1:\n",
      "  Successfully uninstalled keras-contrib-1.2.1\n"
     ]
    }
   ],
   "source": [
    "!pip uninstall -y keras-contrib"
   ]
  },
  {
   "cell_type": "code",
   "execution_count": 12,
   "metadata": {},
   "outputs": [],
   "source": [
    "!cd ../../../ && rm -R keras-contrib"
   ]
  },
  {
   "cell_type": "code",
   "execution_count": 13,
   "metadata": {},
   "outputs": [
    {
     "name": "stdout",
     "output_type": "stream",
     "text": [
      "Cloning into 'keras-contrib'...\n",
      "remote: Counting objects: 1643, done.\u001b[K\n",
      "remote: Total 1643 (delta 0), reused 0 (delta 0), pack-reused 1642\u001b[K\n",
      "Receiving objects: 100% (1643/1643), 1.40 MiB | 1.14 MiB/s, done.\n",
      "Resolving deltas: 100% (1024/1024), done.\n",
      "Checking connectivity... done.\n",
      "running install\n",
      "running bdist_egg\n",
      "running egg_info\n",
      "creating keras_contrib.egg-info\n",
      "writing requirements to keras_contrib.egg-info/requires.txt\n",
      "writing keras_contrib.egg-info/PKG-INFO\n",
      "writing top-level names to keras_contrib.egg-info/top_level.txt\n",
      "writing dependency_links to keras_contrib.egg-info/dependency_links.txt\n",
      "writing manifest file 'keras_contrib.egg-info/SOURCES.txt'\n",
      "reading manifest file 'keras_contrib.egg-info/SOURCES.txt'\n",
      "writing manifest file 'keras_contrib.egg-info/SOURCES.txt'\n",
      "installing library code to build/bdist.linux-x86_64/egg\n",
      "running install_lib\n",
      "running build_py\n",
      "creating build\n",
      "creating build/lib.linux-x86_64-2.7\n",
      "creating build/lib.linux-x86_64-2.7/keras_contrib\n",
      "copying keras_contrib/__init__.py -> build/lib.linux-x86_64-2.7/keras_contrib\n",
      "creating build/lib.linux-x86_64-2.7/keras_contrib/wrappers\n",
      "copying keras_contrib/wrappers/__init__.py -> build/lib.linux-x86_64-2.7/keras_contrib/wrappers\n",
      "creating build/lib.linux-x86_64-2.7/keras_contrib/tests\n",
      "copying keras_contrib/tests/__init__.py -> build/lib.linux-x86_64-2.7/keras_contrib/tests\n",
      "copying keras_contrib/tests/optimizers.py -> build/lib.linux-x86_64-2.7/keras_contrib/tests\n",
      "copying keras_contrib/tests/regularizers.py -> build/lib.linux-x86_64-2.7/keras_contrib/tests\n",
      "copying keras_contrib/tests/metrics.py -> build/lib.linux-x86_64-2.7/keras_contrib/tests\n",
      "copying keras_contrib/tests/activations.py -> build/lib.linux-x86_64-2.7/keras_contrib/tests\n",
      "creating build/lib.linux-x86_64-2.7/keras_contrib/layers\n",
      "copying keras_contrib/layers/convolutional_recurrent.py -> build/lib.linux-x86_64-2.7/keras_contrib/layers\n",
      "copying keras_contrib/layers/normalization.py -> build/lib.linux-x86_64-2.7/keras_contrib/layers\n",
      "copying keras_contrib/layers/__init__.py -> build/lib.linux-x86_64-2.7/keras_contrib/layers\n",
      "copying keras_contrib/layers/local.py -> build/lib.linux-x86_64-2.7/keras_contrib/layers\n",
      "copying keras_contrib/layers/pooling.py -> build/lib.linux-x86_64-2.7/keras_contrib/layers\n",
      "copying keras_contrib/layers/wrappers.py -> build/lib.linux-x86_64-2.7/keras_contrib/layers\n",
      "copying keras_contrib/layers/noise.py -> build/lib.linux-x86_64-2.7/keras_contrib/layers\n",
      "copying keras_contrib/layers/core.py -> build/lib.linux-x86_64-2.7/keras_contrib/layers\n",
      "copying keras_contrib/layers/embeddings.py -> build/lib.linux-x86_64-2.7/keras_contrib/layers\n",
      "copying keras_contrib/layers/convolutional.py -> build/lib.linux-x86_64-2.7/keras_contrib/layers\n",
      "copying keras_contrib/layers/crf.py -> build/lib.linux-x86_64-2.7/keras_contrib/layers\n",
      "copying keras_contrib/layers/recurrent.py -> build/lib.linux-x86_64-2.7/keras_contrib/layers\n",
      "copying keras_contrib/layers/advanced_activations.py -> build/lib.linux-x86_64-2.7/keras_contrib/layers\n",
      "creating build/lib.linux-x86_64-2.7/keras_contrib/datasets\n",
      "copying keras_contrib/datasets/conll2000.py -> build/lib.linux-x86_64-2.7/keras_contrib/datasets\n",
      "copying keras_contrib/datasets/__init__.py -> build/lib.linux-x86_64-2.7/keras_contrib/datasets\n",
      "copying keras_contrib/datasets/coco.py -> build/lib.linux-x86_64-2.7/keras_contrib/datasets\n",
      "copying keras_contrib/datasets/pascal_voc.py -> build/lib.linux-x86_64-2.7/keras_contrib/datasets\n",
      "creating build/lib.linux-x86_64-2.7/keras_contrib/metrics\n",
      "copying keras_contrib/metrics/__init__.py -> build/lib.linux-x86_64-2.7/keras_contrib/metrics\n",
      "creating build/lib.linux-x86_64-2.7/keras_contrib/preprocessing\n",
      "copying keras_contrib/preprocessing/__init__.py -> build/lib.linux-x86_64-2.7/keras_contrib/preprocessing\n",
      "creating build/lib.linux-x86_64-2.7/keras_contrib/losses\n",
      "copying keras_contrib/losses/dssim.py -> build/lib.linux-x86_64-2.7/keras_contrib/losses\n",
      "copying keras_contrib/losses/__init__.py -> build/lib.linux-x86_64-2.7/keras_contrib/losses\n",
      "creating build/lib.linux-x86_64-2.7/keras_contrib/applications\n",
      "copying keras_contrib/applications/__init__.py -> build/lib.linux-x86_64-2.7/keras_contrib/applications\n",
      "copying keras_contrib/applications/ror.py -> build/lib.linux-x86_64-2.7/keras_contrib/applications\n",
      "copying keras_contrib/applications/wide_resnet.py -> build/lib.linux-x86_64-2.7/keras_contrib/applications\n",
      "copying keras_contrib/applications/densenet.py -> build/lib.linux-x86_64-2.7/keras_contrib/applications\n",
      "creating build/lib.linux-x86_64-2.7/keras_contrib/backend\n",
      "copying keras_contrib/backend/__init__.py -> build/lib.linux-x86_64-2.7/keras_contrib/backend\n",
      "copying keras_contrib/backend/theano_backend.py -> build/lib.linux-x86_64-2.7/keras_contrib/backend\n",
      "copying keras_contrib/backend/cntk_backend.py -> build/lib.linux-x86_64-2.7/keras_contrib/backend\n",
      "copying keras_contrib/backend/tensorflow_backend.py -> build/lib.linux-x86_64-2.7/keras_contrib/backend\n",
      "creating build/lib.linux-x86_64-2.7/keras_contrib/utils\n",
      "copying keras_contrib/utils/__init__.py -> build/lib.linux-x86_64-2.7/keras_contrib/utils\n",
      "copying keras_contrib/utils/test_utils.py -> build/lib.linux-x86_64-2.7/keras_contrib/utils\n",
      "copying keras_contrib/utils/save_load_utils.py -> build/lib.linux-x86_64-2.7/keras_contrib/utils\n",
      "creating build/lib.linux-x86_64-2.7/keras_contrib/optimizers\n",
      "copying keras_contrib/optimizers/__init__.py -> build/lib.linux-x86_64-2.7/keras_contrib/optimizers\n",
      "copying keras_contrib/optimizers/ftml.py -> build/lib.linux-x86_64-2.7/keras_contrib/optimizers\n",
      "creating build/lib.linux-x86_64-2.7/keras_contrib/callbacks\n",
      "copying keras_contrib/callbacks/__init__.py -> build/lib.linux-x86_64-2.7/keras_contrib/callbacks\n",
      "copying keras_contrib/callbacks/dead_relu_detector.py -> build/lib.linux-x86_64-2.7/keras_contrib/callbacks\n",
      "copying keras_contrib/callbacks/snapshot.py -> build/lib.linux-x86_64-2.7/keras_contrib/callbacks\n",
      "creating build/lib.linux-x86_64-2.7/keras_contrib/constraints\n",
      "copying keras_contrib/constraints/__init__.py -> build/lib.linux-x86_64-2.7/keras_contrib/constraints\n",
      "copying keras_contrib/constraints/clip.py -> build/lib.linux-x86_64-2.7/keras_contrib/constraints\n",
      "creating build/lib.linux-x86_64-2.7/keras_contrib/initializers\n",
      "copying keras_contrib/initializers/__init__.py -> build/lib.linux-x86_64-2.7/keras_contrib/initializers\n",
      "copying keras_contrib/initializers/convaware.py -> build/lib.linux-x86_64-2.7/keras_contrib/initializers\n",
      "creating build/lib.linux-x86_64-2.7/keras_contrib/regularizers\n",
      "copying keras_contrib/regularizers/__init__.py -> build/lib.linux-x86_64-2.7/keras_contrib/regularizers\n",
      "creating build/lib.linux-x86_64-2.7/keras_contrib/activations\n",
      "copying keras_contrib/activations/__init__.py -> build/lib.linux-x86_64-2.7/keras_contrib/activations\n",
      "creating build/bdist.linux-x86_64\n",
      "creating build/bdist.linux-x86_64/egg\n",
      "creating build/bdist.linux-x86_64/egg/keras_contrib\n",
      "creating build/bdist.linux-x86_64/egg/keras_contrib/wrappers\n",
      "copying build/lib.linux-x86_64-2.7/keras_contrib/wrappers/__init__.py -> build/bdist.linux-x86_64/egg/keras_contrib/wrappers\n",
      "copying build/lib.linux-x86_64-2.7/keras_contrib/__init__.py -> build/bdist.linux-x86_64/egg/keras_contrib\n",
      "creating build/bdist.linux-x86_64/egg/keras_contrib/tests\n",
      "copying build/lib.linux-x86_64-2.7/keras_contrib/tests/__init__.py -> build/bdist.linux-x86_64/egg/keras_contrib/tests\n",
      "copying build/lib.linux-x86_64-2.7/keras_contrib/tests/optimizers.py -> build/bdist.linux-x86_64/egg/keras_contrib/tests\n",
      "copying build/lib.linux-x86_64-2.7/keras_contrib/tests/regularizers.py -> build/bdist.linux-x86_64/egg/keras_contrib/tests\n",
      "copying build/lib.linux-x86_64-2.7/keras_contrib/tests/metrics.py -> build/bdist.linux-x86_64/egg/keras_contrib/tests\n",
      "copying build/lib.linux-x86_64-2.7/keras_contrib/tests/activations.py -> build/bdist.linux-x86_64/egg/keras_contrib/tests\n",
      "creating build/bdist.linux-x86_64/egg/keras_contrib/layers\n",
      "copying build/lib.linux-x86_64-2.7/keras_contrib/layers/convolutional_recurrent.py -> build/bdist.linux-x86_64/egg/keras_contrib/layers\n",
      "copying build/lib.linux-x86_64-2.7/keras_contrib/layers/normalization.py -> build/bdist.linux-x86_64/egg/keras_contrib/layers\n",
      "copying build/lib.linux-x86_64-2.7/keras_contrib/layers/__init__.py -> build/bdist.linux-x86_64/egg/keras_contrib/layers\n",
      "copying build/lib.linux-x86_64-2.7/keras_contrib/layers/local.py -> build/bdist.linux-x86_64/egg/keras_contrib/layers\n",
      "copying build/lib.linux-x86_64-2.7/keras_contrib/layers/pooling.py -> build/bdist.linux-x86_64/egg/keras_contrib/layers\n",
      "copying build/lib.linux-x86_64-2.7/keras_contrib/layers/wrappers.py -> build/bdist.linux-x86_64/egg/keras_contrib/layers\n",
      "copying build/lib.linux-x86_64-2.7/keras_contrib/layers/noise.py -> build/bdist.linux-x86_64/egg/keras_contrib/layers\n",
      "copying build/lib.linux-x86_64-2.7/keras_contrib/layers/core.py -> build/bdist.linux-x86_64/egg/keras_contrib/layers\n",
      "copying build/lib.linux-x86_64-2.7/keras_contrib/layers/embeddings.py -> build/bdist.linux-x86_64/egg/keras_contrib/layers\n",
      "copying build/lib.linux-x86_64-2.7/keras_contrib/layers/convolutional.py -> build/bdist.linux-x86_64/egg/keras_contrib/layers\n",
      "copying build/lib.linux-x86_64-2.7/keras_contrib/layers/crf.py -> build/bdist.linux-x86_64/egg/keras_contrib/layers\n",
      "copying build/lib.linux-x86_64-2.7/keras_contrib/layers/recurrent.py -> build/bdist.linux-x86_64/egg/keras_contrib/layers\n",
      "copying build/lib.linux-x86_64-2.7/keras_contrib/layers/advanced_activations.py -> build/bdist.linux-x86_64/egg/keras_contrib/layers\n",
      "creating build/bdist.linux-x86_64/egg/keras_contrib/datasets\n",
      "copying build/lib.linux-x86_64-2.7/keras_contrib/datasets/conll2000.py -> build/bdist.linux-x86_64/egg/keras_contrib/datasets\n",
      "copying build/lib.linux-x86_64-2.7/keras_contrib/datasets/__init__.py -> build/bdist.linux-x86_64/egg/keras_contrib/datasets\n",
      "copying build/lib.linux-x86_64-2.7/keras_contrib/datasets/coco.py -> build/bdist.linux-x86_64/egg/keras_contrib/datasets\n",
      "copying build/lib.linux-x86_64-2.7/keras_contrib/datasets/pascal_voc.py -> build/bdist.linux-x86_64/egg/keras_contrib/datasets\n",
      "creating build/bdist.linux-x86_64/egg/keras_contrib/metrics\n",
      "copying build/lib.linux-x86_64-2.7/keras_contrib/metrics/__init__.py -> build/bdist.linux-x86_64/egg/keras_contrib/metrics\n",
      "creating build/bdist.linux-x86_64/egg/keras_contrib/preprocessing\n",
      "copying build/lib.linux-x86_64-2.7/keras_contrib/preprocessing/__init__.py -> build/bdist.linux-x86_64/egg/keras_contrib/preprocessing\n",
      "creating build/bdist.linux-x86_64/egg/keras_contrib/losses\n",
      "copying build/lib.linux-x86_64-2.7/keras_contrib/losses/dssim.py -> build/bdist.linux-x86_64/egg/keras_contrib/losses\n",
      "copying build/lib.linux-x86_64-2.7/keras_contrib/losses/__init__.py -> build/bdist.linux-x86_64/egg/keras_contrib/losses\n",
      "creating build/bdist.linux-x86_64/egg/keras_contrib/applications\n",
      "copying build/lib.linux-x86_64-2.7/keras_contrib/applications/__init__.py -> build/bdist.linux-x86_64/egg/keras_contrib/applications\n",
      "copying build/lib.linux-x86_64-2.7/keras_contrib/applications/ror.py -> build/bdist.linux-x86_64/egg/keras_contrib/applications\n",
      "copying build/lib.linux-x86_64-2.7/keras_contrib/applications/wide_resnet.py -> build/bdist.linux-x86_64/egg/keras_contrib/applications\n",
      "copying build/lib.linux-x86_64-2.7/keras_contrib/applications/densenet.py -> build/bdist.linux-x86_64/egg/keras_contrib/applications\n",
      "creating build/bdist.linux-x86_64/egg/keras_contrib/backend\n",
      "copying build/lib.linux-x86_64-2.7/keras_contrib/backend/__init__.py -> build/bdist.linux-x86_64/egg/keras_contrib/backend\n",
      "copying build/lib.linux-x86_64-2.7/keras_contrib/backend/theano_backend.py -> build/bdist.linux-x86_64/egg/keras_contrib/backend\n",
      "copying build/lib.linux-x86_64-2.7/keras_contrib/backend/cntk_backend.py -> build/bdist.linux-x86_64/egg/keras_contrib/backend\n",
      "copying build/lib.linux-x86_64-2.7/keras_contrib/backend/tensorflow_backend.py -> build/bdist.linux-x86_64/egg/keras_contrib/backend\n",
      "creating build/bdist.linux-x86_64/egg/keras_contrib/utils\n",
      "copying build/lib.linux-x86_64-2.7/keras_contrib/utils/__init__.py -> build/bdist.linux-x86_64/egg/keras_contrib/utils\n",
      "copying build/lib.linux-x86_64-2.7/keras_contrib/utils/test_utils.py -> build/bdist.linux-x86_64/egg/keras_contrib/utils\n",
      "copying build/lib.linux-x86_64-2.7/keras_contrib/utils/save_load_utils.py -> build/bdist.linux-x86_64/egg/keras_contrib/utils\n",
      "creating build/bdist.linux-x86_64/egg/keras_contrib/optimizers\n",
      "copying build/lib.linux-x86_64-2.7/keras_contrib/optimizers/__init__.py -> build/bdist.linux-x86_64/egg/keras_contrib/optimizers\n",
      "copying build/lib.linux-x86_64-2.7/keras_contrib/optimizers/ftml.py -> build/bdist.linux-x86_64/egg/keras_contrib/optimizers\n",
      "creating build/bdist.linux-x86_64/egg/keras_contrib/callbacks\n",
      "copying build/lib.linux-x86_64-2.7/keras_contrib/callbacks/__init__.py -> build/bdist.linux-x86_64/egg/keras_contrib/callbacks\n",
      "copying build/lib.linux-x86_64-2.7/keras_contrib/callbacks/dead_relu_detector.py -> build/bdist.linux-x86_64/egg/keras_contrib/callbacks\n",
      "copying build/lib.linux-x86_64-2.7/keras_contrib/callbacks/snapshot.py -> build/bdist.linux-x86_64/egg/keras_contrib/callbacks\n",
      "creating build/bdist.linux-x86_64/egg/keras_contrib/constraints\n",
      "copying build/lib.linux-x86_64-2.7/keras_contrib/constraints/__init__.py -> build/bdist.linux-x86_64/egg/keras_contrib/constraints\n",
      "copying build/lib.linux-x86_64-2.7/keras_contrib/constraints/clip.py -> build/bdist.linux-x86_64/egg/keras_contrib/constraints\n",
      "creating build/bdist.linux-x86_64/egg/keras_contrib/initializers\n",
      "copying build/lib.linux-x86_64-2.7/keras_contrib/initializers/__init__.py -> build/bdist.linux-x86_64/egg/keras_contrib/initializers\n",
      "copying build/lib.linux-x86_64-2.7/keras_contrib/initializers/convaware.py -> build/bdist.linux-x86_64/egg/keras_contrib/initializers\n",
      "creating build/bdist.linux-x86_64/egg/keras_contrib/regularizers\n",
      "copying build/lib.linux-x86_64-2.7/keras_contrib/regularizers/__init__.py -> build/bdist.linux-x86_64/egg/keras_contrib/regularizers\n",
      "creating build/bdist.linux-x86_64/egg/keras_contrib/activations\n",
      "copying build/lib.linux-x86_64-2.7/keras_contrib/activations/__init__.py -> build/bdist.linux-x86_64/egg/keras_contrib/activations\n",
      "byte-compiling build/bdist.linux-x86_64/egg/keras_contrib/wrappers/__init__.py to __init__.pyc\n",
      "byte-compiling build/bdist.linux-x86_64/egg/keras_contrib/__init__.py to __init__.pyc\n",
      "byte-compiling build/bdist.linux-x86_64/egg/keras_contrib/tests/__init__.py to __init__.pyc\n",
      "byte-compiling build/bdist.linux-x86_64/egg/keras_contrib/tests/optimizers.py to optimizers.pyc\n",
      "byte-compiling build/bdist.linux-x86_64/egg/keras_contrib/tests/regularizers.py to regularizers.pyc\n",
      "byte-compiling build/bdist.linux-x86_64/egg/keras_contrib/tests/metrics.py to metrics.pyc\n",
      "byte-compiling build/bdist.linux-x86_64/egg/keras_contrib/tests/activations.py to activations.pyc\n",
      "byte-compiling build/bdist.linux-x86_64/egg/keras_contrib/layers/convolutional_recurrent.py to convolutional_recurrent.pyc\n",
      "byte-compiling build/bdist.linux-x86_64/egg/keras_contrib/layers/normalization.py to normalization.pyc\n",
      "byte-compiling build/bdist.linux-x86_64/egg/keras_contrib/layers/__init__.py to __init__.pyc\n",
      "byte-compiling build/bdist.linux-x86_64/egg/keras_contrib/layers/local.py to local.pyc\n",
      "byte-compiling build/bdist.linux-x86_64/egg/keras_contrib/layers/pooling.py to pooling.pyc\n",
      "byte-compiling build/bdist.linux-x86_64/egg/keras_contrib/layers/wrappers.py to wrappers.pyc\n",
      "byte-compiling build/bdist.linux-x86_64/egg/keras_contrib/layers/noise.py to noise.pyc\n",
      "byte-compiling build/bdist.linux-x86_64/egg/keras_contrib/layers/core.py to core.pyc\n",
      "byte-compiling build/bdist.linux-x86_64/egg/keras_contrib/layers/embeddings.py to embeddings.pyc\n",
      "byte-compiling build/bdist.linux-x86_64/egg/keras_contrib/layers/convolutional.py to convolutional.pyc\n",
      "byte-compiling build/bdist.linux-x86_64/egg/keras_contrib/layers/crf.py to crf.pyc\n",
      "byte-compiling build/bdist.linux-x86_64/egg/keras_contrib/layers/recurrent.py to recurrent.pyc\n",
      "byte-compiling build/bdist.linux-x86_64/egg/keras_contrib/layers/advanced_activations.py to advanced_activations.pyc\n",
      "byte-compiling build/bdist.linux-x86_64/egg/keras_contrib/datasets/conll2000.py to conll2000.pyc\n",
      "byte-compiling build/bdist.linux-x86_64/egg/keras_contrib/datasets/__init__.py to __init__.pyc\n",
      "byte-compiling build/bdist.linux-x86_64/egg/keras_contrib/datasets/coco.py to coco.pyc\n",
      "byte-compiling build/bdist.linux-x86_64/egg/keras_contrib/datasets/pascal_voc.py to pascal_voc.pyc\n",
      "byte-compiling build/bdist.linux-x86_64/egg/keras_contrib/metrics/__init__.py to __init__.pyc\n",
      "byte-compiling build/bdist.linux-x86_64/egg/keras_contrib/preprocessing/__init__.py to __init__.pyc\n",
      "byte-compiling build/bdist.linux-x86_64/egg/keras_contrib/losses/dssim.py to dssim.pyc\n",
      "byte-compiling build/bdist.linux-x86_64/egg/keras_contrib/losses/__init__.py to __init__.pyc\n",
      "byte-compiling build/bdist.linux-x86_64/egg/keras_contrib/applications/__init__.py to __init__.pyc\n",
      "byte-compiling build/bdist.linux-x86_64/egg/keras_contrib/applications/ror.py to ror.pyc\n",
      "byte-compiling build/bdist.linux-x86_64/egg/keras_contrib/applications/wide_resnet.py to wide_resnet.pyc\n"
     ]
    },
    {
     "name": "stdout",
     "output_type": "stream",
     "text": [
      "byte-compiling build/bdist.linux-x86_64/egg/keras_contrib/applications/densenet.py to densenet.pyc\n",
      "byte-compiling build/bdist.linux-x86_64/egg/keras_contrib/backend/__init__.py to __init__.pyc\n",
      "byte-compiling build/bdist.linux-x86_64/egg/keras_contrib/backend/theano_backend.py to theano_backend.pyc\n",
      "byte-compiling build/bdist.linux-x86_64/egg/keras_contrib/backend/cntk_backend.py to cntk_backend.pyc\n",
      "byte-compiling build/bdist.linux-x86_64/egg/keras_contrib/backend/tensorflow_backend.py to tensorflow_backend.pyc\n",
      "byte-compiling build/bdist.linux-x86_64/egg/keras_contrib/utils/__init__.py to __init__.pyc\n",
      "byte-compiling build/bdist.linux-x86_64/egg/keras_contrib/utils/test_utils.py to test_utils.pyc\n",
      "byte-compiling build/bdist.linux-x86_64/egg/keras_contrib/utils/save_load_utils.py to save_load_utils.pyc\n",
      "byte-compiling build/bdist.linux-x86_64/egg/keras_contrib/optimizers/__init__.py to __init__.pyc\n",
      "byte-compiling build/bdist.linux-x86_64/egg/keras_contrib/optimizers/ftml.py to ftml.pyc\n",
      "byte-compiling build/bdist.linux-x86_64/egg/keras_contrib/callbacks/__init__.py to __init__.pyc\n",
      "byte-compiling build/bdist.linux-x86_64/egg/keras_contrib/callbacks/dead_relu_detector.py to dead_relu_detector.pyc\n",
      "byte-compiling build/bdist.linux-x86_64/egg/keras_contrib/callbacks/snapshot.py to snapshot.pyc\n",
      "byte-compiling build/bdist.linux-x86_64/egg/keras_contrib/constraints/__init__.py to __init__.pyc\n",
      "byte-compiling build/bdist.linux-x86_64/egg/keras_contrib/constraints/clip.py to clip.pyc\n",
      "byte-compiling build/bdist.linux-x86_64/egg/keras_contrib/initializers/__init__.py to __init__.pyc\n",
      "byte-compiling build/bdist.linux-x86_64/egg/keras_contrib/initializers/convaware.py to convaware.pyc\n",
      "byte-compiling build/bdist.linux-x86_64/egg/keras_contrib/regularizers/__init__.py to __init__.pyc\n",
      "byte-compiling build/bdist.linux-x86_64/egg/keras_contrib/activations/__init__.py to __init__.pyc\n",
      "creating build/bdist.linux-x86_64/egg/EGG-INFO\n",
      "copying keras_contrib.egg-info/PKG-INFO -> build/bdist.linux-x86_64/egg/EGG-INFO\n",
      "copying keras_contrib.egg-info/SOURCES.txt -> build/bdist.linux-x86_64/egg/EGG-INFO\n",
      "copying keras_contrib.egg-info/dependency_links.txt -> build/bdist.linux-x86_64/egg/EGG-INFO\n",
      "copying keras_contrib.egg-info/requires.txt -> build/bdist.linux-x86_64/egg/EGG-INFO\n",
      "copying keras_contrib.egg-info/top_level.txt -> build/bdist.linux-x86_64/egg/EGG-INFO\n",
      "zip_safe flag not set; analyzing archive contents...\n",
      "creating dist\n",
      "creating 'dist/keras_contrib-1.2.1-py2.7.egg' and adding 'build/bdist.linux-x86_64/egg' to it\n",
      "removing 'build/bdist.linux-x86_64/egg' (and everything under it)\n",
      "Processing keras_contrib-1.2.1-py2.7.egg\n",
      "Removing /usr/local/lib/python2.7/dist-packages/keras_contrib-1.2.1-py2.7.egg\n",
      "Copying keras_contrib-1.2.1-py2.7.egg to /usr/local/lib/python2.7/dist-packages\n",
      "keras-contrib 1.2.1 is already the active version in easy-install.pth\n",
      "\n",
      "Installed /usr/local/lib/python2.7/dist-packages/keras_contrib-1.2.1-py2.7.egg\n",
      "Processing dependencies for keras-contrib==1.2.1\n",
      "Searching for Keras==2.0.8\n",
      "Best match: Keras 2.0.8\n",
      "Adding Keras 2.0.8 to easy-install.pth file\n",
      "\n",
      "Using /usr/local/lib/python2.7/dist-packages\n",
      "Searching for numpy==1.13.3\n",
      "Best match: numpy 1.13.3\n",
      "Adding numpy 1.13.3 to easy-install.pth file\n",
      "\n",
      "Using /usr/local/lib/python2.7/dist-packages\n",
      "Searching for scipy==0.19.1\n",
      "Best match: scipy 0.19.1\n",
      "Adding scipy 0.19.1 to easy-install.pth file\n",
      "\n",
      "Using /usr/local/lib/python2.7/dist-packages\n",
      "Searching for six==1.11.0\n",
      "Best match: six 1.11.0\n",
      "Adding six 1.11.0 to easy-install.pth file\n",
      "\n",
      "Using /usr/local/lib/python2.7/dist-packages\n",
      "Searching for PyYAML==3.12\n",
      "Best match: PyYAML 3.12\n",
      "Adding PyYAML 3.12 to easy-install.pth file\n",
      "\n",
      "Using /usr/local/lib/python2.7/dist-packages\n",
      "Finished processing dependencies for keras-contrib==1.2.1\n"
     ]
    }
   ],
   "source": [
    "!cd ../../../ && git clone https://github.com/vfdev-5/keras-contrib.git -b densenet-naming && cd keras-contrib && python setup.py install"
   ]
  },
  {
   "cell_type": "code",
   "execution_count": null,
   "metadata": {},
   "outputs": [],
   "source": []
  },
  {
   "cell_type": "code",
   "execution_count": 1,
   "metadata": {},
   "outputs": [
    {
     "name": "stderr",
     "output_type": "stream",
     "text": [
      "Using TensorFlow backend.\n"
     ]
    }
   ],
   "source": [
    "from keras_contrib.applications import densenet\n",
    "densenet??"
   ]
  },
  {
   "cell_type": "code",
   "execution_count": null,
   "metadata": {},
   "outputs": [],
   "source": []
  },
  {
   "cell_type": "code",
   "execution_count": 2,
   "metadata": {},
   "outputs": [],
   "source": [
    "import os \n",
    "os.environ['CUDA_VISIBLE_DEVICES'] = ''"
   ]
  },
  {
   "cell_type": "code",
   "execution_count": 3,
   "metadata": {},
   "outputs": [],
   "source": [
    "from keras_contrib.applications.densenet import DenseNetImageNet121, DenseNetImageNet169\n",
    "\n",
    "from keras.models import Model\n",
    "from keras.layers import Input, Dense, GlobalAveragePooling2D"
   ]
  },
  {
   "cell_type": "code",
   "execution_count": 4,
   "metadata": {},
   "outputs": [
    {
     "name": "stdout",
     "output_type": "stream",
     "text": [
      "Weights for the model were loaded successfully\n"
     ]
    }
   ],
   "source": [
    "densenet = DenseNetImageNet121(include_top=False, weights='imagenet')"
   ]
  },
  {
   "cell_type": "code",
   "execution_count": null,
   "metadata": {},
   "outputs": [],
   "source": []
  },
  {
   "cell_type": "code",
   "execution_count": 5,
   "metadata": {},
   "outputs": [],
   "source": [
    "layers_to_train = [\n",
    "    'dense_3', \n",
    "]\n",
    "\n",
    "for l in densenet.layers:    \n",
    "    l.trainable = False\n",
    "    for ltt in layers_to_train:\n",
    "        if ltt in l.name:\n",
    "            l.trainable = True\n",
    "            break    "
   ]
  },
  {
   "cell_type": "code",
   "execution_count": 6,
   "metadata": {},
   "outputs": [
    {
     "name": "stdout",
     "output_type": "stream",
     "text": [
      "('input_1', False)\n",
      "('initial_conv2D', False)\n",
      "('initial_bn', False)\n",
      "('activation_1', False)\n",
      "('max_pooling2d_1', False)\n",
      "('dense_0_0_bn', False)\n",
      "('activation_2', False)\n",
      "('dense_0_0_bottleneck_conv2D', False)\n",
      "('dense_0_0_bottleneck_bn', False)\n",
      "('activation_3', False)\n",
      "('dense_0_0_conv2D', False)\n",
      "('concatenate_1', False)\n",
      "('dense_0_1_bn', False)\n",
      "('activation_4', False)\n",
      "('dense_0_1_bottleneck_conv2D', False)\n",
      "('dense_0_1_bottleneck_bn', False)\n",
      "('activation_5', False)\n",
      "('dense_0_1_conv2D', False)\n",
      "('concatenate_2', False)\n",
      "('dense_0_2_bn', False)\n",
      "('activation_6', False)\n",
      "('dense_0_2_bottleneck_conv2D', False)\n",
      "('dense_0_2_bottleneck_bn', False)\n",
      "('activation_7', False)\n",
      "('dense_0_2_conv2D', False)\n",
      "('concatenate_3', False)\n",
      "('dense_0_3_bn', False)\n",
      "('activation_8', False)\n",
      "('dense_0_3_bottleneck_conv2D', False)\n",
      "('dense_0_3_bottleneck_bn', False)\n",
      "('activation_9', False)\n",
      "('dense_0_3_conv2D', False)\n",
      "('concatenate_4', False)\n",
      "('dense_0_4_bn', False)\n",
      "('activation_10', False)\n",
      "('dense_0_4_bottleneck_conv2D', False)\n",
      "('dense_0_4_bottleneck_bn', False)\n",
      "('activation_11', False)\n",
      "('dense_0_4_conv2D', False)\n",
      "('concatenate_5', False)\n",
      "('dense_0_5_bn', False)\n",
      "('activation_12', False)\n",
      "('dense_0_5_bottleneck_conv2D', False)\n",
      "('dense_0_5_bottleneck_bn', False)\n",
      "('activation_13', False)\n",
      "('dense_0_5_conv2D', False)\n",
      "('concatenate_6', False)\n",
      "('tr_0_bn', False)\n",
      "('activation_14', False)\n",
      "('tr_0_conv2D', False)\n",
      "('average_pooling2d_1', False)\n",
      "('dense_1_0_bn', False)\n",
      "('activation_15', False)\n",
      "('dense_1_0_bottleneck_conv2D', False)\n",
      "('dense_1_0_bottleneck_bn', False)\n",
      "('activation_16', False)\n",
      "('dense_1_0_conv2D', False)\n",
      "('concatenate_7', False)\n",
      "('dense_1_1_bn', False)\n",
      "('activation_17', False)\n",
      "('dense_1_1_bottleneck_conv2D', False)\n",
      "('dense_1_1_bottleneck_bn', False)\n",
      "('activation_18', False)\n",
      "('dense_1_1_conv2D', False)\n",
      "('concatenate_8', False)\n",
      "('dense_1_2_bn', False)\n",
      "('activation_19', False)\n",
      "('dense_1_2_bottleneck_conv2D', False)\n",
      "('dense_1_2_bottleneck_bn', False)\n",
      "('activation_20', False)\n",
      "('dense_1_2_conv2D', False)\n",
      "('concatenate_9', False)\n",
      "('dense_1_3_bn', False)\n",
      "('activation_21', False)\n",
      "('dense_1_3_bottleneck_conv2D', False)\n",
      "('dense_1_3_bottleneck_bn', False)\n",
      "('activation_22', False)\n",
      "('dense_1_3_conv2D', False)\n",
      "('concatenate_10', False)\n",
      "('dense_1_4_bn', False)\n",
      "('activation_23', False)\n",
      "('dense_1_4_bottleneck_conv2D', False)\n",
      "('dense_1_4_bottleneck_bn', False)\n",
      "('activation_24', False)\n",
      "('dense_1_4_conv2D', False)\n",
      "('concatenate_11', False)\n",
      "('dense_1_5_bn', False)\n",
      "('activation_25', False)\n",
      "('dense_1_5_bottleneck_conv2D', False)\n",
      "('dense_1_5_bottleneck_bn', False)\n",
      "('activation_26', False)\n",
      "('dense_1_5_conv2D', False)\n",
      "('concatenate_12', False)\n",
      "('dense_1_6_bn', False)\n",
      "('activation_27', False)\n",
      "('dense_1_6_bottleneck_conv2D', False)\n",
      "('dense_1_6_bottleneck_bn', False)\n",
      "('activation_28', False)\n",
      "('dense_1_6_conv2D', False)\n",
      "('concatenate_13', False)\n",
      "('dense_1_7_bn', False)\n",
      "('activation_29', False)\n",
      "('dense_1_7_bottleneck_conv2D', False)\n",
      "('dense_1_7_bottleneck_bn', False)\n",
      "('activation_30', False)\n",
      "('dense_1_7_conv2D', False)\n",
      "('concatenate_14', False)\n",
      "('dense_1_8_bn', False)\n",
      "('activation_31', False)\n",
      "('dense_1_8_bottleneck_conv2D', False)\n",
      "('dense_1_8_bottleneck_bn', False)\n",
      "('activation_32', False)\n",
      "('dense_1_8_conv2D', False)\n",
      "('concatenate_15', False)\n",
      "('dense_1_9_bn', False)\n",
      "('activation_33', False)\n",
      "('dense_1_9_bottleneck_conv2D', False)\n",
      "('dense_1_9_bottleneck_bn', False)\n",
      "('activation_34', False)\n",
      "('dense_1_9_conv2D', False)\n",
      "('concatenate_16', False)\n",
      "('dense_1_10_bn', False)\n",
      "('activation_35', False)\n",
      "('dense_1_10_bottleneck_conv2D', False)\n",
      "('dense_1_10_bottleneck_bn', False)\n",
      "('activation_36', False)\n",
      "('dense_1_10_conv2D', False)\n",
      "('concatenate_17', False)\n",
      "('dense_1_11_bn', False)\n",
      "('activation_37', False)\n",
      "('dense_1_11_bottleneck_conv2D', False)\n",
      "('dense_1_11_bottleneck_bn', False)\n",
      "('activation_38', False)\n",
      "('dense_1_11_conv2D', False)\n",
      "('concatenate_18', False)\n",
      "('tr_1_bn', False)\n",
      "('activation_39', False)\n",
      "('tr_1_conv2D', False)\n",
      "('average_pooling2d_2', False)\n",
      "('dense_2_0_bn', False)\n",
      "('activation_40', False)\n",
      "('dense_2_0_bottleneck_conv2D', False)\n",
      "('dense_2_0_bottleneck_bn', False)\n",
      "('activation_41', False)\n",
      "('dense_2_0_conv2D', False)\n",
      "('concatenate_19', False)\n",
      "('dense_2_1_bn', False)\n",
      "('activation_42', False)\n",
      "('dense_2_1_bottleneck_conv2D', False)\n",
      "('dense_2_1_bottleneck_bn', False)\n",
      "('activation_43', False)\n",
      "('dense_2_1_conv2D', False)\n",
      "('concatenate_20', False)\n",
      "('dense_2_2_bn', False)\n",
      "('activation_44', False)\n",
      "('dense_2_2_bottleneck_conv2D', False)\n",
      "('dense_2_2_bottleneck_bn', False)\n",
      "('activation_45', False)\n",
      "('dense_2_2_conv2D', False)\n",
      "('concatenate_21', False)\n",
      "('dense_2_3_bn', False)\n",
      "('activation_46', False)\n",
      "('dense_2_3_bottleneck_conv2D', False)\n",
      "('dense_2_3_bottleneck_bn', False)\n",
      "('activation_47', False)\n",
      "('dense_2_3_conv2D', False)\n",
      "('concatenate_22', False)\n",
      "('dense_2_4_bn', False)\n",
      "('activation_48', False)\n",
      "('dense_2_4_bottleneck_conv2D', False)\n",
      "('dense_2_4_bottleneck_bn', False)\n",
      "('activation_49', False)\n",
      "('dense_2_4_conv2D', False)\n",
      "('concatenate_23', False)\n",
      "('dense_2_5_bn', False)\n",
      "('activation_50', False)\n",
      "('dense_2_5_bottleneck_conv2D', False)\n",
      "('dense_2_5_bottleneck_bn', False)\n",
      "('activation_51', False)\n",
      "('dense_2_5_conv2D', False)\n",
      "('concatenate_24', False)\n",
      "('dense_2_6_bn', False)\n",
      "('activation_52', False)\n",
      "('dense_2_6_bottleneck_conv2D', False)\n",
      "('dense_2_6_bottleneck_bn', False)\n",
      "('activation_53', False)\n",
      "('dense_2_6_conv2D', False)\n",
      "('concatenate_25', False)\n",
      "('dense_2_7_bn', False)\n",
      "('activation_54', False)\n",
      "('dense_2_7_bottleneck_conv2D', False)\n",
      "('dense_2_7_bottleneck_bn', False)\n",
      "('activation_55', False)\n",
      "('dense_2_7_conv2D', False)\n",
      "('concatenate_26', False)\n",
      "('dense_2_8_bn', False)\n",
      "('activation_56', False)\n",
      "('dense_2_8_bottleneck_conv2D', False)\n",
      "('dense_2_8_bottleneck_bn', False)\n",
      "('activation_57', False)\n",
      "('dense_2_8_conv2D', False)\n",
      "('concatenate_27', False)\n",
      "('dense_2_9_bn', False)\n",
      "('activation_58', False)\n",
      "('dense_2_9_bottleneck_conv2D', False)\n",
      "('dense_2_9_bottleneck_bn', False)\n",
      "('activation_59', False)\n",
      "('dense_2_9_conv2D', False)\n",
      "('concatenate_28', False)\n",
      "('dense_2_10_bn', False)\n",
      "('activation_60', False)\n",
      "('dense_2_10_bottleneck_conv2D', False)\n",
      "('dense_2_10_bottleneck_bn', False)\n",
      "('activation_61', False)\n",
      "('dense_2_10_conv2D', False)\n",
      "('concatenate_29', False)\n",
      "('dense_2_11_bn', False)\n",
      "('activation_62', False)\n",
      "('dense_2_11_bottleneck_conv2D', False)\n",
      "('dense_2_11_bottleneck_bn', False)\n",
      "('activation_63', False)\n",
      "('dense_2_11_conv2D', False)\n",
      "('concatenate_30', False)\n",
      "('dense_2_12_bn', False)\n",
      "('activation_64', False)\n",
      "('dense_2_12_bottleneck_conv2D', False)\n",
      "('dense_2_12_bottleneck_bn', False)\n",
      "('activation_65', False)\n",
      "('dense_2_12_conv2D', False)\n",
      "('concatenate_31', False)\n",
      "('dense_2_13_bn', False)\n",
      "('activation_66', False)\n",
      "('dense_2_13_bottleneck_conv2D', False)\n",
      "('dense_2_13_bottleneck_bn', False)\n",
      "('activation_67', False)\n",
      "('dense_2_13_conv2D', False)\n",
      "('concatenate_32', False)\n",
      "('dense_2_14_bn', False)\n",
      "('activation_68', False)\n",
      "('dense_2_14_bottleneck_conv2D', False)\n",
      "('dense_2_14_bottleneck_bn', False)\n",
      "('activation_69', False)\n",
      "('dense_2_14_conv2D', False)\n",
      "('concatenate_33', False)\n",
      "('dense_2_15_bn', False)\n",
      "('activation_70', False)\n",
      "('dense_2_15_bottleneck_conv2D', False)\n",
      "('dense_2_15_bottleneck_bn', False)\n",
      "('activation_71', False)\n",
      "('dense_2_15_conv2D', False)\n",
      "('concatenate_34', False)\n",
      "('dense_2_16_bn', False)\n",
      "('activation_72', False)\n",
      "('dense_2_16_bottleneck_conv2D', False)\n",
      "('dense_2_16_bottleneck_bn', False)\n",
      "('activation_73', False)\n",
      "('dense_2_16_conv2D', False)\n",
      "('concatenate_35', False)\n",
      "('dense_2_17_bn', False)\n",
      "('activation_74', False)\n",
      "('dense_2_17_bottleneck_conv2D', False)\n",
      "('dense_2_17_bottleneck_bn', False)\n",
      "('activation_75', False)\n",
      "('dense_2_17_conv2D', False)\n",
      "('concatenate_36', False)\n",
      "('dense_2_18_bn', False)\n",
      "('activation_76', False)\n",
      "('dense_2_18_bottleneck_conv2D', False)\n",
      "('dense_2_18_bottleneck_bn', False)\n",
      "('activation_77', False)\n",
      "('dense_2_18_conv2D', False)\n",
      "('concatenate_37', False)\n",
      "('dense_2_19_bn', False)\n",
      "('activation_78', False)\n",
      "('dense_2_19_bottleneck_conv2D', False)\n",
      "('dense_2_19_bottleneck_bn', False)\n",
      "('activation_79', False)\n",
      "('dense_2_19_conv2D', False)\n",
      "('concatenate_38', False)\n",
      "('dense_2_20_bn', False)\n",
      "('activation_80', False)\n",
      "('dense_2_20_bottleneck_conv2D', False)\n",
      "('dense_2_20_bottleneck_bn', False)\n",
      "('activation_81', False)\n",
      "('dense_2_20_conv2D', False)\n",
      "('concatenate_39', False)\n",
      "('dense_2_21_bn', False)\n",
      "('activation_82', False)\n",
      "('dense_2_21_bottleneck_conv2D', False)\n",
      "('dense_2_21_bottleneck_bn', False)\n",
      "('activation_83', False)\n",
      "('dense_2_21_conv2D', False)\n",
      "('concatenate_40', False)\n",
      "('dense_2_22_bn', False)\n",
      "('activation_84', False)\n",
      "('dense_2_22_bottleneck_conv2D', False)\n",
      "('dense_2_22_bottleneck_bn', False)\n",
      "('activation_85', False)\n",
      "('dense_2_22_conv2D', False)\n",
      "('concatenate_41', False)\n",
      "('dense_2_23_bn', False)\n",
      "('activation_86', False)\n",
      "('dense_2_23_bottleneck_conv2D', False)\n",
      "('dense_2_23_bottleneck_bn', False)\n",
      "('activation_87', False)\n",
      "('dense_2_23_conv2D', False)\n",
      "('concatenate_42', False)\n",
      "('tr_2_bn', False)\n",
      "('activation_88', False)\n",
      "('tr_2_conv2D', False)\n",
      "('average_pooling2d_3', False)\n",
      "('dense_3_0_bn', True)\n",
      "('activation_89', False)\n",
      "('dense_3_0_bottleneck_conv2D', True)\n",
      "('dense_3_0_bottleneck_bn', True)\n",
      "('activation_90', False)\n",
      "('dense_3_0_conv2D', True)\n",
      "('concatenate_43', False)\n",
      "('dense_3_1_bn', True)\n",
      "('activation_91', False)\n",
      "('dense_3_1_bottleneck_conv2D', True)\n",
      "('dense_3_1_bottleneck_bn', True)\n",
      "('activation_92', False)\n",
      "('dense_3_1_conv2D', True)\n",
      "('concatenate_44', False)\n",
      "('dense_3_2_bn', True)\n",
      "('activation_93', False)\n",
      "('dense_3_2_bottleneck_conv2D', True)\n",
      "('dense_3_2_bottleneck_bn', True)\n",
      "('activation_94', False)\n",
      "('dense_3_2_conv2D', True)\n",
      "('concatenate_45', False)\n",
      "('dense_3_3_bn', True)\n",
      "('activation_95', False)\n",
      "('dense_3_3_bottleneck_conv2D', True)\n",
      "('dense_3_3_bottleneck_bn', True)\n",
      "('activation_96', False)\n",
      "('dense_3_3_conv2D', True)\n",
      "('concatenate_46', False)\n",
      "('dense_3_4_bn', True)\n",
      "('activation_97', False)\n",
      "('dense_3_4_bottleneck_conv2D', True)\n",
      "('dense_3_4_bottleneck_bn', True)\n",
      "('activation_98', False)\n",
      "('dense_3_4_conv2D', True)\n",
      "('concatenate_47', False)\n",
      "('dense_3_5_bn', True)\n",
      "('activation_99', False)\n",
      "('dense_3_5_bottleneck_conv2D', True)\n",
      "('dense_3_5_bottleneck_bn', True)\n",
      "('activation_100', False)\n",
      "('dense_3_5_conv2D', True)\n",
      "('concatenate_48', False)\n",
      "('dense_3_6_bn', True)\n",
      "('activation_101', False)\n",
      "('dense_3_6_bottleneck_conv2D', True)\n",
      "('dense_3_6_bottleneck_bn', True)\n",
      "('activation_102', False)\n",
      "('dense_3_6_conv2D', True)\n",
      "('concatenate_49', False)\n",
      "('dense_3_7_bn', True)\n",
      "('activation_103', False)\n",
      "('dense_3_7_bottleneck_conv2D', True)\n",
      "('dense_3_7_bottleneck_bn', True)\n",
      "('activation_104', False)\n",
      "('dense_3_7_conv2D', True)\n",
      "('concatenate_50', False)\n",
      "('dense_3_8_bn', True)\n",
      "('activation_105', False)\n",
      "('dense_3_8_bottleneck_conv2D', True)\n",
      "('dense_3_8_bottleneck_bn', True)\n",
      "('activation_106', False)\n",
      "('dense_3_8_conv2D', True)\n",
      "('concatenate_51', False)\n",
      "('dense_3_9_bn', True)\n",
      "('activation_107', False)\n",
      "('dense_3_9_bottleneck_conv2D', True)\n",
      "('dense_3_9_bottleneck_bn', True)\n",
      "('activation_108', False)\n",
      "('dense_3_9_conv2D', True)\n",
      "('concatenate_52', False)\n",
      "('dense_3_10_bn', True)\n",
      "('activation_109', False)\n",
      "('dense_3_10_bottleneck_conv2D', True)\n",
      "('dense_3_10_bottleneck_bn', True)\n",
      "('activation_110', False)\n",
      "('dense_3_10_conv2D', True)\n",
      "('concatenate_53', False)\n",
      "('dense_3_11_bn', True)\n",
      "('activation_111', False)\n",
      "('dense_3_11_bottleneck_conv2D', True)\n",
      "('dense_3_11_bottleneck_bn', True)\n",
      "('activation_112', False)\n",
      "('dense_3_11_conv2D', True)\n",
      "('concatenate_54', False)\n",
      "('dense_3_12_bn', True)\n",
      "('activation_113', False)\n",
      "('dense_3_12_bottleneck_conv2D', True)\n",
      "('dense_3_12_bottleneck_bn', True)\n",
      "('activation_114', False)\n",
      "('dense_3_12_conv2D', True)\n",
      "('concatenate_55', False)\n",
      "('dense_3_13_bn', True)\n",
      "('activation_115', False)\n",
      "('dense_3_13_bottleneck_conv2D', True)\n",
      "('dense_3_13_bottleneck_bn', True)\n",
      "('activation_116', False)\n",
      "('dense_3_13_conv2D', True)\n",
      "('concatenate_56', False)\n",
      "('dense_3_14_bn', True)\n",
      "('activation_117', False)\n",
      "('dense_3_14_bottleneck_conv2D', True)\n",
      "('dense_3_14_bottleneck_bn', True)\n",
      "('activation_118', False)\n",
      "('dense_3_14_conv2D', True)\n",
      "('concatenate_57', False)\n",
      "('dense_3_15_bn', True)\n",
      "('activation_119', False)\n",
      "('dense_3_15_bottleneck_conv2D', True)\n",
      "('dense_3_15_bottleneck_bn', True)\n",
      "('activation_120', False)\n",
      "('dense_3_15_conv2D', True)\n",
      "('concatenate_58', False)\n",
      "('final_bn', False)\n",
      "('activation_121', False)\n"
     ]
    }
   ],
   "source": [
    "for l in densenet.layers:\n",
    "    print(l.name, l.trainable)"
   ]
  },
  {
   "cell_type": "code",
   "execution_count": 7,
   "metadata": {},
   "outputs": [],
   "source": [
    "inputs = Input((224, 224, 3))\n",
    "x = densenet(inputs)\n",
    "x = GlobalAveragePooling2D()(x)\n",
    "outputs = Dense(403, activation='softmax', name='predictions')(x)\n",
    "model = Model(inputs, outputs)"
   ]
  },
  {
   "cell_type": "code",
   "execution_count": 8,
   "metadata": {},
   "outputs": [
    {
     "name": "stdout",
     "output_type": "stream",
     "text": [
      "_________________________________________________________________\n",
      "Layer (type)                 Output Shape              Param #   \n",
      "=================================================================\n",
      "input_2 (InputLayer)         (None, 224, 224, 3)       0         \n",
      "_________________________________________________________________\n",
      "densenet (Model)             multiple                  7037504   \n",
      "_________________________________________________________________\n",
      "global_average_pooling2d_1 ( (None, 1024)              0         \n",
      "_________________________________________________________________\n",
      "predictions (Dense)          (None, 403)               413075    \n",
      "=================================================================\n",
      "Total params: 7,450,579\n",
      "Trainable params: 2,571,155\n",
      "Non-trainable params: 4,879,424\n",
      "_________________________________________________________________\n"
     ]
    }
   ],
   "source": [
    "model.summary()"
   ]
  },
  {
   "cell_type": "code",
   "execution_count": 9,
   "metadata": {},
   "outputs": [
    {
     "data": {
      "image/svg+xml": [
       "<svg height=\"304pt\" viewBox=\"0.00 0.00 627.00 304.00\" width=\"627pt\" xmlns=\"http://www.w3.org/2000/svg\" xmlns:xlink=\"http://www.w3.org/1999/xlink\">\n",
       "<g class=\"graph\" id=\"graph0\" transform=\"scale(1 1) rotate(0) translate(4 300)\">\n",
       "<title>G</title>\n",
       "<polygon fill=\"white\" points=\"-4,4 -4,-300 623,-300 623,4 -4,4\" stroke=\"none\"/>\n",
       "<!-- 139672701970576 -->\n",
       "<g class=\"node\" id=\"node1\"><title>139672701970576</title>\n",
       "<polygon fill=\"none\" points=\"118,-249.5 118,-295.5 501,-295.5 501,-249.5 118,-249.5\" stroke=\"black\"/>\n",
       "<text font-family=\"Times,serif\" font-size=\"14.00\" text-anchor=\"middle\" x=\"198\" y=\"-268.8\">input_2: InputLayer</text>\n",
       "<polyline fill=\"none\" points=\"278,-249.5 278,-295.5 \" stroke=\"black\"/>\n",
       "<text font-family=\"Times,serif\" font-size=\"14.00\" text-anchor=\"middle\" x=\"312\" y=\"-280.3\">input:</text>\n",
       "<polyline fill=\"none\" points=\"278,-272.5 346,-272.5 \" stroke=\"black\"/>\n",
       "<text font-family=\"Times,serif\" font-size=\"14.00\" text-anchor=\"middle\" x=\"312\" y=\"-257.3\">output:</text>\n",
       "<polyline fill=\"none\" points=\"346,-249.5 346,-295.5 \" stroke=\"black\"/>\n",
       "<text font-family=\"Times,serif\" font-size=\"14.00\" text-anchor=\"middle\" x=\"423.5\" y=\"-280.3\">(None, 224, 224, 3)</text>\n",
       "<polyline fill=\"none\" points=\"346,-272.5 501,-272.5 \" stroke=\"black\"/>\n",
       "<text font-family=\"Times,serif\" font-size=\"14.00\" text-anchor=\"middle\" x=\"423.5\" y=\"-257.3\">(None, 224, 224, 3)</text>\n",
       "</g>\n",
       "<!-- 139672702880912 -->\n",
       "<g class=\"node\" id=\"node2\"><title>139672702880912</title>\n",
       "<polygon fill=\"none\" points=\"169.5,-166.5 169.5,-212.5 449.5,-212.5 449.5,-166.5 169.5,-166.5\" stroke=\"black\"/>\n",
       "<text font-family=\"Times,serif\" font-size=\"14.00\" text-anchor=\"middle\" x=\"237.5\" y=\"-185.8\">densenet: Model</text>\n",
       "<polyline fill=\"none\" points=\"305.5,-166.5 305.5,-212.5 \" stroke=\"black\"/>\n",
       "<text font-family=\"Times,serif\" font-size=\"14.00\" text-anchor=\"middle\" x=\"339.5\" y=\"-197.3\">input:</text>\n",
       "<polyline fill=\"none\" points=\"305.5,-189.5 373.5,-189.5 \" stroke=\"black\"/>\n",
       "<text font-family=\"Times,serif\" font-size=\"14.00\" text-anchor=\"middle\" x=\"339.5\" y=\"-174.3\">output:</text>\n",
       "<polyline fill=\"none\" points=\"373.5,-166.5 373.5,-212.5 \" stroke=\"black\"/>\n",
       "<text font-family=\"Times,serif\" font-size=\"14.00\" text-anchor=\"middle\" x=\"411.5\" y=\"-197.3\">multiple</text>\n",
       "<polyline fill=\"none\" points=\"373.5,-189.5 449.5,-189.5 \" stroke=\"black\"/>\n",
       "<text font-family=\"Times,serif\" font-size=\"14.00\" text-anchor=\"middle\" x=\"411.5\" y=\"-174.3\">multiple</text>\n",
       "</g>\n",
       "<!-- 139672701970576&#45;&gt;139672702880912 -->\n",
       "<g class=\"edge\" id=\"edge1\"><title>139672701970576-&gt;139672702880912</title>\n",
       "<path d=\"M309.5,-249.366C309.5,-241.152 309.5,-231.658 309.5,-222.725\" fill=\"none\" stroke=\"black\"/>\n",
       "<polygon fill=\"black\" points=\"313,-222.607 309.5,-212.607 306,-222.607 313,-222.607\" stroke=\"black\"/>\n",
       "</g>\n",
       "<!-- 139672701937104 -->\n",
       "<g class=\"node\" id=\"node3\"><title>139672701937104</title>\n",
       "<polygon fill=\"none\" points=\"0,-83.5 0,-129.5 619,-129.5 619,-83.5 0,-83.5\" stroke=\"black\"/>\n",
       "<text font-family=\"Times,serif\" font-size=\"14.00\" text-anchor=\"middle\" x=\"202.5\" y=\"-102.8\">global_average_pooling2d_1: GlobalAveragePooling2D</text>\n",
       "<polyline fill=\"none\" points=\"405,-83.5 405,-129.5 \" stroke=\"black\"/>\n",
       "<text font-family=\"Times,serif\" font-size=\"14.00\" text-anchor=\"middle\" x=\"439\" y=\"-114.3\">input:</text>\n",
       "<polyline fill=\"none\" points=\"405,-106.5 473,-106.5 \" stroke=\"black\"/>\n",
       "<text font-family=\"Times,serif\" font-size=\"14.00\" text-anchor=\"middle\" x=\"439\" y=\"-91.3\">output:</text>\n",
       "<polyline fill=\"none\" points=\"473,-83.5 473,-129.5 \" stroke=\"black\"/>\n",
       "<text font-family=\"Times,serif\" font-size=\"14.00\" text-anchor=\"middle\" x=\"546\" y=\"-114.3\">(None, 7, 7, 1024)</text>\n",
       "<polyline fill=\"none\" points=\"473,-106.5 619,-106.5 \" stroke=\"black\"/>\n",
       "<text font-family=\"Times,serif\" font-size=\"14.00\" text-anchor=\"middle\" x=\"546\" y=\"-91.3\">(None, 1024)</text>\n",
       "</g>\n",
       "<!-- 139672702880912&#45;&gt;139672701937104 -->\n",
       "<g class=\"edge\" id=\"edge2\"><title>139672702880912-&gt;139672701937104</title>\n",
       "<path d=\"M309.5,-166.366C309.5,-158.152 309.5,-148.658 309.5,-139.725\" fill=\"none\" stroke=\"black\"/>\n",
       "<polygon fill=\"black\" points=\"313,-139.607 309.5,-129.607 306,-139.607 313,-139.607\" stroke=\"black\"/>\n",
       "</g>\n",
       "<!-- 139672702189328 -->\n",
       "<g class=\"node\" id=\"node4\"><title>139672702189328</title>\n",
       "<polygon fill=\"none\" points=\"145,-0.5 145,-46.5 474,-46.5 474,-0.5 145,-0.5\" stroke=\"black\"/>\n",
       "<text font-family=\"Times,serif\" font-size=\"14.00\" text-anchor=\"middle\" x=\"220.5\" y=\"-19.8\">predictions: Dense</text>\n",
       "<polyline fill=\"none\" points=\"296,-0.5 296,-46.5 \" stroke=\"black\"/>\n",
       "<text font-family=\"Times,serif\" font-size=\"14.00\" text-anchor=\"middle\" x=\"330\" y=\"-31.3\">input:</text>\n",
       "<polyline fill=\"none\" points=\"296,-23.5 364,-23.5 \" stroke=\"black\"/>\n",
       "<text font-family=\"Times,serif\" font-size=\"14.00\" text-anchor=\"middle\" x=\"330\" y=\"-8.3\">output:</text>\n",
       "<polyline fill=\"none\" points=\"364,-0.5 364,-46.5 \" stroke=\"black\"/>\n",
       "<text font-family=\"Times,serif\" font-size=\"14.00\" text-anchor=\"middle\" x=\"419\" y=\"-31.3\">(None, 1024)</text>\n",
       "<polyline fill=\"none\" points=\"364,-23.5 474,-23.5 \" stroke=\"black\"/>\n",
       "<text font-family=\"Times,serif\" font-size=\"14.00\" text-anchor=\"middle\" x=\"419\" y=\"-8.3\">(None, 403)</text>\n",
       "</g>\n",
       "<!-- 139672701937104&#45;&gt;139672702189328 -->\n",
       "<g class=\"edge\" id=\"edge3\"><title>139672701937104-&gt;139672702189328</title>\n",
       "<path d=\"M309.5,-83.3664C309.5,-75.1516 309.5,-65.6579 309.5,-56.7252\" fill=\"none\" stroke=\"black\"/>\n",
       "<polygon fill=\"black\" points=\"313,-56.6068 309.5,-46.6068 306,-56.6069 313,-56.6068\" stroke=\"black\"/>\n",
       "</g>\n",
       "</g>\n",
       "</svg>"
      ],
      "text/plain": [
       "<IPython.core.display.SVG object>"
      ]
     },
     "execution_count": 9,
     "metadata": {},
     "output_type": "execute_result"
    }
   ],
   "source": [
    "from keras.utils.vis_utils import model_to_dot\n",
    "from IPython.display import SVG\n",
    "\n",
    "SVG(model_to_dot(model, show_shapes=True).create(prog='dot', format='svg'))"
   ]
  },
  {
   "cell_type": "code",
   "execution_count": null,
   "metadata": {},
   "outputs": [],
   "source": []
  },
  {
   "cell_type": "code",
   "execution_count": null,
   "metadata": {},
   "outputs": [],
   "source": []
  },
  {
   "cell_type": "code",
   "execution_count": null,
   "metadata": {},
   "outputs": [],
   "source": []
  },
  {
   "cell_type": "code",
   "execution_count": null,
   "metadata": {},
   "outputs": [],
   "source": []
  },
  {
   "cell_type": "code",
   "execution_count": null,
   "metadata": {},
   "outputs": [],
   "source": []
  },
  {
   "cell_type": "code",
   "execution_count": null,
   "metadata": {},
   "outputs": [],
   "source": []
  },
  {
   "cell_type": "code",
   "execution_count": null,
   "metadata": {},
   "outputs": [],
   "source": []
  },
  {
   "cell_type": "code",
   "execution_count": null,
   "metadata": {},
   "outputs": [],
   "source": []
  },
  {
   "cell_type": "code",
   "execution_count": null,
   "metadata": {},
   "outputs": [],
   "source": []
  },
  {
   "cell_type": "code",
   "execution_count": null,
   "metadata": {},
   "outputs": [],
   "source": []
  },
  {
   "cell_type": "code",
   "execution_count": null,
   "metadata": {},
   "outputs": [],
   "source": []
  },
  {
   "cell_type": "markdown",
   "metadata": {},
   "source": [
    "## Check whether weights persists between two compiles"
   ]
  },
  {
   "cell_type": "code",
   "execution_count": 2,
   "metadata": {},
   "outputs": [],
   "source": [
    "from keras.layers import Dense, Input\n",
    "from keras.models import Model\n",
    "from keras import backend as K"
   ]
  },
  {
   "cell_type": "code",
   "execution_count": 3,
   "metadata": {},
   "outputs": [
    {
     "data": {
      "text/plain": [
       "u'tensorflow'"
      ]
     },
     "execution_count": 3,
     "metadata": {},
     "output_type": "execute_result"
    }
   ],
   "source": [
    "K.backend()"
   ]
  },
  {
   "cell_type": "code",
   "execution_count": 25,
   "metadata": {},
   "outputs": [],
   "source": [
    "inputs = Input((5,))\n",
    "x = Dense(5, activation='relu', name='h1')(inputs)\n",
    "outputs = Dense(3, name='outputs', activation='softmax')(x)\n",
    "model = Model(inputs=inputs, outputs=outputs)"
   ]
  },
  {
   "cell_type": "code",
   "execution_count": 26,
   "metadata": {},
   "outputs": [
    {
     "data": {
      "text/plain": [
       "[array([[-0.01780224, -0.74143088,  0.00864518,  0.61815393,  0.61407268],\n",
       "        [-0.55116743, -0.60940349,  0.44519019,  0.73013389, -0.08439738],\n",
       "        [ 0.06512403,  0.27303731,  0.43248463,  0.46034396,  0.38414681],\n",
       "        [-0.4533391 , -0.16825628, -0.46597958,  0.75280452, -0.70011079],\n",
       "        [ 0.25428903, -0.26853603, -0.42313313, -0.67908108,  0.12877578]], dtype=float32),\n",
       " array([ 0.,  0.,  0.,  0.,  0.], dtype=float32),\n",
       " array([[ 0.35312241, -0.56299877, -0.50557745],\n",
       "        [ 0.28781694,  0.42226642, -0.55769169],\n",
       "        [ 0.85733873, -0.48527521,  0.42665035],\n",
       "        [-0.27444965,  0.15524584,  0.82719976],\n",
       "        [ 0.09382564,  0.1313554 ,  0.46007532]], dtype=float32),\n",
       " array([ 0.,  0.,  0.], dtype=float32)]"
      ]
     },
     "execution_count": 26,
     "metadata": {},
     "output_type": "execute_result"
    }
   ],
   "source": [
    "model.get_weights()"
   ]
  },
  {
   "cell_type": "code",
   "execution_count": 27,
   "metadata": {},
   "outputs": [],
   "source": [
    "import numpy as np\n",
    "\n",
    "X_array = np.random.randn(100, 5)\n",
    "y_array = np.random.randint(3, size=100)"
   ]
  },
  {
   "cell_type": "code",
   "execution_count": 28,
   "metadata": {},
   "outputs": [],
   "source": [
    "from keras.utils import to_categorical\n",
    "\n",
    "y_array_encoded = to_categorical(y_array)"
   ]
  },
  {
   "cell_type": "code",
   "execution_count": 29,
   "metadata": {},
   "outputs": [],
   "source": [
    "model.compile('Adam', loss='categorical_crossentropy')"
   ]
  },
  {
   "cell_type": "code",
   "execution_count": 30,
   "metadata": {},
   "outputs": [
    {
     "data": {
      "text/plain": [
       "[array([[-0.01780224, -0.74143088,  0.00864518,  0.61815393,  0.61407268],\n",
       "        [-0.55116743, -0.60940349,  0.44519019,  0.73013389, -0.08439738],\n",
       "        [ 0.06512403,  0.27303731,  0.43248463,  0.46034396,  0.38414681],\n",
       "        [-0.4533391 , -0.16825628, -0.46597958,  0.75280452, -0.70011079],\n",
       "        [ 0.25428903, -0.26853603, -0.42313313, -0.67908108,  0.12877578]], dtype=float32),\n",
       " array([ 0.,  0.,  0.,  0.,  0.], dtype=float32),\n",
       " array([[ 0.35312241, -0.56299877, -0.50557745],\n",
       "        [ 0.28781694,  0.42226642, -0.55769169],\n",
       "        [ 0.85733873, -0.48527521,  0.42665035],\n",
       "        [-0.27444965,  0.15524584,  0.82719976],\n",
       "        [ 0.09382564,  0.1313554 ,  0.46007532]], dtype=float32),\n",
       " array([ 0.,  0.,  0.], dtype=float32)]"
      ]
     },
     "execution_count": 30,
     "metadata": {},
     "output_type": "execute_result"
    }
   ],
   "source": [
    "model.get_weights()"
   ]
  },
  {
   "cell_type": "code",
   "execution_count": 31,
   "metadata": {},
   "outputs": [
    {
     "name": "stdout",
     "output_type": "stream",
     "text": [
      "Epoch 1/1\n",
      "100/100 [==============================] - 0s - loss: 1.3781     \n"
     ]
    },
    {
     "data": {
      "text/plain": [
       "<keras.callbacks.History at 0x7fe7b019b650>"
      ]
     },
     "execution_count": 31,
     "metadata": {},
     "output_type": "execute_result"
    }
   ],
   "source": [
    "model.fit(x=X_array, y=y_array_encoded, batch_size=10, epochs=1)"
   ]
  },
  {
   "cell_type": "code",
   "execution_count": 32,
   "metadata": {},
   "outputs": [
    {
     "data": {
      "text/plain": [
       "[array([[-0.01494108, -0.74009442,  0.01175752,  0.6186437 ,  0.61449468],\n",
       "        [-0.54577154, -0.60359216,  0.43962598,  0.72248858, -0.09154109],\n",
       "        [ 0.06098223,  0.27567554,  0.42897192,  0.46147454,  0.38513163],\n",
       "        [-0.44542062, -0.17073084, -0.45913336,  0.75329721, -0.70088029],\n",
       "        [ 0.25859812, -0.27225414, -0.41770595, -0.67719072,  0.13531844]], dtype=float32),\n",
       " array([-0.00787145,  0.00181569, -0.00850289, -0.00721043,  0.00205511], dtype=float32),\n",
       " array([[ 0.3475104 , -0.5603236 , -0.49988821],\n",
       "        [ 0.28076199,  0.42587969, -0.55333209],\n",
       "        [ 0.84972471, -0.47715569,  0.41955096],\n",
       "        [-0.27331468,  0.16101466,  0.81992626],\n",
       "        [ 0.08792495,  0.13380359,  0.46264172]], dtype=float32),\n",
       " array([-0.00469583,  0.00482583, -0.00150233], dtype=float32)]"
      ]
     },
     "execution_count": 32,
     "metadata": {},
     "output_type": "execute_result"
    }
   ],
   "source": [
    "model.get_weights()"
   ]
  },
  {
   "cell_type": "code",
   "execution_count": 33,
   "metadata": {},
   "outputs": [],
   "source": [
    "model.compile('SGD', loss='categorical_crossentropy')"
   ]
  },
  {
   "cell_type": "code",
   "execution_count": 34,
   "metadata": {},
   "outputs": [
    {
     "data": {
      "text/plain": [
       "[array([[-0.01494108, -0.74009442,  0.01175752,  0.6186437 ,  0.61449468],\n",
       "        [-0.54577154, -0.60359216,  0.43962598,  0.72248858, -0.09154109],\n",
       "        [ 0.06098223,  0.27567554,  0.42897192,  0.46147454,  0.38513163],\n",
       "        [-0.44542062, -0.17073084, -0.45913336,  0.75329721, -0.70088029],\n",
       "        [ 0.25859812, -0.27225414, -0.41770595, -0.67719072,  0.13531844]], dtype=float32),\n",
       " array([-0.00787145,  0.00181569, -0.00850289, -0.00721043,  0.00205511], dtype=float32),\n",
       " array([[ 0.3475104 , -0.5603236 , -0.49988821],\n",
       "        [ 0.28076199,  0.42587969, -0.55333209],\n",
       "        [ 0.84972471, -0.47715569,  0.41955096],\n",
       "        [-0.27331468,  0.16101466,  0.81992626],\n",
       "        [ 0.08792495,  0.13380359,  0.46264172]], dtype=float32),\n",
       " array([-0.00469583,  0.00482583, -0.00150233], dtype=float32)]"
      ]
     },
     "execution_count": 34,
     "metadata": {},
     "output_type": "execute_result"
    }
   ],
   "source": [
    "model.get_weights()"
   ]
  },
  {
   "cell_type": "code",
   "execution_count": null,
   "metadata": {},
   "outputs": [],
   "source": []
  },
  {
   "cell_type": "code",
   "execution_count": null,
   "metadata": {},
   "outputs": [],
   "source": []
  },
  {
   "cell_type": "code",
   "execution_count": null,
   "metadata": {},
   "outputs": [],
   "source": []
  },
  {
   "cell_type": "code",
   "execution_count": null,
   "metadata": {},
   "outputs": [],
   "source": []
  },
  {
   "cell_type": "code",
   "execution_count": 16,
   "metadata": {},
   "outputs": [],
   "source": [
    "vgg16 = VGG16(include_top=False, weights='imagenet')\n",
    "inp = Input((224, 224, 3))\n",
    "x = vgg16(inp)\n",
    "x = Flatten(name='flatten')(x)\n",
    "x = Dense(1024, activation='relu', name='fc1')(x)\n",
    "x = Dropout(0.5)(x)\n",
    "out = Dense(403, activation='softmax', name='predictions')(x)\n",
    "model = Model(inp, out)\n",
    "model.name = \"VGG16\""
   ]
  },
  {
   "cell_type": "code",
   "execution_count": 17,
   "metadata": {},
   "outputs": [],
   "source": [
    "fc1_layer = model.get_layer(name='fc1')"
   ]
  },
  {
   "cell_type": "code",
   "execution_count": 28,
   "metadata": {},
   "outputs": [
    {
     "data": {
      "text/plain": [
       "array([-0.00678981,  0.00369239,  0.00950394, -0.01254347,  0.00979633,\n",
       "        0.00269991,  0.00692347, -0.01059241, -0.01055025, -0.01039144], dtype=float32)"
      ]
     },
     "execution_count": 28,
     "metadata": {},
     "output_type": "execute_result"
    }
   ],
   "source": [
    "from keras import backend as K\n",
    "\n",
    "sess = K.get_session()\n",
    "ret = sess.run(fc1_layer.kernel)\n",
    "ret[0,:10]"
   ]
  },
  {
   "cell_type": "code",
   "execution_count": 27,
   "metadata": {},
   "outputs": [],
   "source": [
    "from keras.optimizers import Adam\n",
    "\n",
    "model.compile(\n",
    "    loss='categorical_crossentropy', optimizer=Adam(lr=0.1),\n",
    "    metrics=['accuracy', ])\n"
   ]
  },
  {
   "cell_type": "code",
   "execution_count": 29,
   "metadata": {},
   "outputs": [
    {
     "data": {
      "text/plain": [
       "array([-0.00678981,  0.00369239,  0.00950394, -0.01254347,  0.00979633,\n",
       "        0.00269991,  0.00692347, -0.01059241, -0.01055025, -0.01039144], dtype=float32)"
      ]
     },
     "execution_count": 29,
     "metadata": {},
     "output_type": "execute_result"
    }
   ],
   "source": [
    "from keras import backend as K\n",
    "\n",
    "sess = K.get_session()\n",
    "ret = sess.run(fc1_layer.kernel)\n",
    "ret[0,:10]"
   ]
  },
  {
   "cell_type": "code",
   "execution_count": null,
   "metadata": {},
   "outputs": [],
   "source": []
  },
  {
   "cell_type": "code",
   "execution_count": null,
   "metadata": {},
   "outputs": [],
   "source": []
  },
  {
   "cell_type": "code",
   "execution_count": null,
   "metadata": {},
   "outputs": [],
   "source": []
  },
  {
   "cell_type": "code",
   "execution_count": null,
   "metadata": {},
   "outputs": [],
   "source": []
  },
  {
   "cell_type": "code",
   "execution_count": 53,
   "metadata": {},
   "outputs": [],
   "source": [
    "from keras import backend as K\n",
    "from keras.losses import categorical_crossentropy\n",
    "from keras.utils import to_categorical\n",
    "\n",
    "def cross_crossentropy_with_f1(y_true, y_pred, a=2.0):\n",
    "    return categorical_crossentropy(y_true, y_pred) + a * (1.0 - K.mean(f1(y_true, y_pred), axis=-1))\n",
    "\n",
    "\n",
    "def f1(y_true, y_pred):\n",
    "    # implicit thresholding at 0.5\n",
    "    y_pred = K.round(K.clip(y_pred, 0, 1))\n",
    "    true_positives = K.sum(K.round(K.clip(y_true * y_pred, 0, 1)), axis=0)\n",
    "    predicted_positives = K.sum(K.round(K.clip(y_pred, 0, 1)), axis=0)\n",
    "    possible_positives = K.sum(K.round(K.clip(y_true, 0, 1)), axis=0)\n",
    "\n",
    "    numer = 2.0 * true_positives\n",
    "    denom = predicted_positives + possible_positives + K.epsilon()\n",
    "    f1 = numer / denom\n",
    "    return f1\n",
    "\n"
   ]
  },
  {
   "cell_type": "code",
   "execution_count": 55,
   "metadata": {},
   "outputs": [],
   "source": [
    "import numpy as np\n",
    "\n",
    "n = 500\n",
    "loss1 = np.zeros((n, ))\n",
    "loss2 = np.zeros((n, ))\n",
    "loss3 = np.zeros((n, ))\n",
    "\n",
    "y_true = np.array([0, 1, 2, 3, 4]*4)\n",
    "n_samples = len(y_true)\n",
    "y_true_vec = to_categorical(y_true)\n",
    "n_classes = y_true_vec.shape[1]\n",
    "\n",
    "Y_true = K.placeholder(shape=(None, n_classes), dtype='float32')\n",
    "Y_pred = K.placeholder(shape=(None, n_classes), dtype='float32')\n",
    "Loss1 = K.mean(categorical_crossentropy(Y_true, Y_pred))\n",
    "Loss2 = K.mean(f1(Y_true, Y_pred))\n",
    "Loss3 = K.mean(cross_crossentropy_with_f1(Y_true, Y_pred))\n",
    "\n",
    "sess = K.get_session()\n",
    "\n",
    "for i in range(n):\n",
    "    y_pred_vec = np.random.rand(n_samples, n_classes)\n",
    "    res = sess.run([Loss1, Loss2, Loss3], feed_dict={Y_true: y_true_vec, Y_pred: y_pred_vec})\n",
    "#     res = sess.run([Loss1,], feed_dict={Y_true: y_true_vec, Y_pred: y_pred_vec})    \n",
    "    loss1[i] = res[0]\n",
    "    loss2[i] = res[1]    \n",
    "    loss3[i] = res[2]    "
   ]
  },
  {
   "cell_type": "code",
   "execution_count": 56,
   "metadata": {},
   "outputs": [],
   "source": [
    "import matplotlib.pylab as plt\n",
    "%matplotlib inline\n",
    "\n",
    "import seaborn as sns"
   ]
  },
  {
   "cell_type": "code",
   "execution_count": 57,
   "metadata": {},
   "outputs": [
    {
     "data": {
      "text/plain": [
       "<matplotlib.legend.Legend at 0x7f30a4c07c50>"
      ]
     },
     "execution_count": 57,
     "metadata": {},
     "output_type": "execute_result"
    },
    {
     "data": {
      "image/png": "[encoded data removed]",
      "text/plain": [
       "<matplotlib.figure.Figure at 0x7f30a4fa13d0>"
      ]
     },
     "metadata": {},
     "output_type": "display_data"
    }
   ],
   "source": [
    "plt.plot(sorted(loss1), '-b', label='loss1')\n",
    "plt.plot(sorted(loss2), '-g', label='loss2')\n",
    "plt.plot(sorted(loss3), '-r', label='loss3')\n",
    "plt.legend()"
   ]
  },
  {
   "cell_type": "code",
   "execution_count": null,
   "metadata": {},
   "outputs": [],
   "source": []
  },
  {
   "cell_type": "code",
   "execution_count": null,
   "metadata": {},
   "outputs": [],
   "source": []
  }
 ],
 "metadata": {
  "kernelspec": {
   "display_name": "Python 2",
   "language": "python",
   "name": "python2"
  },
  "language_info": {
   "codemirror_mode": {
    "name": "ipython",
    "version": 2
   },
   "file_extension": ".py",
   "mimetype": "text/x-python",
   "name": "python",
   "nbconvert_exporter": "python",
   "pygments_lexer": "ipython2",
   "version": "2.7.12"
  }
 },
 "nbformat": 4,
 "nbformat_minor": 2
}
