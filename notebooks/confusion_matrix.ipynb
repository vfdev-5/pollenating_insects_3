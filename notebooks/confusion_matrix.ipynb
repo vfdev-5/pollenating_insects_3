{
 "cells": [
  {
   "cell_type": "markdown",
   "metadata": {},
   "source": [
    "# Confusion matrix\n",
    "\n",
    "Compute confusion matrix on :\n",
    "- public test dataset \n",
    "- using finetunned models\n",
    "    - ~~VGG16 (224x224)~~\n",
    "        - ~~`test_acc=0.472 | test_f170=0.067`~~\n",
    "    - InceptionResNetV2 (299x299) + TTA \n",
    "        - `test_acc=0.714 | test_f170=0.33`\n",
    "    - InceptionResNetV2 (452x452) + TTA\n",
    "        - `test_acc= | test_f170=`"
   ]
  },
  {
   "cell_type": "code",
   "execution_count": 2,
   "metadata": {},
   "outputs": [],
   "source": [
    "import os \n",
    "import sys\n",
    "import numpy as np\n",
    "import cv2\n",
    "\n",
    "sys.path.append(\"../submissions/\")\n",
    "sys.path.append(\"../\")"
   ]
  },
  {
   "cell_type": "code",
   "execution_count": 3,
   "metadata": {},
   "outputs": [],
   "source": [
    "os.environ['CUDA_VISIBLE_DEVICES'] = ''"
   ]
  },
  {
   "cell_type": "code",
   "execution_count": 4,
   "metadata": {},
   "outputs": [],
   "source": [
    "from rampwf.workflows.image_classifier import _chunk_iterator\n",
    "n_classes = 403\n",
    "class_names = [str(i) for i in range(n_classes)]"
   ]
  },
  {
   "cell_type": "code",
   "execution_count": 5,
   "metadata": {},
   "outputs": [],
   "source": [
    "import matplotlib.pylab as plt\n",
    "%matplotlib inline\n",
    "\n",
    "import seaborn as sns"
   ]
  },
  {
   "cell_type": "code",
   "execution_count": 6,
   "metadata": {},
   "outputs": [],
   "source": [
    "from sklearn.metrics import confusion_matrix"
   ]
  },
  {
   "cell_type": "markdown",
   "metadata": {},
   "source": [
    "## InceptionResNetV2 model\n",
    "\n",
    "- Image size (299x299)\n",
    "- TTA"
   ]
  },
  {
   "cell_type": "code",
   "execution_count": 89,
   "metadata": {},
   "outputs": [],
   "source": [
    "from keras_inceptionResNetV2_finetunning_imbalanced2.image_preprocessor import transform, transform_test\n",
    "from keras_inceptionResNetV2_finetunning_imbalanced2.batch_classifier import BatchClassifier, load_pretrained_model\n",
    "from problem import get_cv, Predictions, score_types, get_test_data"
   ]
  },
  {
   "cell_type": "code",
   "execution_count": null,
   "metadata": {},
   "outputs": [],
   "source": [
    "builder = BatchClassifier()\n",
    "load_pretrained_model(builder.model, logs_path='/home/working_directory/ml/ramp-kits/pollenating_insects_3/logs_2017-10-05-00-27')"
   ]
  },
  {
   "cell_type": "code",
   "execution_count": null,
   "metadata": {},
   "outputs": [],
   "source": [
    "trained_model = transform, transform_test, builder\n",
    "folder_X_array, y_train = get_train_data(path=\"..\")"
   ]
  },
  {
   "cell_type": "code",
   "execution_count": null,
   "metadata": {},
   "outputs": [],
   "source": [
    "from problem import workflow\n",
    "workflow.n_jobs = 10\n",
    "workflow.chunk_size = 256\n",
    "workflow.test_batch_size = 128"
   ]
  },
  {
   "cell_type": "code",
   "execution_count": null,
   "metadata": {},
   "outputs": [],
   "source": [
    "y_proba = workflow.test_submission(trained_model, folder_X_array)"
   ]
  },
  {
   "cell_type": "code",
   "execution_count": null,
   "metadata": {},
   "outputs": [],
   "source": []
  },
  {
   "cell_type": "code",
   "execution_count": 19,
   "metadata": {},
   "outputs": [],
   "source": [
    "y_true_labels = y_train\n",
    "y_pred_labels = np.argmax(y_proba_batch, axis=1)"
   ]
  },
  {
   "cell_type": "code",
   "execution_count": 46,
   "metadata": {},
   "outputs": [],
   "source": [
    "res = np.zeros((n_classes, 2), dtype=np.int)"
   ]
  },
  {
   "cell_type": "code",
   "execution_count": 47,
   "metadata": {},
   "outputs": [],
   "source": [
    "for y_true, y_pred in zip(y_true_labels, y_pred_labels):\n",
    "    res[y_true, 1] += 1\n",
    "    if y_true == y_pred:\n",
    "        res[y_true, 0] += 1"
   ]
  },
  {
   "cell_type": "code",
   "execution_count": 75,
   "metadata": {},
   "outputs": [],
   "source": [
    "class_recalls = res[:, 0] / (res[:, 1] + 1e-7)"
   ]
  },
  {
   "cell_type": "code",
   "execution_count": 86,
   "metadata": {},
   "outputs": [],
   "source": [
    "classes_small_recall = np.where((class_recalls < 0.95) & (class_recalls > 0.01))\n",
    "class_small_recalls = class_recalls[classes_small_recall]"
   ]
  },
  {
   "cell_type": "code",
   "execution_count": 87,
   "metadata": {},
   "outputs": [
    {
     "data": {
      "text/plain": [
       "(array([ 57,  78,  94, 124, 131, 134, 159, 179, 202]),\n",
       " array([ 0.83,  0.67,  0.67,  0.5 ,  0.5 ,  0.33,  0.75,  0.67,  0.93]))"
      ]
     },
     "execution_count": 87,
     "metadata": {},
     "output_type": "execute_result"
    }
   ],
   "source": [
    "classes_small_recall[0], class_small_recalls"
   ]
  },
  {
   "cell_type": "code",
   "execution_count": 88,
   "metadata": {},
   "outputs": [
    {
     "data": {
      "text/plain": [
       "<matplotlib.axes._subplots.AxesSubplot at 0x7faddfe67cd0>"
      ]
     },
     "execution_count": 88,
     "metadata": {},
     "output_type": "execute_result"
    },
    {
     "data": {
      "image/png": "[encoded data removed]",
      "text/plain": [
       "<matplotlib.figure.Figure at 0x7faddfdd7350>"
      ]
     },
     "metadata": {},
     "output_type": "display_data"
    }
   ],
   "source": [
    "sns.barplot(y=class_small_recalls, x=classes_small_recall[0])"
   ]
  },
  {
   "cell_type": "code",
   "execution_count": null,
   "metadata": {},
   "outputs": [],
   "source": []
  },
  {
   "cell_type": "code",
   "execution_count": null,
   "metadata": {},
   "outputs": [],
   "source": [
    "confusion_matrix()"
   ]
  },
  {
   "cell_type": "code",
   "execution_count": null,
   "metadata": {},
   "outputs": [],
   "source": []
  },
  {
   "cell_type": "code",
   "execution_count": null,
   "metadata": {},
   "outputs": [],
   "source": []
  },
  {
   "cell_type": "code",
   "execution_count": null,
   "metadata": {},
   "outputs": [],
   "source": []
  }
 ],
 "metadata": {
  "kernelspec": {
   "display_name": "Python 2",
   "language": "python",
   "name": "python2"
  },
  "language_info": {
   "codemirror_mode": {
    "name": "ipython",
    "version": 2
   },
   "file_extension": ".py",
   "mimetype": "text/x-python",
   "name": "python",
   "nbconvert_exporter": "python",
   "pygments_lexer": "ipython2",
   "version": "2.7.12"
  }
 },
 "nbformat": 4,
 "nbformat_minor": 2
}
