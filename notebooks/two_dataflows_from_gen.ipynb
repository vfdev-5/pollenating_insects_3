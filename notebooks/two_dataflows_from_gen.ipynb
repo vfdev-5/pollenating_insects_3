{
 "cells": [
  {
   "cell_type": "markdown",
   "metadata": {},
   "source": [
    "Notebook to try to provide a data-augmented dataflow with balanced classes distribution\n",
    "\n",
    "Idea is to create generator with balanced classes between batches"
   ]
  },
  {
   "cell_type": "code",
   "execution_count": 1,
   "metadata": {},
   "outputs": [],
   "source": [
    "from __future__ import print_function\n",
    "import os \n",
    "import sys\n",
    "import numpy as np\n",
    "\n",
    "sys.path.append(\"..\")\n",
    "\n",
    "import imp\n",
    "image_preprocessor = imp.load_source('image_preprocessor', '../submissions/keras_cnns_pretrained/image_preprocessor.py')\n",
    "transform = image_preprocessor.transform\n",
    "transform_test = image_preprocessor.transform_test\n",
    "\n",
    "from rampwf.workflows.image_classifier import BatchGeneratorBuilder\n",
    "from rampwf.workflows.image_classifier import _chunk_iterator, _to_categorical, get_nb_minibatches\n",
    "from problem import get_cv, get_train_data"
   ]
  },
  {
   "cell_type": "markdown",
   "metadata": {},
   "source": [
    "### Check dataflow"
   ]
  },
  {
   "cell_type": "code",
   "execution_count": 2,
   "metadata": {},
   "outputs": [],
   "source": [
    "n_classes = 403\n",
    "batch_size = 8"
   ]
  },
  {
   "cell_type": "code",
   "execution_count": 3,
   "metadata": {},
   "outputs": [],
   "source": [
    "folder_X_train, y_train = get_train_data(path=\"..\")\n",
    "cv = list(get_cv(folder_X_train, y_train))\n",
    "\n",
    "for fold_i, (train_is, valid_is) in enumerate(cv):\n",
    "\n",
    "    folder, X_train = folder_X_train\n",
    "\n",
    "    gen_builder = BatchGeneratorBuilder(X_array=X_train[train_is], y_array=y_train[train_is], \n",
    "                                transform_img=transform, transform_test_img=transform_test, \n",
    "                                folder=folder, \n",
    "                                chunk_size=batch_size*5, \n",
    "                                n_classes=n_classes, n_jobs=1)\n",
    "    break"
   ]
  },
  {
   "cell_type": "code",
   "execution_count": null,
   "metadata": {},
   "outputs": [],
   "source": []
  },
  {
   "cell_type": "code",
   "execution_count": 8,
   "metadata": {},
   "outputs": [],
   "source": [
    "import matplotlib.pylab as plt\n",
    "%matplotlib inline\n",
    "\n",
    "import seaborn as sns\n",
    "from sklearn.model_selection import StratifiedShuffleSplit"
   ]
  },
  {
   "cell_type": "code",
   "execution_count": 26,
   "metadata": {},
   "outputs": [],
   "source": [
    "valid_ratio = 0.3\n",
    "ssplit = StratifiedShuffleSplit(n_splits=1, test_size=valid_ratio)\n",
    "\n",
    "train_indices, valid_indices = next(ssplit.split(gen_builder.X_array, gen_builder.y_array))\n",
    "nb_train = len(train_indices)\n",
    "nb_valid = len(valid_indices)"
   ]
  },
  {
   "cell_type": "code",
   "execution_count": null,
   "metadata": {},
   "outputs": [],
   "source": [
    "classes_freq = np.where(class_counts > 500)[0]"
   ]
  },
  {
   "cell_type": "code",
   "execution_count": null,
   "metadata": {},
   "outputs": [],
   "source": []
  },
  {
   "cell_type": "code",
   "execution_count": 22,
   "metadata": {},
   "outputs": [],
   "source": [
    "\n",
    "\n",
    "# Under+Oversample training data:\n",
    "# - undersample randomly images that count is larger a threshold\n",
    "# - oversample randomly all images\n",
    "\n",
    "undersampling_threshold = 500\n",
    "train_indices_to_undersample = []\n",
    "\n",
    "class_counts = np.zeros((403), dtype=np.int)\n",
    "for class_index in gen_builder.y_array[train_indices]:\n",
    "    class_counts[class_index] += 1\n",
    "\n",
    "classes_to_undersample = np.where(class_counts > undersampling_threshold)[0]"
   ]
  },
  {
   "cell_type": "code",
   "execution_count": 23,
   "metadata": {},
   "outputs": [
    {
     "data": {
      "text/plain": [
       "array([ 27,  57,  94,  97, 131, 134, 159, 202])"
      ]
     },
     "execution_count": 23,
     "metadata": {},
     "output_type": "execute_result"
    }
   ],
   "source": [
    "classes_to_undersample"
   ]
  },
  {
   "cell_type": "code",
   "execution_count": 24,
   "metadata": {},
   "outputs": [
    {
     "data": {
      "text/plain": [
       "<matplotlib.axes._subplots.AxesSubplot at 0x7fe94bec6290>"
      ]
     },
     "execution_count": 24,
     "metadata": {},
     "output_type": "execute_result"
    },
    {
     "data": {
      "image/png": "[encoded data removed]",
      "text/plain": [
       "<matplotlib.figure.Figure at 0x7fe94d1a4590>"
      ]
     },
     "metadata": {},
     "output_type": "display_data"
    }
   ],
   "source": [
    "train_indices_to_undersample = [index for index in train_indices if gen_builder.y_array[index] in classes_to_undersample]\n",
    "sns.countplot(gen_builder.y_array[train_indices_to_undersample])"
   ]
  },
  {
   "cell_type": "code",
   "execution_count": null,
   "metadata": {},
   "outputs": [],
   "source": []
  },
  {
   "cell_type": "code",
   "execution_count": null,
   "metadata": {},
   "outputs": [],
   "source": [
    "classes_to_undersample = np.where(class_counts > undersampling_threshold)[0]"
   ]
  },
  {
   "cell_type": "code",
   "execution_count": null,
   "metadata": {},
   "outputs": [],
   "source": []
  },
  {
   "cell_type": "code",
   "execution_count": null,
   "metadata": {},
   "outputs": [],
   "source": []
  },
  {
   "cell_type": "code",
   "execution_count": 25,
   "metadata": {},
   "outputs": [
    {
     "data": {
      "text/plain": [
       "<matplotlib.axes._subplots.AxesSubplot at 0x7fe94af6d410>"
      ]
     },
     "execution_count": 25,
     "metadata": {},
     "output_type": "execute_result"
    },
    {
     "data": {
      "image/png": "[encoded data removed]",
      "text/plain": [
       "<matplotlib.figure.Figure at 0x7fe94d1e0e90>"
      ]
     },
     "metadata": {},
     "output_type": "display_data"
    }
   ],
   "source": [
    "train_indices_to_oversample = [index for index in train_indices if gen_builder.y_array[index] not in classes_to_undersample]\n",
    "sns.countplot(gen_builder.y_array[train_indices_to_oversample])"
   ]
  },
  {
   "cell_type": "code",
   "execution_count": null,
   "metadata": {},
   "outputs": [],
   "source": []
  },
  {
   "cell_type": "code",
   "execution_count": null,
   "metadata": {},
   "outputs": [],
   "source": []
  },
  {
   "cell_type": "code",
   "execution_count": 77,
   "metadata": {},
   "outputs": [],
   "source": [
    "from imblearn.under_sampling import RandomUnderSampler\n",
    "\n",
    "rs = RandomUnderSampler()\n",
    "\n",
    "train_indices_undersampled, new_y_array = rs.fit_sample(np.array(train_indices_to_undersample)[:, None], gen_builder.y_array[train_indices_to_undersample])"
   ]
  },
  {
   "cell_type": "code",
   "execution_count": 78,
   "metadata": {},
   "outputs": [
    {
     "data": {
      "text/plain": [
       "<matplotlib.axes._subplots.AxesSubplot at 0x7f9eef217f50>"
      ]
     },
     "execution_count": 78,
     "metadata": {},
     "output_type": "execute_result"
    },
    {
     "data": {
      "image/png": "[encoded data removed]",
      "text/plain": [
       "<matplotlib.figure.Figure at 0x7f9ef1033c10>"
      ]
     },
     "metadata": {},
     "output_type": "display_data"
    }
   ],
   "source": [
    "sns.countplot(new_y_array)"
   ]
  },
  {
   "cell_type": "code",
   "execution_count": 84,
   "metadata": {},
   "outputs": [],
   "source": [
    "from imblearn.over_sampling import RandomOverSampler\n",
    "\n",
    "rs = RandomOverSampler()\n",
    "\n",
    "new_train_indices = np.concatenate((train_indices_undersampled, np.array(train_indices_to_oversample)[:, None]))\n",
    "new_y_array = np.concatenate((new_y_array, gen_builder.y_array[train_indices_to_oversample]))\n",
    "\n",
    "new_train_indices, new_y_array = rs.fit_sample(new_train_indices, new_y_array)"
   ]
  },
  {
   "cell_type": "code",
   "execution_count": 85,
   "metadata": {},
   "outputs": [
    {
     "data": {
      "text/plain": [
       "<matplotlib.axes._subplots.AxesSubplot at 0x7f9eedc78e90>"
      ]
     },
     "execution_count": 85,
     "metadata": {},
     "output_type": "execute_result"
    },
    {
     "data": {
      "image/png": "[encoded data removed]",
      "text/plain": [
       "<matplotlib.figure.Figure at 0x7f9ef0113510>"
      ]
     },
     "metadata": {},
     "output_type": "display_data"
    }
   ],
   "source": [
    "sns.countplot(new_y_array)"
   ]
  },
  {
   "cell_type": "code",
   "execution_count": 88,
   "metadata": {},
   "outputs": [
    {
     "data": {
      "text/plain": [
       "(123318, 123318)"
      ]
     },
     "execution_count": 88,
     "metadata": {},
     "output_type": "execute_result"
    }
   ],
   "source": [
    "len(new_train_indices), len(new_y_array)"
   ]
  },
  {
   "cell_type": "code",
   "execution_count": null,
   "metadata": {},
   "outputs": [],
   "source": []
  },
  {
   "cell_type": "code",
   "execution_count": null,
   "metadata": {},
   "outputs": [],
   "source": []
  },
  {
   "cell_type": "code",
   "execution_count": 106,
   "metadata": {},
   "outputs": [],
   "source": [
    "from collections import defaultdict\n",
    "\n",
    "from imblearn.over_sampling import RandomOverSampler\n",
    "from imblearn.under_sampling import RandomUnderSampler\n",
    "\n",
    "from joblib import delayed\n",
    "from joblib import Parallel\n",
    "\n",
    "\n",
    "def _chunk_iterator2(parallel, X_array, folder, y_array=None, chunk_size=1024):\n",
    "    from skimage.io import imread\n",
    "    for i in range(0, len(X_array), chunk_size):\n",
    "        X_chunk = X_array[i:i + chunk_size]\n",
    "        filenames = [os.path.join(folder, '{}'.format(x)) for x in X_chunk]\n",
    "        X = parallel(delayed(imread)(filename) for filename in filenames)\n",
    "        if y_array is not None:\n",
    "            y = y_array[i:i + chunk_size]\n",
    "            yield X, y\n",
    "        else:\n",
    "            yield X\n",
    "\n",
    "\n",
    "def local_get_generator2(self, indices=None, batch_size=256):\n",
    "    if indices is None:\n",
    "        indices = np.arange(self.nb_examples)\n",
    "    # Infinite loop, as required by keras `fit_generator`.\n",
    "    # However, as we provide the number of examples per epoch\n",
    "    # and the user specifies the total number of epochs, it will\n",
    "    # be able to end.\n",
    "\n",
    "    y_stats = defaultdict(int)\n",
    "    with Parallel(n_jobs=self.n_jobs, backend='threading') as parallel:\n",
    "        while True:\n",
    "\n",
    "            # Display feeded dataset stats\n",
    "            if len(y_stats) > 0:\n",
    "                print(\"\\n\\n------------------------------------\")\n",
    "                print(\"Dataflow classes distribution : \\n\")\n",
    "                for k in y_stats:\n",
    "                    print(\"'{}': {} |\".format(str(k), y_stats[k]), end=' \\t ')\n",
    "                print(\"\\n\\n------------------------------------\\n\\n\")\n",
    "\n",
    "            if self.shuffle:\n",
    "                np.random.shuffle(indices)\n",
    "            it = _chunk_iterator2(parallel,\n",
    "                                  X_array=self.X_array[indices], folder=self.folder,\n",
    "                                  y_array=self.y_array[indices], chunk_size=self.chunk_size)\n",
    "\n",
    "            for X, y in it:\n",
    "                # 1) Preprocessing of X and y\n",
    "                X = parallel(delayed(self.transform_img)(x) for x in X)\n",
    "                # X = np.array([self.transform_img(x) for x in X])\n",
    "                # X is a list of numpy arrrays at this point, convert it to a\n",
    "                # single numpy array.\n",
    "                try:\n",
    "                    X = [x[np.newaxis, :, :, :] for x in X]\n",
    "                except IndexError:\n",
    "                    # single channel\n",
    "                    X = [x[np.newaxis, np.newaxis, :, :] for x in X]\n",
    "                X = np.concatenate(X, axis=0)\n",
    "                X = np.array(X, dtype='float32')\n",
    "\n",
    "                for class_index in y:\n",
    "                    y_stats[class_index] += 1\n",
    "\n",
    "                # Convert y to onehot representation\n",
    "                y = _to_categorical(y, num_classes=self.n_classes)\n",
    "\n",
    "                # 2) Yielding mini-batches\n",
    "                for i in range(0, len(X), batch_size):\n",
    "                    yield X[i:i + batch_size], y[i:i + batch_size]\n",
    "                    \n",
    "                    \n",
    "def local_get_train_valid_generators(self, batch_size=256, valid_ratio=0.3):\n",
    "    \"\"\"Build train and valid generators for keras.\n",
    "\n",
    "    This method is used by the user defined `Classifier` to o build train\n",
    "    and valid generators that will be used in keras `fit_generator`.\n",
    "\n",
    "    Parameters\n",
    "    ==========\n",
    "\n",
    "    batch_size : int\n",
    "        size of mini-batches\n",
    "    valid_ratio : float between 0 and 1\n",
    "        ratio of validation data\n",
    "\n",
    "    Returns\n",
    "    =======\n",
    "\n",
    "    a 5-tuple (gen_train, gen_valid, nb_train, nb_valid, class_weights) where:\n",
    "        - gen_train is a generator function for training data\n",
    "        - gen_valid is a generator function for valid data\n",
    "        - nb_train is the number of training examples\n",
    "        - nb_valid is the number of validation examples\n",
    "        - class_weights\n",
    "    The number of training and validation data are necessary\n",
    "    so that we can use the keras method `fit_generator`.\n",
    "    \"\"\"\n",
    "    \n",
    "    if valid_ratio > 0.0:\n",
    "        ssplit = StratifiedShuffleSplit(n_splits=1, test_size=valid_ratio)\n",
    "\n",
    "        train_indices, valid_indices = next(ssplit.split(self.X_array, self.y_array))        \n",
    "        gen_valid = self._get_generator(indices=valid_indices, batch_size=batch_size)\n",
    "        nb_valid = len(valid_indices)\n",
    "\n",
    "    else:\n",
    "        train_indices = np.arange(self.nb_examples)        \n",
    "        gen_valid = None\n",
    "        nb_valid = None\n",
    "\n",
    "\n",
    "    # Under+Oversample training data:\n",
    "    # - undersample randomly images that count is larger a threshold\n",
    "    # - oversample randomly all images\n",
    "\n",
    "    undersampling_threshold = 300\n",
    "    train_indices_to_undersample = []\n",
    "\n",
    "    class_counts = np.zeros((403), dtype=np.int)\n",
    "    for class_index in self.y_array[train_indices]:\n",
    "        class_counts[class_index] += 1\n",
    "\n",
    "    classes_to_undersample = np.where(class_counts > undersampling_threshold)[0]\n",
    "\n",
    "    train_indices_to_undersample = [index for index in train_indices if self.y_array[index] in classes_to_undersample]\n",
    "    train_indices_to_oversample = [index for index in train_indices if self.y_array[index] not in classes_to_undersample]\n",
    "\n",
    "    rs = RandomUnderSampler()\n",
    "\n",
    "    train_indices_undersampled, new_y_array = rs.fit_sample(np.array(train_indices_to_undersample)[:, None], \n",
    "                                                            self.y_array[train_indices_to_undersample])                \n",
    "    rs = RandomOverSampler()\n",
    "    new_train_indices = np.concatenate((train_indices_undersampled, np.array(train_indices_to_oversample)[:, None]))\n",
    "    new_y_array = np.concatenate((new_y_array, self.y_array[train_indices_to_oversample]))\n",
    "\n",
    "    new_train_indices, _ = rs.fit_sample(new_train_indices, new_y_array)   \n",
    "    new_train_indices = new_train_indices.ravel()\n",
    "    gen_train = self._get_generator(indices=new_train_indices, batch_size=batch_size)\n",
    "    nb_train = len(new_train_indices)        \n",
    "            \n",
    "    self.nb_examples = nb_train + 0 if nb_valid is None else nb_valid\n",
    "\n",
    "    class_weights = defaultdict(int)\n",
    "    max_count = 0\n",
    "    \n",
    "    for class_index in self.y_array[new_train_indices]:\n",
    "        class_weights[class_index] += 1\n",
    "        if class_weights[class_index] > max_count:\n",
    "            max_count = class_weights[class_index]\n",
    "    for class_index in class_weights:\n",
    "        class_weights[class_index] = np.log(1.0 + (max_count / class_weights[class_index])**2)\n",
    "\n",
    "    return gen_train, gen_valid, nb_train, nb_valid, class_weights"
   ]
  },
  {
   "cell_type": "code",
   "execution_count": null,
   "metadata": {},
   "outputs": [],
   "source": []
  },
  {
   "cell_type": "code",
   "execution_count": 107,
   "metadata": {},
   "outputs": [],
   "source": [
    "import types \n",
    "\n",
    "gen_builder._get_generator = types.MethodType(local_get_generator2, gen_builder)\n",
    "gen_builder.get_train_valid_generators = types.MethodType(local_get_train_valid_generators, gen_builder)\n",
    "gen_builder.n_jobs = 8\n",
    "gen_builder.shuffle = True"
   ]
  },
  {
   "cell_type": "markdown",
   "metadata": {},
   "source": [
    "### Check batch data distrubution"
   ]
  },
  {
   "cell_type": "code",
   "execution_count": 108,
   "metadata": {},
   "outputs": [],
   "source": [
    "gen_train, gen_valid, nb_train, nb_valid, class_weights = gen_builder.get_train_valid_generators(batch_size=batch_size)"
   ]
  },
  {
   "cell_type": "code",
   "execution_count": 109,
   "metadata": {},
   "outputs": [
    {
     "data": {
      "text/plain": [
       "123318"
      ]
     },
     "execution_count": 109,
     "metadata": {},
     "output_type": "execute_result"
    }
   ],
   "source": [
    "nb_train"
   ]
  },
  {
   "cell_type": "code",
   "execution_count": 110,
   "metadata": {},
   "outputs": [],
   "source": [
    "import matplotlib.pylab as plt\n",
    "%matplotlib inline\n",
    "\n",
    "import seaborn as sns"
   ]
  },
  {
   "cell_type": "code",
   "execution_count": 116,
   "metadata": {},
   "outputs": [
    {
     "name": "stdout",
     "output_type": "stream",
     "text": [
      "-----------------\n",
      "100 | 247 59 19 81 248 173 135 156 \n",
      "\n",
      "100 | Labels counts: \n",
      "  current: | '135': 1 | '173': 1 | '81': 1 | '19': 1 | '247': 1 | '248': 1 | '59': 1 | '156': 1 | \n",
      "    total: | '135': 1 | '173': 1 | '81': 1 | '19': 1 | '247': 1 | '248': 1 | '59': 1 | '156': 1 | \n",
      "-----------------\n",
      "99 | 223 213 217 391 83 268 195 390 \n",
      "-----------------\n",
      "98 | 345 351 78 5 202 386 361 207 \n",
      "-----------------\n",
      "97 | 79 35 382 64 400 41 330 383 \n",
      "-----------------\n",
      "96 | 251 359 71 306 320 71 224 34 \n",
      "-----------------\n",
      "95 | 322 301 324 386 385 381 171 369 \n",
      "-----------------\n",
      "94 | 398 85 259 162 110 349 353 84 \n",
      "-----------------\n",
      "93 | 310 247 66 154 306 73 296 174 \n",
      "-----------------\n",
      "92 | 5 140 318 305 218 258 192 109 \n",
      "-----------------\n",
      "91 | 365 302 181 254 94 103 342 27 \n",
      "-----------------\n",
      "90 | 303 49 120 274 25 4 51 189 \n",
      "\n",
      "90 | Labels counts: \n",
      "  current: | '4': 1 | '303': 1 | '49': 1 | '274': 1 | '51': 1 | '120': 1 | '25': 1 | '189': 1 | \n",
      "    total: | '320': 1 | '386': 2 | '171': 1 | '4': 1 | '5': 2 | '390': 1 | '135': 1 | '192': 1 | '268': 1 | '66': 1 | '398': 1 | '301': 1 | '400': 1 | '274': 1 | '19': 1 | '174': 1 | '345': 1 | '120': 1 | '154': 1 | '27': 1 | '156': 1 | '34': 1 | '35': 1 | '49': 1 | '296': 1 | '41': 1 | '391': 1 | '173': 1 | '223': 1 | '303': 1 | '385': 1 | '305': 1 | '306': 2 | '51': 1 | '181': 1 | '310': 1 | '59': 1 | '330': 1 | '318': 1 | '64': 1 | '302': 1 | '322': 1 | '195': 1 | '324': 1 | '71': 2 | '73': 1 | '202': 1 | '162': 1 | '78': 1 | '207': 1 | '81': 1 | '83': 1 | '85': 1 | '213': 1 | '342': 1 | '365': 1 | '217': 1 | '218': 1 | '79': 1 | '349': 1 | '94': 1 | '351': 1 | '224': 1 | '353': 1 | '359': 1 | '259': 1 | '361': 1 | '103': 1 | '109': 1 | '110': 1 | '189': 1 | '369': 1 | '140': 1 | '258': 1 | '25': 1 | '254': 1 | '247': 2 | '248': 1 | '84': 1 | '251': 1 | '381': 1 | '382': 1 | '383': 1 | \n",
      "-----------------\n",
      "89 | 211 14 62 367 368 46 295 240 \n",
      "-----------------\n",
      "88 | 223 77 91 20 400 387 50 118 \n",
      "-----------------\n",
      "87 | 126 41 354 371 72 250 20 234 \n",
      "-----------------\n",
      "86 | 267 390 394 276 15 103 25 182 \n",
      "-----------------\n",
      "85 | 117 60 274 197 367 182 295 291 \n",
      "-----------------\n",
      "84 | 181 398 258 289 325 372 243 234 \n",
      "-----------------\n",
      "83 | 64 112 17 12 90 25 157 396 \n",
      "-----------------\n",
      "82 | 177 51 96 398 215 323 77 90 \n",
      "-----------------\n",
      "81 | 338 165 48 278 162 119 350 365 \n",
      "-----------------\n",
      "80 | 90 235 211 168 232 106 372 10 \n",
      "\n",
      "80 | Labels counts: \n",
      "  current: | '168': 1 | '106': 1 | '235': 1 | '232': 1 | '211': 1 | '372': 1 | '90': 1 | '10': 1 | \n",
      "    total: | '4': 1 | '5': 2 | '10': 1 | '12': 1 | '14': 1 | '15': 1 | '17': 1 | '19': 1 | '20': 2 | '25': 3 | '27': 1 | '34': 1 | '35': 1 | '41': 2 | '46': 1 | '48': 1 | '49': 1 | '50': 1 | '51': 2 | '59': 1 | '60': 1 | '62': 1 | '64': 2 | '66': 1 | '71': 2 | '72': 1 | '73': 1 | '77': 2 | '78': 1 | '79': 1 | '81': 1 | '83': 1 | '84': 1 | '85': 1 | '90': 3 | '91': 1 | '94': 1 | '96': 1 | '103': 2 | '106': 1 | '109': 1 | '110': 1 | '112': 1 | '117': 1 | '118': 1 | '119': 1 | '120': 1 | '126': 1 | '135': 1 | '140': 1 | '154': 1 | '156': 1 | '157': 1 | '162': 2 | '165': 1 | '168': 1 | '171': 1 | '173': 1 | '174': 1 | '177': 1 | '181': 2 | '182': 2 | '189': 1 | '192': 1 | '195': 1 | '197': 1 | '202': 1 | '207': 1 | '211': 2 | '213': 1 | '215': 1 | '217': 1 | '218': 1 | '223': 2 | '224': 1 | '232': 1 | '234': 2 | '235': 1 | '240': 1 | '243': 1 | '247': 2 | '248': 1 | '250': 1 | '251': 1 | '254': 1 | '258': 2 | '259': 1 | '267': 1 | '268': 1 | '274': 2 | '276': 1 | '278': 1 | '289': 1 | '291': 1 | '295': 2 | '296': 1 | '301': 1 | '302': 1 | '303': 1 | '305': 1 | '306': 2 | '310': 1 | '318': 1 | '320': 1 | '322': 1 | '323': 1 | '324': 1 | '325': 1 | '330': 1 | '338': 1 | '342': 1 | '345': 1 | '349': 1 | '350': 1 | '351': 1 | '353': 1 | '354': 1 | '359': 1 | '361': 1 | '365': 2 | '367': 2 | '368': 1 | '369': 1 | '371': 1 | '372': 2 | '381': 1 | '382': 1 | '383': 1 | '385': 1 | '386': 2 | '387': 1 | '390': 2 | '391': 1 | '394': 1 | '396': 1 | '398': 3 | '400': 2 | \n",
      "-----------------\n",
      "79 | 139 267 17 62 50 168 393 113 \n",
      "-----------------\n",
      "78 | 47 182 163 37 199 198 198 59 \n",
      "-----------------\n",
      "77 | 77 200 187 65 375 174 36 241 \n",
      "-----------------\n",
      "76 | 211 363 242 287 371 371 246 246 \n",
      "-----------------\n",
      "75 | 76 72 171 196 369 32 15 12 \n",
      "-----------------\n",
      "74 | 195 132 305 239 387 389 97 269 \n",
      "-----------------\n",
      "73 | 251 74 48 126 57 222 402 287 \n",
      "-----------------\n",
      "72 | 204 128 147 224 251 340 37 183 \n",
      "-----------------\n",
      "71 | 248 381 221 399 367 65 306 241 \n",
      "-----------------\n",
      "70 | 95 77 384 17 193 311 382 58 \n",
      "\n",
      "70 | Labels counts: \n",
      "  current: | '384': 1 | '193': 1 | '77': 1 | '17': 1 | '311': 1 | '58': 1 | '382': 1 | '95': 1 | \n",
      "    total: | '4': 1 | '5': 2 | '10': 1 | '12': 2 | '14': 1 | '15': 2 | '17': 3 | '19': 1 | '20': 2 | '25': 3 | '27': 1 | '32': 1 | '34': 1 | '35': 1 | '36': 1 | '37': 2 | '41': 2 | '46': 1 | '47': 1 | '48': 2 | '49': 1 | '50': 2 | '51': 2 | '57': 1 | '58': 1 | '59': 2 | '60': 1 | '62': 2 | '64': 2 | '65': 2 | '66': 1 | '71': 2 | '72': 2 | '73': 1 | '74': 1 | '76': 1 | '77': 4 | '78': 1 | '79': 1 | '81': 1 | '83': 1 | '84': 1 | '85': 1 | '90': 3 | '91': 1 | '94': 1 | '95': 1 | '96': 1 | '97': 1 | '103': 2 | '106': 1 | '109': 1 | '110': 1 | '112': 1 | '113': 1 | '117': 1 | '118': 1 | '119': 1 | '120': 1 | '126': 2 | '128': 1 | '132': 1 | '135': 1 | '139': 1 | '140': 1 | '147': 1 | '154': 1 | '156': 1 | '157': 1 | '162': 2 | '163': 1 | '165': 1 | '168': 2 | '171': 2 | '173': 1 | '174': 2 | '177': 1 | '181': 2 | '182': 3 | '183': 1 | '187': 1 | '189': 1 | '192': 1 | '193': 1 | '195': 2 | '196': 1 | '197': 1 | '198': 2 | '199': 1 | '200': 1 | '202': 1 | '204': 1 | '207': 1 | '211': 3 | '213': 1 | '215': 1 | '217': 1 | '218': 1 | '221': 1 | '222': 1 | '223': 2 | '224': 2 | '232': 1 | '234': 2 | '235': 1 | '239': 1 | '240': 1 | '241': 2 | '242': 1 | '243': 1 | '246': 2 | '247': 2 | '248': 2 | '250': 1 | '251': 3 | '254': 1 | '258': 2 | '259': 1 | '267': 2 | '268': 1 | '269': 1 | '274': 2 | '276': 1 | '278': 1 | '287': 2 | '289': 1 | '291': 1 | '295': 2 | '296': 1 | '301': 1 | '302': 1 | '303': 1 | '305': 2 | '306': 3 | '310': 1 | '311': 1 | '318': 1 | '320': 1 | '322': 1 | '323': 1 | '324': 1 | '325': 1 | '330': 1 | '338': 1 | '340': 1 | '342': 1 | '345': 1 | '349': 1 | '350': 1 | '351': 1 | '353': 1 | '354': 1 | '359': 1 | '361': 1 | '363': 1 | '365': 2 | '367': 3 | '368': 1 | '369': 2 | '371': 3 | '372': 2 | '375': 1 | '381': 2 | '382': 2 | '383': 1 | '384': 1 | '385': 1 | '386': 2 | '387': 2 | '389': 1 | '390': 2 | '391': 1 | '393': 1 | '394': 1 | '396': 1 | '398': 3 | '399': 1 | '400': 2 | '402': 1 | \n",
      "-----------------\n",
      "69 | 60 382 301 316 327 147 128 402 \n",
      "-----------------\n",
      "68 | 288 303 301 170 239 68 350 365 \n",
      "-----------------\n",
      "67 | 259 196 253 341 59 187 152 311 \n",
      "-----------------\n",
      "66 | 357 347 287 217 256 129 245 65 \n",
      "-----------------\n",
      "65 | 323 310 140 234 369 183 20 218 \n",
      "-----------------\n",
      "64 | 59 394 223 46 262 27 362 257 \n",
      "-----------------\n",
      "63 | 373 139 139 119 347 367 53 139 \n",
      "-----------------\n",
      "62 | 49 46 97 309 384 358 23 173 \n",
      "-----------------\n",
      "61 | 211 209 120 26 66 238 312 389 \n",
      "-----------------\n",
      "60 | 374 348 95 307 149 19 325 111 \n",
      "\n",
      "60 | Labels counts: \n",
      "  current: | '325': 1 | '307': 1 | '111': 1 | '19': 1 | '149': 1 | '374': 1 | '348': 1 | '95': 1 | \n",
      "    total: | '4': 1 | '5': 2 | '10': 1 | '12': 2 | '14': 1 | '15': 2 | '17': 3 | '19': 2 | '20': 3 | '23': 1 | '25': 3 | '26': 1 | '27': 2 | '32': 1 | '34': 1 | '35': 1 | '36': 1 | '37': 2 | '41': 2 | '46': 3 | '47': 1 | '48': 2 | '49': 2 | '50': 2 | '51': 2 | '53': 1 | '57': 1 | '58': 1 | '59': 4 | '60': 2 | '62': 2 | '64': 2 | '65': 3 | '66': 2 | '68': 1 | '71': 2 | '72': 2 | '73': 1 | '74': 1 | '76': 1 | '77': 4 | '78': 1 | '79': 1 | '81': 1 | '83': 1 | '84': 1 | '85': 1 | '90': 3 | '91': 1 | '94': 1 | '95': 2 | '96': 1 | '97': 2 | '103': 2 | '106': 1 | '109': 1 | '110': 1 | '111': 1 | '112': 1 | '113': 1 | '117': 1 | '118': 1 | '119': 2 | '120': 2 | '126': 2 | '128': 2 | '129': 1 | '132': 1 | '135': 1 | '139': 4 | '140': 2 | '147': 2 | '149': 1 | '152': 1 | '154': 1 | '156': 1 | '157': 1 | '162': 2 | '163': 1 | '165': 1 | '168': 2 | '170': 1 | '171': 2 | '173': 2 | '174': 2 | '177': 1 | '181': 2 | '182': 3 | '183': 2 | '187': 2 | '189': 1 | '192': 1 | '193': 1 | '195': 2 | '196': 2 | '197': 1 | '198': 2 | '199': 1 | '200': 1 | '202': 1 | '204': 1 | '207': 1 | '209': 1 | '211': 4 | '213': 1 | '215': 1 | '217': 2 | '218': 2 | '221': 1 | '222': 1 | '223': 3 | '224': 2 | '232': 1 | '234': 3 | '235': 1 | '238': 1 | '239': 2 | '240': 1 | '241': 2 | '242': 1 | '243': 1 | '245': 1 | '246': 2 | '247': 2 | '248': 2 | '250': 1 | '251': 3 | '253': 1 | '254': 1 | '256': 1 | '257': 1 | '258': 2 | '259': 2 | '262': 1 | '267': 2 | '268': 1 | '269': 1 | '274': 2 | '276': 1 | '278': 1 | '287': 3 | '288': 1 | '289': 1 | '291': 1 | '295': 2 | '296': 1 | '301': 3 | '302': 1 | '303': 2 | '305': 2 | '306': 3 | '307': 1 | '309': 1 | '310': 2 | '311': 2 | '312': 1 | '316': 1 | '318': 1 | '320': 1 | '322': 1 | '323': 2 | '324': 1 | '325': 2 | '327': 1 | '330': 1 | '338': 1 | '340': 1 | '341': 1 | '342': 1 | '345': 1 | '347': 2 | '348': 1 | '349': 1 | '350': 2 | '351': 1 | '353': 1 | '354': 1 | '357': 1 | '358': 1 | '359': 1 | '361': 1 | '362': 1 | '363': 1 | '365': 3 | '367': 4 | '368': 1 | '369': 3 | '371': 3 | '372': 2 | '373': 1 | '374': 1 | '375': 1 | '381': 2 | '382': 3 | '383': 1 | '384': 2 | '385': 1 | '386': 2 | '387': 2 | '389': 2 | '390': 2 | '391': 1 | '393': 1 | '394': 2 | '396': 1 | '398': 3 | '399': 1 | '400': 2 | '402': 2 | \n",
      "-----------------\n",
      "59 | 226 128 400 35 355 225 238 122 \n",
      "-----------------\n",
      "58 | 93 17 345 144 128 331 199 291 \n",
      "-----------------\n",
      "57 | 353 299 392 176 300 32 49 9 \n",
      "-----------------\n",
      "56 | 369 158 30 332 225 236 272 104 \n"
     ]
    },
    {
     "name": "stdout",
     "output_type": "stream",
     "text": [
      "-----------------\n",
      "55 | 347 360 39 283 393 172 17 142 \n",
      "-----------------\n",
      "54 | 397 327 243 35 156 107 15 136 \n",
      "-----------------\n",
      "53 | 332 321 53 82 128 32 335 235 \n",
      "-----------------\n",
      "52 | 118 59 334 77 8 192 285 104 \n",
      "-----------------\n",
      "51 | 24 151 230 345 102 183 380 319 \n",
      "-----------------\n",
      "50 | 353 52 3 345 29 348 183 44 \n",
      "\n",
      "50 | Labels counts: \n",
      "  current: | '353': 1 | '3': 1 | '44': 1 | '52': 1 | '183': 1 | '345': 1 | '348': 1 | '29': 1 | \n",
      "    total: | '3': 1 | '4': 1 | '5': 2 | '8': 1 | '9': 1 | '10': 1 | '12': 2 | '14': 1 | '15': 3 | '17': 5 | '19': 2 | '20': 3 | '23': 1 | '24': 1 | '25': 3 | '26': 1 | '27': 2 | '29': 1 | '30': 1 | '32': 3 | '34': 1 | '35': 3 | '36': 1 | '37': 2 | '39': 1 | '41': 2 | '44': 1 | '46': 3 | '47': 1 | '48': 2 | '49': 3 | '50': 2 | '51': 2 | '52': 1 | '53': 2 | '57': 1 | '58': 1 | '59': 5 | '60': 2 | '62': 2 | '64': 2 | '65': 3 | '66': 2 | '68': 1 | '71': 2 | '72': 2 | '73': 1 | '74': 1 | '76': 1 | '77': 5 | '78': 1 | '79': 1 | '81': 1 | '82': 1 | '83': 1 | '84': 1 | '85': 1 | '90': 3 | '91': 1 | '93': 1 | '94': 1 | '95': 2 | '96': 1 | '97': 2 | '102': 1 | '103': 2 | '104': 2 | '106': 1 | '107': 1 | '109': 1 | '110': 1 | '111': 1 | '112': 1 | '113': 1 | '117': 1 | '118': 2 | '119': 2 | '120': 2 | '122': 1 | '126': 2 | '128': 5 | '129': 1 | '132': 1 | '135': 1 | '136': 1 | '139': 4 | '140': 2 | '142': 1 | '144': 1 | '147': 2 | '149': 1 | '151': 1 | '152': 1 | '154': 1 | '156': 2 | '157': 1 | '158': 1 | '162': 2 | '163': 1 | '165': 1 | '168': 2 | '170': 1 | '171': 2 | '172': 1 | '173': 2 | '174': 2 | '176': 1 | '177': 1 | '181': 2 | '182': 3 | '183': 4 | '187': 2 | '189': 1 | '192': 2 | '193': 1 | '195': 2 | '196': 2 | '197': 1 | '198': 2 | '199': 2 | '200': 1 | '202': 1 | '204': 1 | '207': 1 | '209': 1 | '211': 4 | '213': 1 | '215': 1 | '217': 2 | '218': 2 | '221': 1 | '222': 1 | '223': 3 | '224': 2 | '225': 2 | '226': 1 | '230': 1 | '232': 1 | '234': 3 | '235': 2 | '236': 1 | '238': 2 | '239': 2 | '240': 1 | '241': 2 | '242': 1 | '243': 2 | '245': 1 | '246': 2 | '247': 2 | '248': 2 | '250': 1 | '251': 3 | '253': 1 | '254': 1 | '256': 1 | '257': 1 | '258': 2 | '259': 2 | '262': 1 | '267': 2 | '268': 1 | '269': 1 | '272': 1 | '274': 2 | '276': 1 | '278': 1 | '283': 1 | '285': 1 | '287': 3 | '288': 1 | '289': 1 | '291': 2 | '295': 2 | '296': 1 | '299': 1 | '300': 1 | '301': 3 | '302': 1 | '303': 2 | '305': 2 | '306': 3 | '307': 1 | '309': 1 | '310': 2 | '311': 2 | '312': 1 | '316': 1 | '318': 1 | '319': 1 | '320': 1 | '321': 1 | '322': 1 | '323': 2 | '324': 1 | '325': 2 | '327': 2 | '330': 1 | '331': 1 | '332': 2 | '334': 1 | '335': 1 | '338': 1 | '340': 1 | '341': 1 | '342': 1 | '345': 4 | '347': 3 | '348': 2 | '349': 1 | '350': 2 | '351': 1 | '353': 3 | '354': 1 | '355': 1 | '357': 1 | '358': 1 | '359': 1 | '360': 1 | '361': 1 | '362': 1 | '363': 1 | '365': 3 | '367': 4 | '368': 1 | '369': 4 | '371': 3 | '372': 2 | '373': 1 | '374': 1 | '375': 1 | '380': 1 | '381': 2 | '382': 3 | '383': 1 | '384': 2 | '385': 1 | '386': 2 | '387': 2 | '389': 2 | '390': 2 | '391': 1 | '392': 1 | '393': 2 | '394': 2 | '396': 1 | '397': 1 | '398': 3 | '399': 1 | '400': 3 | '402': 2 | \n",
      "-----------------\n",
      "49 | 219 296 269 79 46 370 121 306 \n",
      "-----------------\n",
      "48 | 167 229 368 308 80 332 96 3 \n",
      "-----------------\n",
      "47 | 382 312 329 226 64 243 346 235 \n",
      "-----------------\n",
      "46 | 370 365 211 58 116 127 131 174 \n",
      "-----------------\n",
      "45 | 271 317 221 71 346 387 356 122 \n",
      "-----------------\n",
      "44 | 173 206 350 73 188 27 236 398 \n",
      "-----------------\n",
      "43 | 347 127 278 344 91 287 228 126 \n",
      "-----------------\n",
      "42 | 190 144 333 295 212 116 377 145 \n",
      "-----------------\n",
      "41 | 169 224 234 212 348 355 66 220 \n",
      "-----------------\n",
      "40 | 337 48 169 56 25 282 295 137 \n",
      "\n",
      "40 | Labels counts: \n",
      "  current: | '295': 1 | '169': 1 | '48': 1 | '337': 1 | '137': 1 | '56': 1 | '25': 1 | '282': 1 | \n",
      "    total: | '3': 2 | '4': 1 | '5': 2 | '8': 1 | '9': 1 | '10': 1 | '12': 2 | '14': 1 | '15': 3 | '17': 5 | '19': 2 | '20': 3 | '23': 1 | '24': 1 | '25': 4 | '26': 1 | '27': 3 | '29': 1 | '30': 1 | '32': 3 | '34': 1 | '35': 3 | '36': 1 | '37': 2 | '39': 1 | '41': 2 | '44': 1 | '46': 4 | '47': 1 | '48': 3 | '49': 3 | '50': 2 | '51': 2 | '52': 1 | '53': 2 | '56': 1 | '57': 1 | '58': 2 | '59': 5 | '60': 2 | '62': 2 | '64': 3 | '65': 3 | '66': 3 | '68': 1 | '71': 3 | '72': 2 | '73': 2 | '74': 1 | '76': 1 | '77': 5 | '78': 1 | '79': 2 | '80': 1 | '81': 1 | '82': 1 | '83': 1 | '84': 1 | '85': 1 | '90': 3 | '91': 2 | '93': 1 | '94': 1 | '95': 2 | '96': 2 | '97': 2 | '102': 1 | '103': 2 | '104': 2 | '106': 1 | '107': 1 | '109': 1 | '110': 1 | '111': 1 | '112': 1 | '113': 1 | '116': 2 | '117': 1 | '118': 2 | '119': 2 | '120': 2 | '121': 1 | '122': 2 | '126': 3 | '127': 2 | '128': 5 | '129': 1 | '131': 1 | '132': 1 | '135': 1 | '136': 1 | '137': 1 | '139': 4 | '140': 2 | '142': 1 | '144': 2 | '145': 1 | '147': 2 | '149': 1 | '151': 1 | '152': 1 | '154': 1 | '156': 2 | '157': 1 | '158': 1 | '162': 2 | '163': 1 | '165': 1 | '167': 1 | '168': 2 | '169': 2 | '170': 1 | '171': 2 | '172': 1 | '173': 3 | '174': 3 | '176': 1 | '177': 1 | '181': 2 | '182': 3 | '183': 4 | '187': 2 | '188': 1 | '189': 1 | '190': 1 | '192': 2 | '193': 1 | '195': 2 | '196': 2 | '197': 1 | '198': 2 | '199': 2 | '200': 1 | '202': 1 | '204': 1 | '206': 1 | '207': 1 | '209': 1 | '211': 5 | '212': 2 | '213': 1 | '215': 1 | '217': 2 | '218': 2 | '219': 1 | '220': 1 | '221': 2 | '222': 1 | '223': 3 | '224': 3 | '225': 2 | '226': 2 | '228': 1 | '229': 1 | '230': 1 | '232': 1 | '234': 4 | '235': 3 | '236': 2 | '238': 2 | '239': 2 | '240': 1 | '241': 2 | '242': 1 | '243': 3 | '245': 1 | '246': 2 | '247': 2 | '248': 2 | '250': 1 | '251': 3 | '253': 1 | '254': 1 | '256': 1 | '257': 1 | '258': 2 | '259': 2 | '262': 1 | '267': 2 | '268': 1 | '269': 2 | '271': 1 | '272': 1 | '274': 2 | '276': 1 | '278': 2 | '282': 1 | '283': 1 | '285': 1 | '287': 4 | '288': 1 | '289': 1 | '291': 2 | '295': 4 | '296': 2 | '299': 1 | '300': 1 | '301': 3 | '302': 1 | '303': 2 | '305': 2 | '306': 4 | '307': 1 | '308': 1 | '309': 1 | '310': 2 | '311': 2 | '312': 2 | '316': 1 | '317': 1 | '318': 1 | '319': 1 | '320': 1 | '321': 1 | '322': 1 | '323': 2 | '324': 1 | '325': 2 | '327': 2 | '329': 1 | '330': 1 | '331': 1 | '332': 3 | '333': 1 | '334': 1 | '335': 1 | '337': 1 | '338': 1 | '340': 1 | '341': 1 | '342': 1 | '344': 1 | '345': 4 | '346': 2 | '347': 4 | '348': 3 | '349': 1 | '350': 3 | '351': 1 | '353': 3 | '354': 1 | '355': 2 | '356': 1 | '357': 1 | '358': 1 | '359': 1 | '360': 1 | '361': 1 | '362': 1 | '363': 1 | '365': 4 | '367': 4 | '368': 2 | '369': 4 | '370': 2 | '371': 3 | '372': 2 | '373': 1 | '374': 1 | '375': 1 | '377': 1 | '380': 1 | '381': 2 | '382': 4 | '383': 1 | '384': 2 | '385': 1 | '386': 2 | '387': 3 | '389': 2 | '390': 2 | '391': 1 | '392': 1 | '393': 2 | '394': 2 | '396': 1 | '397': 1 | '398': 4 | '399': 1 | '400': 3 | '402': 2 | \n",
      "-----------------\n",
      "39 | 108 224 261 162 82 150 280 234 \n",
      "-----------------\n",
      "38 | 209 3 32 61 339 48 125 216 \n",
      "-----------------\n",
      "37 | 248 394 165 1 200 331 39 141 \n",
      "-----------------\n",
      "36 | 341 93 111 169 321 123 255 86 \n",
      "-----------------\n",
      "35 | 140 231 281 31 380 287 89 113 \n",
      "-----------------\n",
      "34 | 36 54 146 109 97 233 241 177 \n",
      "-----------------\n",
      "33 | 259 226 121 245 316 256 317 51 \n",
      "-----------------\n",
      "32 | 285 97 11 53 160 95 134 44 \n",
      "-----------------\n",
      "31 | 43 387 166 368 338 132 11 61 \n",
      "-----------------\n",
      "30 | 64 122 212 249 312 341 88 317 \n",
      "\n",
      "30 | Labels counts: \n",
      "  current: | '64': 1 | '88': 1 | '212': 1 | '341': 1 | '312': 1 | '249': 1 | '122': 1 | '317': 1 | \n",
      "    total: | '1': 1 | '3': 3 | '4': 1 | '5': 2 | '8': 1 | '9': 1 | '10': 1 | '11': 2 | '12': 2 | '14': 1 | '15': 3 | '17': 5 | '19': 2 | '20': 3 | '23': 1 | '24': 1 | '25': 4 | '26': 1 | '27': 3 | '29': 1 | '30': 1 | '31': 1 | '32': 4 | '34': 1 | '35': 3 | '36': 2 | '37': 2 | '39': 2 | '41': 2 | '43': 1 | '44': 2 | '46': 4 | '47': 1 | '48': 4 | '49': 3 | '50': 2 | '51': 3 | '52': 1 | '53': 3 | '54': 1 | '56': 1 | '57': 1 | '58': 2 | '59': 5 | '60': 2 | '61': 2 | '62': 2 | '64': 4 | '65': 3 | '66': 3 | '68': 1 | '71': 3 | '72': 2 | '73': 2 | '74': 1 | '76': 1 | '77': 5 | '78': 1 | '79': 2 | '80': 1 | '81': 1 | '82': 2 | '83': 1 | '84': 1 | '85': 1 | '86': 1 | '88': 1 | '89': 1 | '90': 3 | '91': 2 | '93': 2 | '94': 1 | '95': 3 | '96': 2 | '97': 4 | '102': 1 | '103': 2 | '104': 2 | '106': 1 | '107': 1 | '108': 1 | '109': 2 | '110': 1 | '111': 2 | '112': 1 | '113': 2 | '116': 2 | '117': 1 | '118': 2 | '119': 2 | '120': 2 | '121': 2 | '122': 3 | '123': 1 | '125': 1 | '126': 3 | '127': 2 | '128': 5 | '129': 1 | '131': 1 | '132': 2 | '134': 1 | '135': 1 | '136': 1 | '137': 1 | '139': 4 | '140': 3 | '141': 1 | '142': 1 | '144': 2 | '145': 1 | '146': 1 | '147': 2 | '149': 1 | '150': 1 | '151': 1 | '152': 1 | '154': 1 | '156': 2 | '157': 1 | '158': 1 | '160': 1 | '162': 3 | '163': 1 | '165': 2 | '166': 1 | '167': 1 | '168': 2 | '169': 3 | '170': 1 | '171': 2 | '172': 1 | '173': 3 | '174': 3 | '176': 1 | '177': 2 | '181': 2 | '182': 3 | '183': 4 | '187': 2 | '188': 1 | '189': 1 | '190': 1 | '192': 2 | '193': 1 | '195': 2 | '196': 2 | '197': 1 | '198': 2 | '199': 2 | '200': 2 | '202': 1 | '204': 1 | '206': 1 | '207': 1 | '209': 2 | '211': 5 | '212': 3 | '213': 1 | '215': 1 | '216': 1 | '217': 2 | '218': 2 | '219': 1 | '220': 1 | '221': 2 | '222': 1 | '223': 3 | '224': 4 | '225': 2 | '226': 3 | '228': 1 | '229': 1 | '230': 1 | '231': 1 | '232': 1 | '233': 1 | '234': 5 | '235': 3 | '236': 2 | '238': 2 | '239': 2 | '240': 1 | '241': 3 | '242': 1 | '243': 3 | '245': 2 | '246': 2 | '247': 2 | '248': 3 | '249': 1 | '250': 1 | '251': 3 | '253': 1 | '254': 1 | '255': 1 | '256': 2 | '257': 1 | '258': 2 | '259': 3 | '261': 1 | '262': 1 | '267': 2 | '268': 1 | '269': 2 | '271': 1 | '272': 1 | '274': 2 | '276': 1 | '278': 2 | '280': 1 | '281': 1 | '282': 1 | '283': 1 | '285': 2 | '287': 5 | '288': 1 | '289': 1 | '291': 2 | '295': 4 | '296': 2 | '299': 1 | '300': 1 | '301': 3 | '302': 1 | '303': 2 | '305': 2 | '306': 4 | '307': 1 | '308': 1 | '309': 1 | '310': 2 | '311': 2 | '312': 3 | '316': 2 | '317': 3 | '318': 1 | '319': 1 | '320': 1 | '321': 2 | '322': 1 | '323': 2 | '324': 1 | '325': 2 | '327': 2 | '329': 1 | '330': 1 | '331': 2 | '332': 3 | '333': 1 | '334': 1 | '335': 1 | '337': 1 | '338': 2 | '339': 1 | '340': 1 | '341': 3 | '342': 1 | '344': 1 | '345': 4 | '346': 2 | '347': 4 | '348': 3 | '349': 1 | '350': 3 | '351': 1 | '353': 3 | '354': 1 | '355': 2 | '356': 1 | '357': 1 | '358': 1 | '359': 1 | '360': 1 | '361': 1 | '362': 1 | '363': 1 | '365': 4 | '367': 4 | '368': 3 | '369': 4 | '370': 2 | '371': 3 | '372': 2 | '373': 1 | '374': 1 | '375': 1 | '377': 1 | '380': 2 | '381': 2 | '382': 4 | '383': 1 | '384': 2 | '385': 1 | '386': 2 | '387': 4 | '389': 2 | '390': 2 | '391': 1 | '392': 1 | '393': 2 | '394': 3 | '396': 1 | '397': 1 | '398': 4 | '399': 1 | '400': 3 | '402': 2 | \n",
      "-----------------\n",
      "29 | 381 157 1 190 63 178 9 329 \n",
      "-----------------\n",
      "28 | 63 354 245 362 95 171 337 246 \n",
      "-----------------\n",
      "27 | 188 255 101 33 13 57 325 62 \n",
      "-----------------\n",
      "26 | 228 191 9 208 76 142 99 93 \n"
     ]
    },
    {
     "name": "stdout",
     "output_type": "stream",
     "text": [
      "-----------------\n",
      "25 | 66 317 383 212 387 314 196 195 \n",
      "-----------------\n",
      "24 | 10 265 230 37 277 338 76 45 \n",
      "-----------------\n",
      "23 | 180 386 274 217 60 397 323 213 \n",
      "-----------------\n",
      "22 | 172 165 37 70 75 80 267 251 \n",
      "-----------------\n",
      "21 | 396 213 212 287 175 249 290 368 \n",
      "-----------------\n",
      "20 | 225 156 108 290 291 395 276 119 \n",
      "\n",
      "20 | Labels counts: \n",
      "  current: | '225': 1 | '290': 1 | '291': 1 | '395': 1 | '108': 1 | '276': 1 | '119': 1 | '156': 1 | \n",
      "    total: | '1': 2 | '3': 3 | '4': 1 | '5': 2 | '8': 1 | '9': 3 | '10': 2 | '11': 2 | '12': 2 | '13': 1 | '14': 1 | '15': 3 | '17': 5 | '19': 2 | '20': 3 | '23': 1 | '24': 1 | '25': 4 | '26': 1 | '27': 3 | '29': 1 | '30': 1 | '31': 1 | '32': 4 | '33': 1 | '34': 1 | '35': 3 | '36': 2 | '37': 4 | '39': 2 | '41': 2 | '43': 1 | '44': 2 | '45': 1 | '46': 4 | '47': 1 | '48': 4 | '49': 3 | '50': 2 | '51': 3 | '52': 1 | '53': 3 | '54': 1 | '56': 1 | '57': 2 | '58': 2 | '59': 5 | '60': 3 | '61': 2 | '62': 3 | '63': 2 | '64': 4 | '65': 3 | '66': 4 | '68': 1 | '70': 1 | '71': 3 | '72': 2 | '73': 2 | '74': 1 | '75': 1 | '76': 3 | '77': 5 | '78': 1 | '79': 2 | '80': 2 | '81': 1 | '82': 2 | '83': 1 | '84': 1 | '85': 1 | '86': 1 | '88': 1 | '89': 1 | '90': 3 | '91': 2 | '93': 3 | '94': 1 | '95': 4 | '96': 2 | '97': 4 | '99': 1 | '101': 1 | '102': 1 | '103': 2 | '104': 2 | '106': 1 | '107': 1 | '108': 2 | '109': 2 | '110': 1 | '111': 2 | '112': 1 | '113': 2 | '116': 2 | '117': 1 | '118': 2 | '119': 3 | '120': 2 | '121': 2 | '122': 3 | '123': 1 | '125': 1 | '126': 3 | '127': 2 | '128': 5 | '129': 1 | '131': 1 | '132': 2 | '134': 1 | '135': 1 | '136': 1 | '137': 1 | '139': 4 | '140': 3 | '141': 1 | '142': 2 | '144': 2 | '145': 1 | '146': 1 | '147': 2 | '149': 1 | '150': 1 | '151': 1 | '152': 1 | '154': 1 | '156': 3 | '157': 2 | '158': 1 | '160': 1 | '162': 3 | '163': 1 | '165': 3 | '166': 1 | '167': 1 | '168': 2 | '169': 3 | '170': 1 | '171': 3 | '172': 2 | '173': 3 | '174': 3 | '175': 1 | '176': 1 | '177': 2 | '178': 1 | '180': 1 | '181': 2 | '182': 3 | '183': 4 | '187': 2 | '188': 2 | '189': 1 | '190': 2 | '191': 1 | '192': 2 | '193': 1 | '195': 3 | '196': 3 | '197': 1 | '198': 2 | '199': 2 | '200': 2 | '202': 1 | '204': 1 | '206': 1 | '207': 1 | '208': 1 | '209': 2 | '211': 5 | '212': 5 | '213': 3 | '215': 1 | '216': 1 | '217': 3 | '218': 2 | '219': 1 | '220': 1 | '221': 2 | '222': 1 | '223': 3 | '224': 4 | '225': 3 | '226': 3 | '228': 2 | '229': 1 | '230': 2 | '231': 1 | '232': 1 | '233': 1 | '234': 5 | '235': 3 | '236': 2 | '238': 2 | '239': 2 | '240': 1 | '241': 3 | '242': 1 | '243': 3 | '245': 3 | '246': 3 | '247': 2 | '248': 3 | '249': 2 | '250': 1 | '251': 4 | '253': 1 | '254': 1 | '255': 2 | '256': 2 | '257': 1 | '258': 2 | '259': 3 | '261': 1 | '262': 1 | '265': 1 | '267': 3 | '268': 1 | '269': 2 | '271': 1 | '272': 1 | '274': 3 | '276': 2 | '277': 1 | '278': 2 | '280': 1 | '281': 1 | '282': 1 | '283': 1 | '285': 2 | '287': 6 | '288': 1 | '289': 1 | '290': 2 | '291': 3 | '295': 4 | '296': 2 | '299': 1 | '300': 1 | '301': 3 | '302': 1 | '303': 2 | '305': 2 | '306': 4 | '307': 1 | '308': 1 | '309': 1 | '310': 2 | '311': 2 | '312': 3 | '314': 1 | '316': 2 | '317': 4 | '318': 1 | '319': 1 | '320': 1 | '321': 2 | '322': 1 | '323': 3 | '324': 1 | '325': 3 | '327': 2 | '329': 2 | '330': 1 | '331': 2 | '332': 3 | '333': 1 | '334': 1 | '335': 1 | '337': 2 | '338': 3 | '339': 1 | '340': 1 | '341': 3 | '342': 1 | '344': 1 | '345': 4 | '346': 2 | '347': 4 | '348': 3 | '349': 1 | '350': 3 | '351': 1 | '353': 3 | '354': 2 | '355': 2 | '356': 1 | '357': 1 | '358': 1 | '359': 1 | '360': 1 | '361': 1 | '362': 2 | '363': 1 | '365': 4 | '367': 4 | '368': 4 | '369': 4 | '370': 2 | '371': 3 | '372': 2 | '373': 1 | '374': 1 | '375': 1 | '377': 1 | '380': 2 | '381': 3 | '382': 4 | '383': 2 | '384': 2 | '385': 1 | '386': 3 | '387': 5 | '389': 2 | '390': 2 | '391': 1 | '392': 1 | '393': 2 | '394': 3 | '395': 1 | '396': 2 | '397': 2 | '398': 4 | '399': 1 | '400': 3 | '402': 2 | \n",
      "-----------------\n",
      "19 | 186 200 398 252 294 130 139 231 \n",
      "-----------------\n",
      "18 | 88 333 402 242 117 31 215 101 \n",
      "-----------------\n",
      "17 | 5 215 42 130 295 265 395 314 \n",
      "-----------------\n",
      "16 | 34 325 44 211 237 17 121 197 \n",
      "-----------------\n",
      "15 | 298 228 70 383 191 112 275 375 \n",
      "-----------------\n",
      "14 | 358 163 88 350 305 301 245 133 \n",
      "-----------------\n",
      "13 | 23 193 180 260 370 361 145 283 \n",
      "-----------------\n",
      "12 | 24 169 358 119 327 304 114 89 \n",
      "-----------------\n",
      "11 | 356 93 218 318 378 156 227 3 \n",
      "-----------------\n",
      "10 | 123 79 139 148 217 101 190 393 \n",
      "\n",
      "10 | Labels counts: \n",
      "  current: | '101': 1 | '393': 1 | '139': 1 | '79': 1 | '148': 1 | '217': 1 | '123': 1 | '190': 1 | \n",
      "    total: | '1': 2 | '3': 4 | '4': 1 | '5': 3 | '8': 1 | '9': 3 | '10': 2 | '11': 2 | '12': 2 | '13': 1 | '14': 1 | '15': 3 | '17': 6 | '19': 2 | '20': 3 | '23': 2 | '24': 2 | '25': 4 | '26': 1 | '27': 3 | '29': 1 | '30': 1 | '31': 2 | '32': 4 | '33': 1 | '34': 2 | '35': 3 | '36': 2 | '37': 4 | '39': 2 | '41': 2 | '42': 1 | '43': 1 | '44': 3 | '45': 1 | '46': 4 | '47': 1 | '48': 4 | '49': 3 | '50': 2 | '51': 3 | '52': 1 | '53': 3 | '54': 1 | '56': 1 | '57': 2 | '58': 2 | '59': 5 | '60': 3 | '61': 2 | '62': 3 | '63': 2 | '64': 4 | '65': 3 | '66': 4 | '68': 1 | '70': 2 | '71': 3 | '72': 2 | '73': 2 | '74': 1 | '75': 1 | '76': 3 | '77': 5 | '78': 1 | '79': 3 | '80': 2 | '81': 1 | '82': 2 | '83': 1 | '84': 1 | '85': 1 | '86': 1 | '88': 3 | '89': 2 | '90': 3 | '91': 2 | '93': 4 | '94': 1 | '95': 4 | '96': 2 | '97': 4 | '99': 1 | '101': 3 | '102': 1 | '103': 2 | '104': 2 | '106': 1 | '107': 1 | '108': 2 | '109': 2 | '110': 1 | '111': 2 | '112': 2 | '113': 2 | '114': 1 | '116': 2 | '117': 2 | '118': 2 | '119': 4 | '120': 2 | '121': 3 | '122': 3 | '123': 2 | '125': 1 | '126': 3 | '127': 2 | '128': 5 | '129': 1 | '130': 2 | '131': 1 | '132': 2 | '133': 1 | '134': 1 | '135': 1 | '136': 1 | '137': 1 | '139': 6 | '140': 3 | '141': 1 | '142': 2 | '144': 2 | '145': 2 | '146': 1 | '147': 2 | '148': 1 | '149': 1 | '150': 1 | '151': 1 | '152': 1 | '154': 1 | '156': 4 | '157': 2 | '158': 1 | '160': 1 | '162': 3 | '163': 2 | '165': 3 | '166': 1 | '167': 1 | '168': 2 | '169': 4 | '170': 1 | '171': 3 | '172': 2 | '173': 3 | '174': 3 | '175': 1 | '176': 1 | '177': 2 | '178': 1 | '180': 2 | '181': 2 | '182': 3 | '183': 4 | '186': 1 | '187': 2 | '188': 2 | '189': 1 | '190': 3 | '191': 2 | '192': 2 | '193': 2 | '195': 3 | '196': 3 | '197': 2 | '198': 2 | '199': 2 | '200': 3 | '202': 1 | '204': 1 | '206': 1 | '207': 1 | '208': 1 | '209': 2 | '211': 6 | '212': 5 | '213': 3 | '215': 3 | '216': 1 | '217': 4 | '218': 3 | '219': 1 | '220': 1 | '221': 2 | '222': 1 | '223': 3 | '224': 4 | '225': 3 | '226': 3 | '227': 1 | '228': 3 | '229': 1 | '230': 2 | '231': 2 | '232': 1 | '233': 1 | '234': 5 | '235': 3 | '236': 2 | '237': 1 | '238': 2 | '239': 2 | '240': 1 | '241': 3 | '242': 2 | '243': 3 | '245': 4 | '246': 3 | '247': 2 | '248': 3 | '249': 2 | '250': 1 | '251': 4 | '252': 1 | '253': 1 | '254': 1 | '255': 2 | '256': 2 | '257': 1 | '258': 2 | '259': 3 | '260': 1 | '261': 1 | '262': 1 | '265': 2 | '267': 3 | '268': 1 | '269': 2 | '271': 1 | '272': 1 | '274': 3 | '275': 1 | '276': 2 | '277': 1 | '278': 2 | '280': 1 | '281': 1 | '282': 1 | '283': 2 | '285': 2 | '287': 6 | '288': 1 | '289': 1 | '290': 2 | '291': 3 | '294': 1 | '295': 5 | '296': 2 | '298': 1 | '299': 1 | '300': 1 | '301': 4 | '302': 1 | '303': 2 | '304': 1 | '305': 3 | '306': 4 | '307': 1 | '308': 1 | '309': 1 | '310': 2 | '311': 2 | '312': 3 | '314': 2 | '316': 2 | '317': 4 | '318': 2 | '319': 1 | '320': 1 | '321': 2 | '322': 1 | '323': 3 | '324': 1 | '325': 4 | '327': 3 | '329': 2 | '330': 1 | '331': 2 | '332': 3 | '333': 2 | '334': 1 | '335': 1 | '337': 2 | '338': 3 | '339': 1 | '340': 1 | '341': 3 | '342': 1 | '344': 1 | '345': 4 | '346': 2 | '347': 4 | '348': 3 | '349': 1 | '350': 4 | '351': 1 | '353': 3 | '354': 2 | '355': 2 | '356': 2 | '357': 1 | '358': 3 | '359': 1 | '360': 1 | '361': 2 | '362': 2 | '363': 1 | '365': 4 | '367': 4 | '368': 4 | '369': 4 | '370': 3 | '371': 3 | '372': 2 | '373': 1 | '374': 1 | '375': 2 | '377': 1 | '378': 1 | '380': 2 | '381': 3 | '382': 4 | '383': 3 | '384': 2 | '385': 1 | '386': 3 | '387': 5 | '389': 2 | '390': 2 | '391': 1 | '392': 1 | '393': 3 | '394': 3 | '395': 2 | '396': 2 | '397': 2 | '398': 5 | '399': 1 | '400': 3 | '402': 3 | \n",
      "-----------------\n",
      "9 | 383 348 54 402 215 119 91 33 \n",
      "-----------------\n",
      "8 | 379 326 89 330 170 248 255 70 \n",
      "-----------------\n",
      "7 | 350 131 240 338 323 387 247 365 \n",
      "-----------------\n",
      "6 | 310 234 254 308 244 127 338 325 \n"
     ]
    },
    {
     "name": "stdout",
     "output_type": "stream",
     "text": [
      "-----------------\n",
      "5 | 360 191 357 351 127 72 290 336 \n",
      "-----------------\n",
      "4 | 222 283 232 184 85 318 311 83 \n",
      "-----------------\n",
      "3 | 179 258 127 346 209 376 156 32 \n",
      "-----------------\n",
      "2 | 384 377 138 299 195 78 168 313 \n",
      "-----------------\n",
      "1 | 30 329 161 245 32 101 45 155 \n"
     ]
    }
   ],
   "source": [
    "from collections import defaultdict, Hashable\n",
    "\n",
    "total_y_stats = defaultdict(int)\n",
    "\n",
    "\n",
    "max_counter = 100 # len(train_ids) // batch_size\n",
    "for batch_images, batch_labels in gen_train:\n",
    "\n",
    "    y_stats = defaultdict(int)\n",
    "    print('-----------------')\n",
    "    print(\"%i\" % max_counter, end=' | ')\n",
    "    for y in batch_labels:\n",
    "        class_index = np.where(y > 0)[0][0]\n",
    "        print(\"%i\" % class_index, end=' ')\n",
    "        if isinstance(class_index, Hashable):\n",
    "            total_y_stats[class_index] += 1 \n",
    "            y_stats[class_index] += 1\n",
    "    print('')\n",
    "    \n",
    "    if max_counter % 10 == 0:\n",
    "        print(\"\\n%i | Labels counts: \" % max_counter)\n",
    "\n",
    "        print(\"  current: | \", end='')\n",
    "        for k in y_stats:\n",
    "            print(\"'{}': {} |\".format(str(k), y_stats[k]), end=' ')\n",
    "        print('')\n",
    "        print(\"    total: | \", end='')\n",
    "        for k in total_y_stats:\n",
    "            print(\"'{}': {} |\".format(str(k), total_y_stats[k]), end=' ')\n",
    "        print('')   \n",
    "    \n",
    "    max_counter -= 1\n",
    "    if max_counter == 0:\n",
    "        break"
   ]
  },
  {
   "cell_type": "code",
   "execution_count": 117,
   "metadata": {},
   "outputs": [
    {
     "data": {
      "text/plain": [
       "(352, 403)"
      ]
     },
     "execution_count": 117,
     "metadata": {},
     "output_type": "execute_result"
    }
   ],
   "source": [
    "len(total_y_stats), n_classes"
   ]
  },
  {
   "cell_type": "code",
   "execution_count": 118,
   "metadata": {
    "scrolled": true
   },
   "outputs": [
    {
     "data": {
      "text/plain": [
       "[<matplotlib.lines.Line2D at 0x7f9ee3fe6990>]"
      ]
     },
     "execution_count": 118,
     "metadata": {},
     "output_type": "execute_result"
    },
    {
     "data": {
      "image/png": "[encoded data removed]",
      "text/plain": [
       "<matplotlib.figure.Figure at 0x7f9ee3ec15d0>"
      ]
     },
     "metadata": {},
     "output_type": "display_data"
    }
   ],
   "source": [
    "plt.plot(list(total_y_stats.keys()), list(total_y_stats.values()), 'g*')"
   ]
  },
  {
   "cell_type": "code",
   "execution_count": null,
   "metadata": {},
   "outputs": [],
   "source": []
  },
  {
   "cell_type": "code",
   "execution_count": null,
   "metadata": {},
   "outputs": [],
   "source": []
  }
 ],
 "metadata": {
  "kernelspec": {
   "display_name": "Python 2",
   "language": "python",
   "name": "python2"
  },
  "language_info": {
   "codemirror_mode": {
    "name": "ipython",
    "version": 2
   },
   "file_extension": ".py",
   "mimetype": "text/x-python",
   "name": "python",
   "nbconvert_exporter": "python",
   "pygments_lexer": "ipython2",
   "version": "2.7.12"
  }
 },
 "nbformat": 4,
 "nbformat_minor": 2
}
